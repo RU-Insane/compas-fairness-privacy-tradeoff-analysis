{
 "cells": [
  {
   "cell_type": "code",
   "execution_count": 1,
   "metadata": {
    "ExecuteTime": {
     "end_time": "2023-12-02T17:34:29.445957Z",
     "start_time": "2023-12-02T17:34:22.916489Z"
    },
    "id": "lsMbtZNVsmac"
   },
   "outputs": [],
   "source": [
    "# LOADING REQUIRED LIBRARIES\n",
    "# Data Visualization libraries\n",
    "import pandas as pd\n",
    "import seaborn as sns\n",
    "import numpy as np\n",
    "import os\n",
    "import matplotlib.pyplot as plt\n",
    "\n",
    "# %#matplotlib inline\n",
    "\n",
    "# Encoders\n",
    "from sklearn.preprocessing import LabelEncoder, OneHotEncoder, StandardScaler\n",
    "\n",
    "# Importing train, test split library\n",
    "from sklearn.model_selection import train_test_split\n",
    "\n",
    "# Metrices import\n",
    "from sklearn.metrics import accuracy_score\n",
    "from sklearn.metrics import f1_score\n",
    "from sklearn.metrics import confusion_matrix, roc_curve, make_scorer\n",
    "from sklearn.metrics import roc_auc_score, classification_report\n",
    "from sklearn.feature_selection import SelectFromModel\n",
    "from numpy import sort\n",
    "\n",
    "# Accuracy Check\n",
    "from sklearn.model_selection import cross_val_score\n",
    "\n",
    "# Importing custom packages\n",
    "from sklearn.base import TransformerMixin\n",
    "\n",
    "# Importing ML Model packages\n",
    "from sklearn.svm import SVC\n",
    "from sklearn.pipeline import make_pipeline\n",
    "from sklearn.feature_selection import RFE\n",
    "from sklearn.tree import DecisionTreeClassifier\n",
    "from sklearn.pipeline import Pipeline\n",
    "from sklearn.model_selection import RepeatedStratifiedKFold\n",
    "\n",
    "# from lightgbm import LGBMClassifier\n",
    "from xgboost import XGBClassifier\n",
    "from sklearn.linear_model import LogisticRegression\n",
    "from sklearn.ensemble import RandomForestClassifier\n",
    "\n",
    "# Hyperopt\n",
    "from hyperopt import tpe, hp, fmin, STATUS_OK, Trials, space_eval\n",
    "from hyperopt.pyll.base import scope\n",
    "\n",
    "# For proper display of all columns\n",
    "from IPython.display import display\n",
    "\n",
    "pd.options.display.max_columns = None\n",
    "\n",
    "# Import warnings\n",
    "import warnings\n",
    "\n",
    "warnings.filterwarnings(\"ignore\")\n",
    "\n",
    "import statsmodels.api as sm\n",
    "\n",
    "# Libraries for Pytorch\n",
    "import torch\n",
    "import torch.nn as nn\n",
    "import torch.optim as optim\n",
    "from torch.utils.data import TensorDataset, DataLoader\n",
    "import os\n",
    "\n",
    "# importing relevant packages related to Fair ML/AI\n",
    "import aif360\n",
    "import holisticai\n",
    "from aif360.datasets import BinaryLabelDataset\n",
    "\n",
    "# holisticai imports\n",
    "from holisticai.bias.metrics import classification_bias_metrics\n",
    "from holisticai.bias.metrics import statistical_parity\n",
    "from holisticai.bias.metrics import false_positive_rate_diff\n",
    "from holisticai.bias.metrics import equal_opportunity_diff\n",
    "from holisticai.bias.metrics import average_odds_diff\n",
    "from holisticai.bias.metrics import disparate_impact\n",
    "\n",
    "# Shap\n",
    "import shap"
   ]
  },
  {
   "cell_type": "code",
   "execution_count": 2,
   "metadata": {
    "ExecuteTime": {
     "end_time": "2023-12-02T17:34:29.520042Z",
     "start_time": "2023-12-02T17:34:29.448273Z"
    },
    "id": "HsQp_SB6sqYF"
   },
   "outputs": [],
   "source": [
    "# Read the data\n",
    "data_raw = pd.read_csv(\"../../data/compas-scores-two-years.csv\")"
   ]
  },
  {
   "cell_type": "code",
   "execution_count": 3,
   "metadata": {
    "ExecuteTime": {
     "end_time": "2023-12-02T17:34:30.397486Z",
     "start_time": "2023-12-02T17:34:30.359005Z"
    },
    "colab": {
     "base_uri": "https://localhost:8080/",
     "height": 330
    },
    "id": "10i0K-P0sqaj",
    "outputId": "ab881878-f4ad-4bf6-99e8-09948c26708a"
   },
   "outputs": [
    {
     "data": {
      "text/html": [
       "<div>\n",
       "<style scoped>\n",
       "    .dataframe tbody tr th:only-of-type {\n",
       "        vertical-align: middle;\n",
       "    }\n",
       "\n",
       "    .dataframe tbody tr th {\n",
       "        vertical-align: top;\n",
       "    }\n",
       "\n",
       "    .dataframe thead th {\n",
       "        text-align: right;\n",
       "    }\n",
       "</style>\n",
       "<table border=\"1\" class=\"dataframe\">\n",
       "  <thead>\n",
       "    <tr style=\"text-align: right;\">\n",
       "      <th></th>\n",
       "      <th>id</th>\n",
       "      <th>name</th>\n",
       "      <th>first</th>\n",
       "      <th>last</th>\n",
       "      <th>compas_screening_date</th>\n",
       "      <th>sex</th>\n",
       "      <th>dob</th>\n",
       "      <th>age</th>\n",
       "      <th>age_cat</th>\n",
       "      <th>race</th>\n",
       "      <th>juv_fel_count</th>\n",
       "      <th>decile_score</th>\n",
       "      <th>juv_misd_count</th>\n",
       "      <th>juv_other_count</th>\n",
       "      <th>priors_count</th>\n",
       "      <th>days_b_screening_arrest</th>\n",
       "      <th>c_jail_in</th>\n",
       "      <th>c_jail_out</th>\n",
       "      <th>c_case_number</th>\n",
       "      <th>c_offense_date</th>\n",
       "      <th>c_arrest_date</th>\n",
       "      <th>c_days_from_compas</th>\n",
       "      <th>c_charge_degree</th>\n",
       "      <th>c_charge_desc</th>\n",
       "      <th>is_recid</th>\n",
       "      <th>r_case_number</th>\n",
       "      <th>r_charge_degree</th>\n",
       "      <th>r_days_from_arrest</th>\n",
       "      <th>r_offense_date</th>\n",
       "      <th>r_charge_desc</th>\n",
       "      <th>r_jail_in</th>\n",
       "      <th>r_jail_out</th>\n",
       "      <th>violent_recid</th>\n",
       "      <th>is_violent_recid</th>\n",
       "      <th>vr_case_number</th>\n",
       "      <th>vr_charge_degree</th>\n",
       "      <th>vr_offense_date</th>\n",
       "      <th>vr_charge_desc</th>\n",
       "      <th>type_of_assessment</th>\n",
       "      <th>decile_score.1</th>\n",
       "      <th>score_text</th>\n",
       "      <th>screening_date</th>\n",
       "      <th>v_type_of_assessment</th>\n",
       "      <th>v_decile_score</th>\n",
       "      <th>v_score_text</th>\n",
       "      <th>v_screening_date</th>\n",
       "      <th>in_custody</th>\n",
       "      <th>out_custody</th>\n",
       "      <th>priors_count.1</th>\n",
       "      <th>start</th>\n",
       "      <th>end</th>\n",
       "      <th>event</th>\n",
       "      <th>two_year_recid</th>\n",
       "    </tr>\n",
       "  </thead>\n",
       "  <tbody>\n",
       "    <tr>\n",
       "      <th>0</th>\n",
       "      <td>1</td>\n",
       "      <td>miguel hernandez</td>\n",
       "      <td>miguel</td>\n",
       "      <td>hernandez</td>\n",
       "      <td>2013-08-14</td>\n",
       "      <td>Male</td>\n",
       "      <td>1947-04-18</td>\n",
       "      <td>69</td>\n",
       "      <td>Greater than 45</td>\n",
       "      <td>Other</td>\n",
       "      <td>0</td>\n",
       "      <td>1</td>\n",
       "      <td>0</td>\n",
       "      <td>0</td>\n",
       "      <td>0</td>\n",
       "      <td>-1.0</td>\n",
       "      <td>2013-08-13 06:03:42</td>\n",
       "      <td>2013-08-14 05:41:20</td>\n",
       "      <td>13011352CF10A</td>\n",
       "      <td>2013-08-13</td>\n",
       "      <td>NaN</td>\n",
       "      <td>1.0</td>\n",
       "      <td>F</td>\n",
       "      <td>Aggravated Assault w/Firearm</td>\n",
       "      <td>0</td>\n",
       "      <td>NaN</td>\n",
       "      <td>NaN</td>\n",
       "      <td>NaN</td>\n",
       "      <td>NaN</td>\n",
       "      <td>NaN</td>\n",
       "      <td>NaN</td>\n",
       "      <td>NaN</td>\n",
       "      <td>NaN</td>\n",
       "      <td>0</td>\n",
       "      <td>NaN</td>\n",
       "      <td>NaN</td>\n",
       "      <td>NaN</td>\n",
       "      <td>NaN</td>\n",
       "      <td>Risk of Recidivism</td>\n",
       "      <td>1</td>\n",
       "      <td>Low</td>\n",
       "      <td>2013-08-14</td>\n",
       "      <td>Risk of Violence</td>\n",
       "      <td>1</td>\n",
       "      <td>Low</td>\n",
       "      <td>2013-08-14</td>\n",
       "      <td>2014-07-07</td>\n",
       "      <td>2014-07-14</td>\n",
       "      <td>0</td>\n",
       "      <td>0</td>\n",
       "      <td>327</td>\n",
       "      <td>0</td>\n",
       "      <td>0</td>\n",
       "    </tr>\n",
       "    <tr>\n",
       "      <th>1</th>\n",
       "      <td>3</td>\n",
       "      <td>kevon dixon</td>\n",
       "      <td>kevon</td>\n",
       "      <td>dixon</td>\n",
       "      <td>2013-01-27</td>\n",
       "      <td>Male</td>\n",
       "      <td>1982-01-22</td>\n",
       "      <td>34</td>\n",
       "      <td>25 - 45</td>\n",
       "      <td>African-American</td>\n",
       "      <td>0</td>\n",
       "      <td>3</td>\n",
       "      <td>0</td>\n",
       "      <td>0</td>\n",
       "      <td>0</td>\n",
       "      <td>-1.0</td>\n",
       "      <td>2013-01-26 03:45:27</td>\n",
       "      <td>2013-02-05 05:36:53</td>\n",
       "      <td>13001275CF10A</td>\n",
       "      <td>2013-01-26</td>\n",
       "      <td>NaN</td>\n",
       "      <td>1.0</td>\n",
       "      <td>F</td>\n",
       "      <td>Felony Battery w/Prior Convict</td>\n",
       "      <td>1</td>\n",
       "      <td>13009779CF10A</td>\n",
       "      <td>(F3)</td>\n",
       "      <td>NaN</td>\n",
       "      <td>2013-07-05</td>\n",
       "      <td>Felony Battery (Dom Strang)</td>\n",
       "      <td>NaN</td>\n",
       "      <td>NaN</td>\n",
       "      <td>NaN</td>\n",
       "      <td>1</td>\n",
       "      <td>13009779CF10A</td>\n",
       "      <td>(F3)</td>\n",
       "      <td>2013-07-05</td>\n",
       "      <td>Felony Battery (Dom Strang)</td>\n",
       "      <td>Risk of Recidivism</td>\n",
       "      <td>3</td>\n",
       "      <td>Low</td>\n",
       "      <td>2013-01-27</td>\n",
       "      <td>Risk of Violence</td>\n",
       "      <td>1</td>\n",
       "      <td>Low</td>\n",
       "      <td>2013-01-27</td>\n",
       "      <td>2013-01-26</td>\n",
       "      <td>2013-02-05</td>\n",
       "      <td>0</td>\n",
       "      <td>9</td>\n",
       "      <td>159</td>\n",
       "      <td>1</td>\n",
       "      <td>1</td>\n",
       "    </tr>\n",
       "    <tr>\n",
       "      <th>2</th>\n",
       "      <td>4</td>\n",
       "      <td>ed philo</td>\n",
       "      <td>ed</td>\n",
       "      <td>philo</td>\n",
       "      <td>2013-04-14</td>\n",
       "      <td>Male</td>\n",
       "      <td>1991-05-14</td>\n",
       "      <td>24</td>\n",
       "      <td>Less than 25</td>\n",
       "      <td>African-American</td>\n",
       "      <td>0</td>\n",
       "      <td>4</td>\n",
       "      <td>0</td>\n",
       "      <td>1</td>\n",
       "      <td>4</td>\n",
       "      <td>-1.0</td>\n",
       "      <td>2013-04-13 04:58:34</td>\n",
       "      <td>2013-04-14 07:02:04</td>\n",
       "      <td>13005330CF10A</td>\n",
       "      <td>2013-04-13</td>\n",
       "      <td>NaN</td>\n",
       "      <td>1.0</td>\n",
       "      <td>F</td>\n",
       "      <td>Possession of Cocaine</td>\n",
       "      <td>1</td>\n",
       "      <td>13011511MM10A</td>\n",
       "      <td>(M1)</td>\n",
       "      <td>0.0</td>\n",
       "      <td>2013-06-16</td>\n",
       "      <td>Driving Under The Influence</td>\n",
       "      <td>2013-06-16</td>\n",
       "      <td>2013-06-16</td>\n",
       "      <td>NaN</td>\n",
       "      <td>0</td>\n",
       "      <td>NaN</td>\n",
       "      <td>NaN</td>\n",
       "      <td>NaN</td>\n",
       "      <td>NaN</td>\n",
       "      <td>Risk of Recidivism</td>\n",
       "      <td>4</td>\n",
       "      <td>Low</td>\n",
       "      <td>2013-04-14</td>\n",
       "      <td>Risk of Violence</td>\n",
       "      <td>3</td>\n",
       "      <td>Low</td>\n",
       "      <td>2013-04-14</td>\n",
       "      <td>2013-06-16</td>\n",
       "      <td>2013-06-16</td>\n",
       "      <td>4</td>\n",
       "      <td>0</td>\n",
       "      <td>63</td>\n",
       "      <td>0</td>\n",
       "      <td>1</td>\n",
       "    </tr>\n",
       "    <tr>\n",
       "      <th>3</th>\n",
       "      <td>5</td>\n",
       "      <td>marcu brown</td>\n",
       "      <td>marcu</td>\n",
       "      <td>brown</td>\n",
       "      <td>2013-01-13</td>\n",
       "      <td>Male</td>\n",
       "      <td>1993-01-21</td>\n",
       "      <td>23</td>\n",
       "      <td>Less than 25</td>\n",
       "      <td>African-American</td>\n",
       "      <td>0</td>\n",
       "      <td>8</td>\n",
       "      <td>1</td>\n",
       "      <td>0</td>\n",
       "      <td>1</td>\n",
       "      <td>NaN</td>\n",
       "      <td>NaN</td>\n",
       "      <td>NaN</td>\n",
       "      <td>13000570CF10A</td>\n",
       "      <td>2013-01-12</td>\n",
       "      <td>NaN</td>\n",
       "      <td>1.0</td>\n",
       "      <td>F</td>\n",
       "      <td>Possession of Cannabis</td>\n",
       "      <td>0</td>\n",
       "      <td>NaN</td>\n",
       "      <td>NaN</td>\n",
       "      <td>NaN</td>\n",
       "      <td>NaN</td>\n",
       "      <td>NaN</td>\n",
       "      <td>NaN</td>\n",
       "      <td>NaN</td>\n",
       "      <td>NaN</td>\n",
       "      <td>0</td>\n",
       "      <td>NaN</td>\n",
       "      <td>NaN</td>\n",
       "      <td>NaN</td>\n",
       "      <td>NaN</td>\n",
       "      <td>Risk of Recidivism</td>\n",
       "      <td>8</td>\n",
       "      <td>High</td>\n",
       "      <td>2013-01-13</td>\n",
       "      <td>Risk of Violence</td>\n",
       "      <td>6</td>\n",
       "      <td>Medium</td>\n",
       "      <td>2013-01-13</td>\n",
       "      <td>NaN</td>\n",
       "      <td>NaN</td>\n",
       "      <td>1</td>\n",
       "      <td>0</td>\n",
       "      <td>1174</td>\n",
       "      <td>0</td>\n",
       "      <td>0</td>\n",
       "    </tr>\n",
       "    <tr>\n",
       "      <th>4</th>\n",
       "      <td>6</td>\n",
       "      <td>bouthy pierrelouis</td>\n",
       "      <td>bouthy</td>\n",
       "      <td>pierrelouis</td>\n",
       "      <td>2013-03-26</td>\n",
       "      <td>Male</td>\n",
       "      <td>1973-01-22</td>\n",
       "      <td>43</td>\n",
       "      <td>25 - 45</td>\n",
       "      <td>Other</td>\n",
       "      <td>0</td>\n",
       "      <td>1</td>\n",
       "      <td>0</td>\n",
       "      <td>0</td>\n",
       "      <td>2</td>\n",
       "      <td>NaN</td>\n",
       "      <td>NaN</td>\n",
       "      <td>NaN</td>\n",
       "      <td>12014130CF10A</td>\n",
       "      <td>NaN</td>\n",
       "      <td>2013-01-09</td>\n",
       "      <td>76.0</td>\n",
       "      <td>F</td>\n",
       "      <td>arrest case no charge</td>\n",
       "      <td>0</td>\n",
       "      <td>NaN</td>\n",
       "      <td>NaN</td>\n",
       "      <td>NaN</td>\n",
       "      <td>NaN</td>\n",
       "      <td>NaN</td>\n",
       "      <td>NaN</td>\n",
       "      <td>NaN</td>\n",
       "      <td>NaN</td>\n",
       "      <td>0</td>\n",
       "      <td>NaN</td>\n",
       "      <td>NaN</td>\n",
       "      <td>NaN</td>\n",
       "      <td>NaN</td>\n",
       "      <td>Risk of Recidivism</td>\n",
       "      <td>1</td>\n",
       "      <td>Low</td>\n",
       "      <td>2013-03-26</td>\n",
       "      <td>Risk of Violence</td>\n",
       "      <td>1</td>\n",
       "      <td>Low</td>\n",
       "      <td>2013-03-26</td>\n",
       "      <td>NaN</td>\n",
       "      <td>NaN</td>\n",
       "      <td>2</td>\n",
       "      <td>0</td>\n",
       "      <td>1102</td>\n",
       "      <td>0</td>\n",
       "      <td>0</td>\n",
       "    </tr>\n",
       "  </tbody>\n",
       "</table>\n",
       "</div>"
      ],
      "text/plain": [
       "   id                name   first         last compas_screening_date   sex  \\\n",
       "0   1    miguel hernandez  miguel    hernandez            2013-08-14  Male   \n",
       "1   3         kevon dixon   kevon        dixon            2013-01-27  Male   \n",
       "2   4            ed philo      ed        philo            2013-04-14  Male   \n",
       "3   5         marcu brown   marcu        brown            2013-01-13  Male   \n",
       "4   6  bouthy pierrelouis  bouthy  pierrelouis            2013-03-26  Male   \n",
       "\n",
       "          dob  age          age_cat              race  juv_fel_count  \\\n",
       "0  1947-04-18   69  Greater than 45             Other              0   \n",
       "1  1982-01-22   34          25 - 45  African-American              0   \n",
       "2  1991-05-14   24     Less than 25  African-American              0   \n",
       "3  1993-01-21   23     Less than 25  African-American              0   \n",
       "4  1973-01-22   43          25 - 45             Other              0   \n",
       "\n",
       "   decile_score  juv_misd_count  juv_other_count  priors_count  \\\n",
       "0             1               0                0             0   \n",
       "1             3               0                0             0   \n",
       "2             4               0                1             4   \n",
       "3             8               1                0             1   \n",
       "4             1               0                0             2   \n",
       "\n",
       "   days_b_screening_arrest            c_jail_in           c_jail_out  \\\n",
       "0                     -1.0  2013-08-13 06:03:42  2013-08-14 05:41:20   \n",
       "1                     -1.0  2013-01-26 03:45:27  2013-02-05 05:36:53   \n",
       "2                     -1.0  2013-04-13 04:58:34  2013-04-14 07:02:04   \n",
       "3                      NaN                  NaN                  NaN   \n",
       "4                      NaN                  NaN                  NaN   \n",
       "\n",
       "   c_case_number c_offense_date c_arrest_date  c_days_from_compas  \\\n",
       "0  13011352CF10A     2013-08-13           NaN                 1.0   \n",
       "1  13001275CF10A     2013-01-26           NaN                 1.0   \n",
       "2  13005330CF10A     2013-04-13           NaN                 1.0   \n",
       "3  13000570CF10A     2013-01-12           NaN                 1.0   \n",
       "4  12014130CF10A            NaN    2013-01-09                76.0   \n",
       "\n",
       "  c_charge_degree                   c_charge_desc  is_recid  r_case_number  \\\n",
       "0               F    Aggravated Assault w/Firearm         0            NaN   \n",
       "1               F  Felony Battery w/Prior Convict         1  13009779CF10A   \n",
       "2               F           Possession of Cocaine         1  13011511MM10A   \n",
       "3               F          Possession of Cannabis         0            NaN   \n",
       "4               F           arrest case no charge         0            NaN   \n",
       "\n",
       "  r_charge_degree  r_days_from_arrest r_offense_date  \\\n",
       "0             NaN                 NaN            NaN   \n",
       "1            (F3)                 NaN     2013-07-05   \n",
       "2            (M1)                 0.0     2013-06-16   \n",
       "3             NaN                 NaN            NaN   \n",
       "4             NaN                 NaN            NaN   \n",
       "\n",
       "                 r_charge_desc   r_jail_in  r_jail_out  violent_recid  \\\n",
       "0                          NaN         NaN         NaN            NaN   \n",
       "1  Felony Battery (Dom Strang)         NaN         NaN            NaN   \n",
       "2  Driving Under The Influence  2013-06-16  2013-06-16            NaN   \n",
       "3                          NaN         NaN         NaN            NaN   \n",
       "4                          NaN         NaN         NaN            NaN   \n",
       "\n",
       "   is_violent_recid vr_case_number vr_charge_degree vr_offense_date  \\\n",
       "0                 0            NaN              NaN             NaN   \n",
       "1                 1  13009779CF10A             (F3)      2013-07-05   \n",
       "2                 0            NaN              NaN             NaN   \n",
       "3                 0            NaN              NaN             NaN   \n",
       "4                 0            NaN              NaN             NaN   \n",
       "\n",
       "                vr_charge_desc  type_of_assessment  decile_score.1 score_text  \\\n",
       "0                          NaN  Risk of Recidivism               1        Low   \n",
       "1  Felony Battery (Dom Strang)  Risk of Recidivism               3        Low   \n",
       "2                          NaN  Risk of Recidivism               4        Low   \n",
       "3                          NaN  Risk of Recidivism               8       High   \n",
       "4                          NaN  Risk of Recidivism               1        Low   \n",
       "\n",
       "  screening_date v_type_of_assessment  v_decile_score v_score_text  \\\n",
       "0     2013-08-14     Risk of Violence               1          Low   \n",
       "1     2013-01-27     Risk of Violence               1          Low   \n",
       "2     2013-04-14     Risk of Violence               3          Low   \n",
       "3     2013-01-13     Risk of Violence               6       Medium   \n",
       "4     2013-03-26     Risk of Violence               1          Low   \n",
       "\n",
       "  v_screening_date  in_custody out_custody  priors_count.1  start   end  \\\n",
       "0       2013-08-14  2014-07-07  2014-07-14               0      0   327   \n",
       "1       2013-01-27  2013-01-26  2013-02-05               0      9   159   \n",
       "2       2013-04-14  2013-06-16  2013-06-16               4      0    63   \n",
       "3       2013-01-13         NaN         NaN               1      0  1174   \n",
       "4       2013-03-26         NaN         NaN               2      0  1102   \n",
       "\n",
       "   event  two_year_recid  \n",
       "0      0               0  \n",
       "1      1               1  \n",
       "2      0               1  \n",
       "3      0               0  \n",
       "4      0               0  "
      ]
     },
     "execution_count": 3,
     "metadata": {},
     "output_type": "execute_result"
    }
   ],
   "source": [
    "data_raw.head()"
   ]
  },
  {
   "cell_type": "code",
   "execution_count": 4,
   "metadata": {
    "ExecuteTime": {
     "end_time": "2023-12-02T17:34:30.574888Z",
     "start_time": "2023-12-02T17:34:30.552395Z"
    }
   },
   "outputs": [
    {
     "name": "stdout",
     "output_type": "stream",
     "text": [
      "   count_per_label  proportion_per_label\n",
      "0             3963              0.549348\n",
      "1             3251              0.450652\n"
     ]
    }
   ],
   "source": [
    "def calculate_count_and_proportion_per_label(df, target_variable):\n",
    "    \"\"\"Calculates the count and proportion per label in a Pandas DataFrame with a binary target variable.\n",
    "\n",
    "    Args:\n",
    "      df: A Pandas DataFrame.\n",
    "      target_variable: The name of the binary target variable in the DataFrame.\n",
    "\n",
    "    Returns:\n",
    "      A Pandas Series containing the count and proportion per label.\n",
    "    \"\"\"\n",
    "\n",
    "    # Create a new Series containing the count per label.\n",
    "    count_per_label = df[target_variable].value_counts()\n",
    "\n",
    "    # Calculate the proportion per label.\n",
    "    proportion_per_label = count_per_label / count_per_label.sum()\n",
    "\n",
    "    # Return the Series containing the count and proportion per label.\n",
    "    return pd.DataFrame(\n",
    "        {\n",
    "            \"count_per_label\": count_per_label,\n",
    "            \"proportion_per_label\": proportion_per_label,\n",
    "        }\n",
    "    )\n",
    "\n",
    "\n",
    "# Funtion to check the missing value count and percentage\n",
    "def missing_val_check(data):\n",
    "    \"\"\"\n",
    "    Input::data - A pandas dataframe\n",
    "    Output::Missing value report by column\n",
    "    \"\"\"\n",
    "    # Missing data check\n",
    "    total = data.isnull().sum().sort_values(ascending=False)\n",
    "    percent = (data.isnull().sum() / data.isnull().count()).sort_values(ascending=False)\n",
    "    missing_data = pd.concat(\n",
    "        [total, percent * 100], axis=1, keys=[\"Total\", \"Percent(%)\"]\n",
    "    )\n",
    "    return missing_data\n",
    "\n",
    "\n",
    "def onehotdataframe(data, cat_cols):\n",
    "    \"\"\"\n",
    "    Creates dummy features for categorical data.\n",
    "    \"\"\"\n",
    "    for c in cat_cols:\n",
    "        one_hot_col = pd.get_dummies(data[c])\n",
    "        one_hot_col.columns = [str(col) + \"_\" + c for col in one_hot_col.columns]\n",
    "        data = data.drop(c, axis=1)\n",
    "\n",
    "        # Merging one hot encoded features with our dataset 'data'\n",
    "        data = pd.concat([data, one_hot_col], axis=1)\n",
    "\n",
    "    return data\n",
    "\n",
    "\n",
    "# Calculate the count and proportion per label in the DataFrame.\n",
    "df = calculate_count_and_proportion_per_label(data_raw, \"two_year_recid\")\n",
    "\n",
    "# Print the count and proportion per label.\n",
    "print(df)"
   ]
  },
  {
   "cell_type": "code",
   "execution_count": 5,
   "metadata": {
    "ExecuteTime": {
     "end_time": "2023-12-02T17:34:30.748059Z",
     "start_time": "2023-12-02T17:34:30.724841Z"
    }
   },
   "outputs": [],
   "source": [
    "folder_path = \"../../data\"\n",
    "file_path = os.path.join(folder_path, \"data_baseline.csv\")\n",
    "\n",
    "data_baseline = pd.read_csv(file_path)"
   ]
  },
  {
   "cell_type": "code",
   "execution_count": 6,
   "metadata": {
    "ExecuteTime": {
     "end_time": "2023-12-02T17:34:30.910035Z",
     "start_time": "2023-12-02T17:34:30.882461Z"
    }
   },
   "outputs": [
    {
     "data": {
      "text/html": [
       "<div>\n",
       "<style scoped>\n",
       "    .dataframe tbody tr th:only-of-type {\n",
       "        vertical-align: middle;\n",
       "    }\n",
       "\n",
       "    .dataframe tbody tr th {\n",
       "        vertical-align: top;\n",
       "    }\n",
       "\n",
       "    .dataframe thead th {\n",
       "        text-align: right;\n",
       "    }\n",
       "</style>\n",
       "<table border=\"1\" class=\"dataframe\">\n",
       "  <thead>\n",
       "    <tr style=\"text-align: right;\">\n",
       "      <th></th>\n",
       "      <th>id</th>\n",
       "      <th>sex</th>\n",
       "      <th>age</th>\n",
       "      <th>juv_fel_count</th>\n",
       "      <th>juv_misd_count</th>\n",
       "      <th>juv_other_count</th>\n",
       "      <th>priors_count</th>\n",
       "      <th>c_charge_desc</th>\n",
       "      <th>two_year_recid</th>\n",
       "      <th>time_in_custody_in_days</th>\n",
       "      <th>time_in_jail_in_days</th>\n",
       "      <th>African-American_race</th>\n",
       "      <th>Asian_race</th>\n",
       "      <th>Hispanic_race</th>\n",
       "      <th>Native American_race</th>\n",
       "      <th>Other_race</th>\n",
       "      <th>Felony_c_charge_degree</th>\n",
       "      <th>High_score_text</th>\n",
       "      <th>Low_score_text</th>\n",
       "      <th>High_v_score_text</th>\n",
       "    </tr>\n",
       "  </thead>\n",
       "  <tbody>\n",
       "    <tr>\n",
       "      <th>0</th>\n",
       "      <td>1</td>\n",
       "      <td>1</td>\n",
       "      <td>69</td>\n",
       "      <td>0</td>\n",
       "      <td>0</td>\n",
       "      <td>0</td>\n",
       "      <td>0</td>\n",
       "      <td>0.285811</td>\n",
       "      <td>0</td>\n",
       "      <td>7.0</td>\n",
       "      <td>0.0</td>\n",
       "      <td>0</td>\n",
       "      <td>0</td>\n",
       "      <td>0</td>\n",
       "      <td>0</td>\n",
       "      <td>1</td>\n",
       "      <td>1</td>\n",
       "      <td>0</td>\n",
       "      <td>1</td>\n",
       "      <td>0</td>\n",
       "    </tr>\n",
       "    <tr>\n",
       "      <th>1</th>\n",
       "      <td>3</td>\n",
       "      <td>1</td>\n",
       "      <td>34</td>\n",
       "      <td>0</td>\n",
       "      <td>0</td>\n",
       "      <td>0</td>\n",
       "      <td>0</td>\n",
       "      <td>0.563569</td>\n",
       "      <td>1</td>\n",
       "      <td>10.0</td>\n",
       "      <td>10.0</td>\n",
       "      <td>1</td>\n",
       "      <td>0</td>\n",
       "      <td>0</td>\n",
       "      <td>0</td>\n",
       "      <td>0</td>\n",
       "      <td>1</td>\n",
       "      <td>0</td>\n",
       "      <td>1</td>\n",
       "      <td>0</td>\n",
       "    </tr>\n",
       "    <tr>\n",
       "      <th>2</th>\n",
       "      <td>4</td>\n",
       "      <td>1</td>\n",
       "      <td>24</td>\n",
       "      <td>0</td>\n",
       "      <td>0</td>\n",
       "      <td>1</td>\n",
       "      <td>4</td>\n",
       "      <td>0.594859</td>\n",
       "      <td>1</td>\n",
       "      <td>0.0</td>\n",
       "      <td>1.0</td>\n",
       "      <td>1</td>\n",
       "      <td>0</td>\n",
       "      <td>0</td>\n",
       "      <td>0</td>\n",
       "      <td>0</td>\n",
       "      <td>1</td>\n",
       "      <td>0</td>\n",
       "      <td>1</td>\n",
       "      <td>0</td>\n",
       "    </tr>\n",
       "    <tr>\n",
       "      <th>3</th>\n",
       "      <td>5</td>\n",
       "      <td>1</td>\n",
       "      <td>23</td>\n",
       "      <td>0</td>\n",
       "      <td>1</td>\n",
       "      <td>0</td>\n",
       "      <td>1</td>\n",
       "      <td>0.375455</td>\n",
       "      <td>0</td>\n",
       "      <td>0.0</td>\n",
       "      <td>0.0</td>\n",
       "      <td>1</td>\n",
       "      <td>0</td>\n",
       "      <td>0</td>\n",
       "      <td>0</td>\n",
       "      <td>0</td>\n",
       "      <td>1</td>\n",
       "      <td>1</td>\n",
       "      <td>0</td>\n",
       "      <td>0</td>\n",
       "    </tr>\n",
       "    <tr>\n",
       "      <th>4</th>\n",
       "      <td>6</td>\n",
       "      <td>1</td>\n",
       "      <td>43</td>\n",
       "      <td>0</td>\n",
       "      <td>0</td>\n",
       "      <td>0</td>\n",
       "      <td>2</td>\n",
       "      <td>0.448707</td>\n",
       "      <td>0</td>\n",
       "      <td>0.0</td>\n",
       "      <td>0.0</td>\n",
       "      <td>0</td>\n",
       "      <td>0</td>\n",
       "      <td>0</td>\n",
       "      <td>0</td>\n",
       "      <td>1</td>\n",
       "      <td>1</td>\n",
       "      <td>0</td>\n",
       "      <td>1</td>\n",
       "      <td>0</td>\n",
       "    </tr>\n",
       "    <tr>\n",
       "      <th>...</th>\n",
       "      <td>...</td>\n",
       "      <td>...</td>\n",
       "      <td>...</td>\n",
       "      <td>...</td>\n",
       "      <td>...</td>\n",
       "      <td>...</td>\n",
       "      <td>...</td>\n",
       "      <td>...</td>\n",
       "      <td>...</td>\n",
       "      <td>...</td>\n",
       "      <td>...</td>\n",
       "      <td>...</td>\n",
       "      <td>...</td>\n",
       "      <td>...</td>\n",
       "      <td>...</td>\n",
       "      <td>...</td>\n",
       "      <td>...</td>\n",
       "      <td>...</td>\n",
       "      <td>...</td>\n",
       "      <td>...</td>\n",
       "    </tr>\n",
       "    <tr>\n",
       "      <th>7180</th>\n",
       "      <td>10996</td>\n",
       "      <td>1</td>\n",
       "      <td>23</td>\n",
       "      <td>0</td>\n",
       "      <td>0</td>\n",
       "      <td>0</td>\n",
       "      <td>0</td>\n",
       "      <td>0.463257</td>\n",
       "      <td>0</td>\n",
       "      <td>2.0</td>\n",
       "      <td>1.0</td>\n",
       "      <td>1</td>\n",
       "      <td>0</td>\n",
       "      <td>0</td>\n",
       "      <td>0</td>\n",
       "      <td>0</td>\n",
       "      <td>1</td>\n",
       "      <td>0</td>\n",
       "      <td>0</td>\n",
       "      <td>0</td>\n",
       "    </tr>\n",
       "    <tr>\n",
       "      <th>7181</th>\n",
       "      <td>10997</td>\n",
       "      <td>1</td>\n",
       "      <td>23</td>\n",
       "      <td>0</td>\n",
       "      <td>0</td>\n",
       "      <td>0</td>\n",
       "      <td>0</td>\n",
       "      <td>0.460087</td>\n",
       "      <td>0</td>\n",
       "      <td>2.0</td>\n",
       "      <td>1.0</td>\n",
       "      <td>1</td>\n",
       "      <td>0</td>\n",
       "      <td>0</td>\n",
       "      <td>0</td>\n",
       "      <td>0</td>\n",
       "      <td>1</td>\n",
       "      <td>0</td>\n",
       "      <td>1</td>\n",
       "      <td>0</td>\n",
       "    </tr>\n",
       "    <tr>\n",
       "      <th>7182</th>\n",
       "      <td>10999</td>\n",
       "      <td>1</td>\n",
       "      <td>57</td>\n",
       "      <td>0</td>\n",
       "      <td>0</td>\n",
       "      <td>0</td>\n",
       "      <td>0</td>\n",
       "      <td>0.567840</td>\n",
       "      <td>0</td>\n",
       "      <td>1.0</td>\n",
       "      <td>1.0</td>\n",
       "      <td>0</td>\n",
       "      <td>0</td>\n",
       "      <td>0</td>\n",
       "      <td>0</td>\n",
       "      <td>1</td>\n",
       "      <td>1</td>\n",
       "      <td>0</td>\n",
       "      <td>1</td>\n",
       "      <td>0</td>\n",
       "    </tr>\n",
       "    <tr>\n",
       "      <th>7183</th>\n",
       "      <td>11000</td>\n",
       "      <td>0</td>\n",
       "      <td>33</td>\n",
       "      <td>0</td>\n",
       "      <td>0</td>\n",
       "      <td>0</td>\n",
       "      <td>3</td>\n",
       "      <td>0.540735</td>\n",
       "      <td>0</td>\n",
       "      <td>1.0</td>\n",
       "      <td>1.0</td>\n",
       "      <td>1</td>\n",
       "      <td>0</td>\n",
       "      <td>0</td>\n",
       "      <td>0</td>\n",
       "      <td>0</td>\n",
       "      <td>0</td>\n",
       "      <td>0</td>\n",
       "      <td>1</td>\n",
       "      <td>0</td>\n",
       "    </tr>\n",
       "    <tr>\n",
       "      <th>7184</th>\n",
       "      <td>11001</td>\n",
       "      <td>0</td>\n",
       "      <td>23</td>\n",
       "      <td>0</td>\n",
       "      <td>0</td>\n",
       "      <td>0</td>\n",
       "      <td>2</td>\n",
       "      <td>1.004269</td>\n",
       "      <td>1</td>\n",
       "      <td>0.0</td>\n",
       "      <td>1.0</td>\n",
       "      <td>0</td>\n",
       "      <td>0</td>\n",
       "      <td>1</td>\n",
       "      <td>0</td>\n",
       "      <td>0</td>\n",
       "      <td>1</td>\n",
       "      <td>0</td>\n",
       "      <td>1</td>\n",
       "      <td>0</td>\n",
       "    </tr>\n",
       "  </tbody>\n",
       "</table>\n",
       "<p>7185 rows × 20 columns</p>\n",
       "</div>"
      ],
      "text/plain": [
       "         id  sex  age  juv_fel_count  juv_misd_count  juv_other_count  \\\n",
       "0         1    1   69              0               0                0   \n",
       "1         3    1   34              0               0                0   \n",
       "2         4    1   24              0               0                1   \n",
       "3         5    1   23              0               1                0   \n",
       "4         6    1   43              0               0                0   \n",
       "...     ...  ...  ...            ...             ...              ...   \n",
       "7180  10996    1   23              0               0                0   \n",
       "7181  10997    1   23              0               0                0   \n",
       "7182  10999    1   57              0               0                0   \n",
       "7183  11000    0   33              0               0                0   \n",
       "7184  11001    0   23              0               0                0   \n",
       "\n",
       "      priors_count  c_charge_desc  two_year_recid  time_in_custody_in_days  \\\n",
       "0                0       0.285811               0                      7.0   \n",
       "1                0       0.563569               1                     10.0   \n",
       "2                4       0.594859               1                      0.0   \n",
       "3                1       0.375455               0                      0.0   \n",
       "4                2       0.448707               0                      0.0   \n",
       "...            ...            ...             ...                      ...   \n",
       "7180             0       0.463257               0                      2.0   \n",
       "7181             0       0.460087               0                      2.0   \n",
       "7182             0       0.567840               0                      1.0   \n",
       "7183             3       0.540735               0                      1.0   \n",
       "7184             2       1.004269               1                      0.0   \n",
       "\n",
       "      time_in_jail_in_days  African-American_race  Asian_race  Hispanic_race  \\\n",
       "0                      0.0                      0           0              0   \n",
       "1                     10.0                      1           0              0   \n",
       "2                      1.0                      1           0              0   \n",
       "3                      0.0                      1           0              0   \n",
       "4                      0.0                      0           0              0   \n",
       "...                    ...                    ...         ...            ...   \n",
       "7180                   1.0                      1           0              0   \n",
       "7181                   1.0                      1           0              0   \n",
       "7182                   1.0                      0           0              0   \n",
       "7183                   1.0                      1           0              0   \n",
       "7184                   1.0                      0           0              1   \n",
       "\n",
       "      Native American_race  Other_race  Felony_c_charge_degree  \\\n",
       "0                        0           1                       1   \n",
       "1                        0           0                       1   \n",
       "2                        0           0                       1   \n",
       "3                        0           0                       1   \n",
       "4                        0           1                       1   \n",
       "...                    ...         ...                     ...   \n",
       "7180                     0           0                       1   \n",
       "7181                     0           0                       1   \n",
       "7182                     0           1                       1   \n",
       "7183                     0           0                       0   \n",
       "7184                     0           0                       1   \n",
       "\n",
       "      High_score_text  Low_score_text  High_v_score_text  \n",
       "0                   0               1                  0  \n",
       "1                   0               1                  0  \n",
       "2                   0               1                  0  \n",
       "3                   1               0                  0  \n",
       "4                   0               1                  0  \n",
       "...               ...             ...                ...  \n",
       "7180                0               0                  0  \n",
       "7181                0               1                  0  \n",
       "7182                0               1                  0  \n",
       "7183                0               1                  0  \n",
       "7184                0               1                  0  \n",
       "\n",
       "[7185 rows x 20 columns]"
      ]
     },
     "execution_count": 6,
     "metadata": {},
     "output_type": "execute_result"
    }
   ],
   "source": [
    "data_baseline"
   ]
  },
  {
   "cell_type": "markdown",
   "metadata": {
    "id": "QWtTJDLhkxBl"
   },
   "source": [
    "# Train Test Split"
   ]
  },
  {
   "cell_type": "code",
   "execution_count": 7,
   "metadata": {
    "ExecuteTime": {
     "end_time": "2023-12-02T17:34:31.226947Z",
     "start_time": "2023-12-02T17:34:31.195484Z"
    },
    "id": "RAKzW2LUTi5W"
   },
   "outputs": [],
   "source": [
    "# Split the data into training and testing sets\n",
    "X_train, X_test, y_train, y_test = train_test_split(\n",
    "    data_baseline.drop([\"two_year_recid\"], axis=1),\n",
    "    data_baseline[\"two_year_recid\"],\n",
    "    test_size=0.2,\n",
    "    random_state=1000,\n",
    "    stratify=data_baseline[\"two_year_recid\"],\n",
    ")\n",
    "# y_train.reset_index(drop = True, inplace = True)\n",
    "# y_test.reset_index(drop = True, inplace = True)\n",
    "\n",
    "# Create a StandardScaler object\n",
    "scaler = StandardScaler()\n",
    "\n",
    "# Fit and transform the training data using the scaler\n",
    "X_train_scaled = scaler.fit_transform(X_train.drop([\"id\"], axis=1))\n",
    "X_train_scaled = pd.DataFrame(\n",
    "    X_train_scaled, columns=X_train.drop([\"id\"], axis=1).columns, index=X_train.index\n",
    ")\n",
    "\n",
    "# Transform the testing data using the same scaler\n",
    "X_test_scaled = scaler.transform(X_test.drop([\"id\"], axis=1))\n",
    "X_test_scaled = pd.DataFrame(\n",
    "    X_test_scaled, columns=X_train.drop([\"id\"], axis=1).columns, index=X_test.index\n",
    ")"
   ]
  },
  {
   "cell_type": "code",
   "execution_count": 8,
   "metadata": {
    "ExecuteTime": {
     "end_time": "2023-12-02T17:34:31.352643Z",
     "start_time": "2023-12-02T17:34:31.345432Z"
    }
   },
   "outputs": [
    {
     "data": {
      "text/plain": [
       "((5748, 19), (1437, 19), (5748,), (1437,))"
      ]
     },
     "execution_count": 8,
     "metadata": {},
     "output_type": "execute_result"
    }
   ],
   "source": [
    "X_train.shape, X_test.shape, y_train.shape, y_test.shape"
   ]
  },
  {
   "cell_type": "code",
   "execution_count": 9,
   "metadata": {
    "ExecuteTime": {
     "end_time": "2023-12-02T17:34:31.527669Z",
     "start_time": "2023-12-02T17:34:31.520880Z"
    }
   },
   "outputs": [
    {
     "data": {
      "text/plain": [
       "((5748, 18), (1437, 18), (5748,), (1437,))"
      ]
     },
     "execution_count": 9,
     "metadata": {},
     "output_type": "execute_result"
    }
   ],
   "source": [
    "X_train_scaled.shape, X_test_scaled.shape, y_train.shape, y_test.shape"
   ]
  },
  {
   "cell_type": "code",
   "execution_count": 10,
   "metadata": {
    "ExecuteTime": {
     "end_time": "2023-12-02T17:34:31.686592Z",
     "start_time": "2023-12-02T17:34:31.679492Z"
    }
   },
   "outputs": [
    {
     "data": {
      "text/plain": [
       "5355    1\n",
       "3592    0\n",
       "29      1\n",
       "2414    1\n",
       "5619    1\n",
       "Name: two_year_recid, dtype: int64"
      ]
     },
     "execution_count": 10,
     "metadata": {},
     "output_type": "execute_result"
    }
   ],
   "source": [
    "y_train.head()"
   ]
  },
  {
   "cell_type": "code",
   "execution_count": 11,
   "metadata": {
    "ExecuteTime": {
     "end_time": "2023-12-02T17:34:31.850786Z",
     "start_time": "2023-12-02T17:34:31.844836Z"
    }
   },
   "outputs": [
    {
     "data": {
      "text/plain": [
       "pandas.core.series.Series"
      ]
     },
     "execution_count": 11,
     "metadata": {},
     "output_type": "execute_result"
    }
   ],
   "source": [
    "# check type of y_train\n",
    "type(y_train)"
   ]
  },
  {
   "cell_type": "code",
   "execution_count": 12,
   "metadata": {
    "ExecuteTime": {
     "end_time": "2023-12-02T17:34:32.009579Z",
     "start_time": "2023-12-02T17:34:32.003463Z"
    }
   },
   "outputs": [
    {
     "data": {
      "text/plain": [
       "3600    0\n",
       "4218    0\n",
       "900     0\n",
       "5345    1\n",
       "5682    0\n",
       "Name: two_year_recid, dtype: int64"
      ]
     },
     "execution_count": 12,
     "metadata": {},
     "output_type": "execute_result"
    }
   ],
   "source": [
    "y_test.head()"
   ]
  },
  {
   "cell_type": "code",
   "execution_count": 13,
   "metadata": {
    "ExecuteTime": {
     "end_time": "2023-12-02T17:34:32.187694Z",
     "start_time": "2023-12-02T17:34:32.163191Z"
    }
   },
   "outputs": [],
   "source": [
    "# Convert Pandas DataFrames to PyTorch tensors\n",
    "X_train_tensor = torch.tensor(X_train_scaled.values, dtype=torch.float32)\n",
    "y_train_tensor = torch.tensor(y_train.values, dtype=torch.float32).view(-1, 1)\n",
    "\n",
    "X_test_tensor = torch.tensor(X_test_scaled.values, dtype=torch.float32)\n",
    "y_test_tensor = torch.tensor(y_test.values, dtype=torch.float32).view(-1, 1)"
   ]
  },
  {
   "cell_type": "code",
   "execution_count": 14,
   "metadata": {
    "ExecuteTime": {
     "end_time": "2023-12-02T17:34:32.338348Z",
     "start_time": "2023-12-02T17:34:32.322053Z"
    }
   },
   "outputs": [],
   "source": [
    "# Set the random seed for reproducibility\n",
    "torch.manual_seed(10000)\n",
    "\n",
    "\n",
    "# Define the MLP model\n",
    "class MLPModel(nn.Module):\n",
    "    def __init__(\n",
    "        self, input_size, hidden_size1, hidden_size2, hidden_size3, output_size\n",
    "    ):\n",
    "        super(MLPModel, self).__init__()\n",
    "        self.layer1 = nn.Linear(input_size, hidden_size1)\n",
    "        self.relu1 = nn.ReLU()\n",
    "        self.layer2 = nn.Linear(hidden_size1, hidden_size2)\n",
    "        self.relu2 = nn.ReLU()\n",
    "        self.layer3 = nn.Linear(hidden_size2, hidden_size3)\n",
    "        self.relu3 = nn.ReLU()\n",
    "        self.output_layer = nn.Linear(hidden_size3, output_size)\n",
    "        self.sigmoid = nn.Sigmoid()\n",
    "\n",
    "    def forward(self, x):\n",
    "        x = self.layer1(x)\n",
    "        x = self.relu1(x)\n",
    "        x = self.layer2(x)\n",
    "        x = self.relu2(x)\n",
    "        x = self.layer3(x)\n",
    "        x = self.relu3(x)\n",
    "        x = self.output_layer(x)\n",
    "        x = self.sigmoid(x)\n",
    "        return x\n",
    "\n",
    "\n",
    "# Initialize the model, loss function, and optimizer\n",
    "input_size = X_train_scaled.shape[1]\n",
    "hidden_size1 = 8\n",
    "hidden_size2 = 8\n",
    "hidden_size3 = 4\n",
    "output_size = 1\n",
    "\n",
    "model = MLPModel(input_size, hidden_size1, hidden_size2, hidden_size3, output_size)"
   ]
  },
  {
   "cell_type": "code",
   "execution_count": 15,
   "metadata": {
    "ExecuteTime": {
     "end_time": "2023-12-02T17:34:35.539456Z",
     "start_time": "2023-12-02T17:34:32.503082Z"
    }
   },
   "outputs": [],
   "source": [
    "criterion = nn.BCELoss()  # Binary Cross Entropy Loss for binary classification\n",
    "optimizer = optim.Adam(model.parameters(), lr=0.001)\n",
    "\n",
    "# Convert data to PyTorch DataLoader\n",
    "train_dataset = TensorDataset(X_train_tensor, y_train_tensor)\n",
    "train_loader = DataLoader(train_dataset, batch_size=64, shuffle=True)\n",
    "\n",
    "# Training the model\n",
    "epochs = 50\n",
    "\n",
    "\n",
    "for epoch in range(epochs):\n",
    "    for inputs, labels in train_loader:\n",
    "        optimizer.zero_grad()\n",
    "        outputs = model(inputs)\n",
    "        loss = criterion(outputs, labels)\n",
    "        loss.backward()\n",
    "        optimizer.step()"
   ]
  },
  {
   "cell_type": "code",
   "execution_count": 16,
   "metadata": {
    "ExecuteTime": {
     "end_time": "2023-12-02T17:34:35.545152Z",
     "start_time": "2023-12-02T17:34:35.542407Z"
    }
   },
   "outputs": [],
   "source": [
    "# Load saved model\n",
    "# model_file_path = \"../../model/mlp_model.pth\"\n",
    "\n",
    "# model.load_state_dict(torch.load(model_file_path))"
   ]
  },
  {
   "cell_type": "code",
   "execution_count": 17,
   "metadata": {
    "ExecuteTime": {
     "end_time": "2023-12-02T17:34:35.555299Z",
     "start_time": "2023-12-02T17:34:35.546902Z"
    }
   },
   "outputs": [
    {
     "name": "stdout",
     "output_type": "stream",
     "text": [
      "Test Accuracy: 0.7000696\n"
     ]
    }
   ],
   "source": [
    "# Evaluate the model on the test set\n",
    "with torch.no_grad():\n",
    "    model.eval()\n",
    "    y_pred_prob = model(X_test_tensor)\n",
    "    y_pred_test = (y_pred_prob >= 0.5).float()\n",
    "    accuracy = (y_pred_test == y_test_tensor).float().mean()\n",
    "\n",
    "print(f\"Test Accuracy: {accuracy.item():.7f}\")"
   ]
  },
  {
   "cell_type": "code",
   "execution_count": 18,
   "metadata": {
    "ExecuteTime": {
     "end_time": "2023-12-02T17:34:35.656845Z",
     "start_time": "2023-12-02T17:34:35.556885Z"
    }
   },
   "outputs": [
    {
     "name": "stdout",
     "output_type": "stream",
     "text": [
      "Classification Report for Artificial Neural Network model on test set\n",
      "\n",
      "              precision    recall  f1-score   support\n",
      "\n",
      "           0       0.71      0.76      0.74       790\n",
      "           1       0.68      0.63      0.65       647\n",
      "\n",
      "    accuracy                           0.70      1437\n",
      "   macro avg       0.70      0.69      0.69      1437\n",
      "weighted avg       0.70      0.70      0.70      1437\n",
      "\n",
      "\n",
      " accuracy: 0.7000695894224078 & F1_Score: 0.6947328782686315 \n",
      "\n"
     ]
    },
    {
     "data": {
      "text/plain": [
       "<AxesSubplot:>"
      ]
     },
     "execution_count": 18,
     "metadata": {},
     "output_type": "execute_result"
    },
    {
     "data": {
      "image/png": "[encoded data removed]",
      "text/plain": [
       "<Figure size 800x400 with 1 Axes>"
      ]
     },
     "metadata": {},
     "output_type": "display_data"
    }
   ],
   "source": [
    "model_name = \"Artificial Neural Network\"\n",
    "print(\"Classification Report for {} model on test set\\n\".format(model_name))\n",
    "print(classification_report(y_test, y_pred_test))\n",
    "print(\n",
    "    \"\\n accuracy: {} & F1_Score: {} \\n\".format(\n",
    "        accuracy_score(y_test, y_pred_test),\n",
    "        f1_score(y_test, y_pred_test, average=\"macro\"),\n",
    "    )\n",
    ")\n",
    "cm_val = confusion_matrix(y_test, y_pred_test)\n",
    "\n",
    "plt.subplots(figsize=(8, 4))\n",
    "sns.heatmap(cm_val, annot=True, fmt=\"d\", cbar=False)"
   ]
  },
  {
   "cell_type": "code",
   "execution_count": 19,
   "metadata": {
    "ExecuteTime": {
     "end_time": "2023-12-02T17:34:35.671279Z",
     "start_time": "2023-12-02T17:34:35.658567Z"
    }
   },
   "outputs": [],
   "source": [
    "# Dumping model\n",
    "folder_path = \"../../model\"\n",
    "file_path = os.path.join(folder_path, \"mlp_model.pth\")\n",
    "torch.save(model.state_dict(), file_path)"
   ]
  },
  {
   "cell_type": "code",
   "execution_count": 20,
   "metadata": {
    "ExecuteTime": {
     "end_time": "2023-12-02T17:34:36.026007Z",
     "start_time": "2023-12-02T17:34:36.016206Z"
    }
   },
   "outputs": [],
   "source": [
    "# Convert to numpy\n",
    "y_pred_prob = y_pred_prob.numpy().reshape(-1)\n",
    "y_pred_test = y_pred_test.numpy().reshape(-1)\n",
    "\n",
    "# Get a prediction df\n",
    "predictions_df = pd.DataFrame(\n",
    "    {\n",
    "        \"y_pred_prob\": y_pred_prob,\n",
    "        \"y_pred_labels\": y_pred_test,\n",
    "        \"y_true_labels\": y_test.values,\n",
    "    },\n",
    "    index=X_test_scaled.index,\n",
    ")\n",
    "\n",
    "# Get the prediction in our test data\n",
    "X_test[\"model_prediction\"] = predictions_df[\"y_pred_labels\"]\n",
    "X_test[\"true_prediction\"] = y_test"
   ]
  },
  {
   "cell_type": "markdown",
   "metadata": {
    "id": "JcXpJTz0mExJ"
   },
   "source": [
    "True Recidivism for African American"
   ]
  },
  {
   "cell_type": "code",
   "execution_count": 21,
   "metadata": {
    "ExecuteTime": {
     "end_time": "2023-12-02T17:34:36.506031Z",
     "start_time": "2023-12-02T17:34:36.430111Z"
    },
    "colab": {
     "base_uri": "https://localhost:8080/",
     "height": 468
    },
    "id": "Z09A_gk0l3YA",
    "outputId": "d67245c6-3610-4d0b-f341-1bd0fb250bc3"
   },
   "outputs": [
    {
     "data": {
      "text/plain": [
       "<AxesSubplot:xlabel='African-American_race', ylabel='count'>"
      ]
     },
     "execution_count": 21,
     "metadata": {},
     "output_type": "execute_result"
    },
    {
     "data": {
      "image/png": "[encoded data removed]",
      "text/plain": [
       "<Figure size 640x480 with 1 Axes>"
      ]
     },
     "metadata": {},
     "output_type": "display_data"
    }
   ],
   "source": [
    "# order = sorted(data[col].unique())\n",
    "sns.countplot(data=X_test, x=\"African-American_race\", hue=\"true_prediction\")"
   ]
  },
  {
   "cell_type": "markdown",
   "metadata": {
    "id": "iVTTgwiul973"
   },
   "source": [
    "Model Prediction for African Amerian"
   ]
  },
  {
   "cell_type": "code",
   "execution_count": 22,
   "metadata": {
    "ExecuteTime": {
     "end_time": "2023-12-02T17:34:36.954293Z",
     "start_time": "2023-12-02T17:34:36.871779Z"
    },
    "colab": {
     "base_uri": "https://localhost:8080/",
     "height": 468
    },
    "id": "DqnLYdM8k55x",
    "outputId": "a1eb6242-ff3f-4cef-9eeb-13fd0df5d812"
   },
   "outputs": [
    {
     "data": {
      "text/plain": [
       "<AxesSubplot:xlabel='African-American_race', ylabel='count'>"
      ]
     },
     "execution_count": 22,
     "metadata": {},
     "output_type": "execute_result"
    },
    {
     "data": {
      "image/png": "[encoded data removed]",
      "text/plain": [
       "<Figure size 640x480 with 1 Axes>"
      ]
     },
     "metadata": {},
     "output_type": "display_data"
    }
   ],
   "source": [
    "# order = sorted(data[col].unique())\n",
    "sns.countplot(data=X_test, x=\"African-American_race\", hue=\"model_prediction\")"
   ]
  },
  {
   "cell_type": "markdown",
   "metadata": {
    "id": "GlcTF4enlN_J"
   },
   "source": [
    "**Note:** We can observe clear bias towards this race"
   ]
  },
  {
   "cell_type": "code",
   "execution_count": 23,
   "metadata": {
    "ExecuteTime": {
     "end_time": "2023-12-02T17:34:37.447644Z",
     "start_time": "2023-12-02T17:34:37.371841Z"
    },
    "colab": {
     "base_uri": "https://localhost:8080/",
     "height": 468
    },
    "id": "M0T1gr_emM2F",
    "outputId": "f8218ae5-990e-4095-9b95-23c315b483aa"
   },
   "outputs": [
    {
     "data": {
      "text/plain": [
       "<AxesSubplot:xlabel='Other_race', ylabel='count'>"
      ]
     },
     "execution_count": 23,
     "metadata": {},
     "output_type": "execute_result"
    },
    {
     "data": {
      "image/png": "[encoded data removed]",
      "text/plain": [
       "<Figure size 640x480 with 1 Axes>"
      ]
     },
     "metadata": {},
     "output_type": "display_data"
    }
   ],
   "source": [
    "# order = sorted(data[col].unique())\n",
    "sns.countplot(data=X_test, x=\"Other_race\", hue=\"true_prediction\")"
   ]
  },
  {
   "cell_type": "code",
   "execution_count": 24,
   "metadata": {
    "ExecuteTime": {
     "end_time": "2023-12-02T17:34:37.642634Z",
     "start_time": "2023-12-02T17:34:37.578921Z"
    },
    "colab": {
     "base_uri": "https://localhost:8080/",
     "height": 468
    },
    "id": "bW6xpD_vmoHR",
    "outputId": "9b9542d3-802d-45cb-9b48-58b7adcde363"
   },
   "outputs": [
    {
     "data": {
      "text/plain": [
       "<AxesSubplot:xlabel='Other_race', ylabel='count'>"
      ]
     },
     "execution_count": 24,
     "metadata": {},
     "output_type": "execute_result"
    },
    {
     "data": {
      "image/png": "[encoded data removed]",
      "text/plain": [
       "<Figure size 640x480 with 1 Axes>"
      ]
     },
     "metadata": {},
     "output_type": "display_data"
    }
   ],
   "source": [
    "# order = sorted(data[col].unique())\n",
    "sns.countplot(data=X_test, x=\"Other_race\", hue=\"model_prediction\")"
   ]
  },
  {
   "cell_type": "markdown",
   "metadata": {
    "id": "39YBzwgLmr5S"
   },
   "source": [
    "This is balanced"
   ]
  },
  {
   "cell_type": "markdown",
   "metadata": {},
   "source": [
    "# Shap"
   ]
  },
  {
   "cell_type": "code",
   "execution_count": 25,
   "metadata": {
    "ExecuteTime": {
     "end_time": "2023-12-02T17:34:38.400737Z",
     "start_time": "2023-12-02T17:34:38.389743Z"
    }
   },
   "outputs": [],
   "source": [
    "explainer = shap.DeepExplainer(model, data=X_train_tensor)"
   ]
  },
  {
   "cell_type": "code",
   "execution_count": 26,
   "metadata": {
    "ExecuteTime": {
     "end_time": "2023-12-02T17:34:38.923508Z",
     "start_time": "2023-12-02T17:34:38.738287Z"
    }
   },
   "outputs": [],
   "source": [
    "# Calculate SHAP values for a single instance\n",
    "shap_values = explainer.shap_values(X_train_tensor[0:1])"
   ]
  },
  {
   "cell_type": "code",
   "execution_count": 27,
   "metadata": {
    "ExecuteTime": {
     "end_time": "2023-12-02T17:34:39.257178Z",
     "start_time": "2023-12-02T17:34:38.986126Z"
    }
   },
   "outputs": [
    {
     "data": {
      "image/png": "[encoded data removed]",
      "text/plain": [
       "<Figure size 800x870 with 2 Axes>"
      ]
     },
     "metadata": {},
     "output_type": "display_data"
    }
   ],
   "source": [
    "shap.summary_plot(shap_values, X_train_tensor[0:1])"
   ]
  },
  {
   "cell_type": "code",
   "execution_count": 28,
   "metadata": {
    "ExecuteTime": {
     "end_time": "2023-12-02T17:34:39.269201Z",
     "start_time": "2023-12-02T17:34:39.258476Z"
    }
   },
   "outputs": [
    {
     "data": {
      "text/html": [
       "<div>\n",
       "<style scoped>\n",
       "    .dataframe tbody tr th:only-of-type {\n",
       "        vertical-align: middle;\n",
       "    }\n",
       "\n",
       "    .dataframe tbody tr th {\n",
       "        vertical-align: top;\n",
       "    }\n",
       "\n",
       "    .dataframe thead th {\n",
       "        text-align: right;\n",
       "    }\n",
       "</style>\n",
       "<table border=\"1\" class=\"dataframe\">\n",
       "  <thead>\n",
       "    <tr style=\"text-align: right;\">\n",
       "      <th></th>\n",
       "      <th>sex</th>\n",
       "      <th>age</th>\n",
       "      <th>juv_fel_count</th>\n",
       "      <th>juv_misd_count</th>\n",
       "      <th>juv_other_count</th>\n",
       "      <th>priors_count</th>\n",
       "      <th>c_charge_desc</th>\n",
       "      <th>time_in_custody_in_days</th>\n",
       "      <th>time_in_jail_in_days</th>\n",
       "      <th>African-American_race</th>\n",
       "      <th>Asian_race</th>\n",
       "      <th>Hispanic_race</th>\n",
       "      <th>Native American_race</th>\n",
       "      <th>Other_race</th>\n",
       "      <th>Felony_c_charge_degree</th>\n",
       "      <th>High_score_text</th>\n",
       "      <th>Low_score_text</th>\n",
       "      <th>High_v_score_text</th>\n",
       "      <th>model_prediction</th>\n",
       "      <th>true_prediction</th>\n",
       "    </tr>\n",
       "  </thead>\n",
       "  <tbody>\n",
       "    <tr>\n",
       "      <th>3600</th>\n",
       "      <td>1</td>\n",
       "      <td>40</td>\n",
       "      <td>0</td>\n",
       "      <td>0</td>\n",
       "      <td>0</td>\n",
       "      <td>0</td>\n",
       "      <td>0.377261</td>\n",
       "      <td>2.0</td>\n",
       "      <td>2.0</td>\n",
       "      <td>1</td>\n",
       "      <td>0</td>\n",
       "      <td>0</td>\n",
       "      <td>0</td>\n",
       "      <td>0</td>\n",
       "      <td>0</td>\n",
       "      <td>0</td>\n",
       "      <td>1</td>\n",
       "      <td>0</td>\n",
       "      <td>0.0</td>\n",
       "      <td>0</td>\n",
       "    </tr>\n",
       "    <tr>\n",
       "      <th>4218</th>\n",
       "      <td>1</td>\n",
       "      <td>53</td>\n",
       "      <td>0</td>\n",
       "      <td>0</td>\n",
       "      <td>0</td>\n",
       "      <td>0</td>\n",
       "      <td>0.540904</td>\n",
       "      <td>0.0</td>\n",
       "      <td>0.0</td>\n",
       "      <td>0</td>\n",
       "      <td>0</td>\n",
       "      <td>0</td>\n",
       "      <td>0</td>\n",
       "      <td>0</td>\n",
       "      <td>0</td>\n",
       "      <td>0</td>\n",
       "      <td>1</td>\n",
       "      <td>0</td>\n",
       "      <td>0.0</td>\n",
       "      <td>0</td>\n",
       "    </tr>\n",
       "    <tr>\n",
       "      <th>900</th>\n",
       "      <td>0</td>\n",
       "      <td>28</td>\n",
       "      <td>0</td>\n",
       "      <td>0</td>\n",
       "      <td>1</td>\n",
       "      <td>3</td>\n",
       "      <td>0.377261</td>\n",
       "      <td>45.0</td>\n",
       "      <td>45.0</td>\n",
       "      <td>0</td>\n",
       "      <td>0</td>\n",
       "      <td>0</td>\n",
       "      <td>0</td>\n",
       "      <td>0</td>\n",
       "      <td>0</td>\n",
       "      <td>0</td>\n",
       "      <td>1</td>\n",
       "      <td>0</td>\n",
       "      <td>1.0</td>\n",
       "      <td>0</td>\n",
       "    </tr>\n",
       "    <tr>\n",
       "      <th>5345</th>\n",
       "      <td>1</td>\n",
       "      <td>21</td>\n",
       "      <td>0</td>\n",
       "      <td>0</td>\n",
       "      <td>0</td>\n",
       "      <td>0</td>\n",
       "      <td>0.377261</td>\n",
       "      <td>2.0</td>\n",
       "      <td>1.0</td>\n",
       "      <td>0</td>\n",
       "      <td>0</td>\n",
       "      <td>0</td>\n",
       "      <td>0</td>\n",
       "      <td>0</td>\n",
       "      <td>0</td>\n",
       "      <td>0</td>\n",
       "      <td>1</td>\n",
       "      <td>0</td>\n",
       "      <td>0.0</td>\n",
       "      <td>1</td>\n",
       "    </tr>\n",
       "    <tr>\n",
       "      <th>5682</th>\n",
       "      <td>1</td>\n",
       "      <td>35</td>\n",
       "      <td>0</td>\n",
       "      <td>0</td>\n",
       "      <td>0</td>\n",
       "      <td>4</td>\n",
       "      <td>0.448707</td>\n",
       "      <td>9.0</td>\n",
       "      <td>169.0</td>\n",
       "      <td>0</td>\n",
       "      <td>0</td>\n",
       "      <td>0</td>\n",
       "      <td>0</td>\n",
       "      <td>0</td>\n",
       "      <td>1</td>\n",
       "      <td>0</td>\n",
       "      <td>1</td>\n",
       "      <td>0</td>\n",
       "      <td>0.0</td>\n",
       "      <td>0</td>\n",
       "    </tr>\n",
       "    <tr>\n",
       "      <th>...</th>\n",
       "      <td>...</td>\n",
       "      <td>...</td>\n",
       "      <td>...</td>\n",
       "      <td>...</td>\n",
       "      <td>...</td>\n",
       "      <td>...</td>\n",
       "      <td>...</td>\n",
       "      <td>...</td>\n",
       "      <td>...</td>\n",
       "      <td>...</td>\n",
       "      <td>...</td>\n",
       "      <td>...</td>\n",
       "      <td>...</td>\n",
       "      <td>...</td>\n",
       "      <td>...</td>\n",
       "      <td>...</td>\n",
       "      <td>...</td>\n",
       "      <td>...</td>\n",
       "      <td>...</td>\n",
       "      <td>...</td>\n",
       "    </tr>\n",
       "    <tr>\n",
       "      <th>5036</th>\n",
       "      <td>1</td>\n",
       "      <td>20</td>\n",
       "      <td>0</td>\n",
       "      <td>0</td>\n",
       "      <td>1</td>\n",
       "      <td>2</td>\n",
       "      <td>0.998410</td>\n",
       "      <td>33.0</td>\n",
       "      <td>10.0</td>\n",
       "      <td>1</td>\n",
       "      <td>0</td>\n",
       "      <td>0</td>\n",
       "      <td>0</td>\n",
       "      <td>0</td>\n",
       "      <td>1</td>\n",
       "      <td>0</td>\n",
       "      <td>0</td>\n",
       "      <td>1</td>\n",
       "      <td>1.0</td>\n",
       "      <td>1</td>\n",
       "    </tr>\n",
       "    <tr>\n",
       "      <th>152</th>\n",
       "      <td>0</td>\n",
       "      <td>61</td>\n",
       "      <td>0</td>\n",
       "      <td>0</td>\n",
       "      <td>0</td>\n",
       "      <td>1</td>\n",
       "      <td>0.990584</td>\n",
       "      <td>1.0</td>\n",
       "      <td>0.0</td>\n",
       "      <td>1</td>\n",
       "      <td>0</td>\n",
       "      <td>0</td>\n",
       "      <td>0</td>\n",
       "      <td>0</td>\n",
       "      <td>1</td>\n",
       "      <td>0</td>\n",
       "      <td>1</td>\n",
       "      <td>0</td>\n",
       "      <td>1.0</td>\n",
       "      <td>1</td>\n",
       "    </tr>\n",
       "    <tr>\n",
       "      <th>4265</th>\n",
       "      <td>1</td>\n",
       "      <td>20</td>\n",
       "      <td>0</td>\n",
       "      <td>0</td>\n",
       "      <td>0</td>\n",
       "      <td>0</td>\n",
       "      <td>0.505915</td>\n",
       "      <td>32.0</td>\n",
       "      <td>1.0</td>\n",
       "      <td>0</td>\n",
       "      <td>0</td>\n",
       "      <td>0</td>\n",
       "      <td>0</td>\n",
       "      <td>1</td>\n",
       "      <td>1</td>\n",
       "      <td>0</td>\n",
       "      <td>1</td>\n",
       "      <td>0</td>\n",
       "      <td>1.0</td>\n",
       "      <td>1</td>\n",
       "    </tr>\n",
       "    <tr>\n",
       "      <th>4798</th>\n",
       "      <td>0</td>\n",
       "      <td>31</td>\n",
       "      <td>0</td>\n",
       "      <td>0</td>\n",
       "      <td>0</td>\n",
       "      <td>0</td>\n",
       "      <td>0.537743</td>\n",
       "      <td>11.0</td>\n",
       "      <td>0.0</td>\n",
       "      <td>0</td>\n",
       "      <td>0</td>\n",
       "      <td>0</td>\n",
       "      <td>0</td>\n",
       "      <td>0</td>\n",
       "      <td>1</td>\n",
       "      <td>0</td>\n",
       "      <td>1</td>\n",
       "      <td>0</td>\n",
       "      <td>0.0</td>\n",
       "      <td>1</td>\n",
       "    </tr>\n",
       "    <tr>\n",
       "      <th>3481</th>\n",
       "      <td>1</td>\n",
       "      <td>42</td>\n",
       "      <td>0</td>\n",
       "      <td>0</td>\n",
       "      <td>0</td>\n",
       "      <td>5</td>\n",
       "      <td>0.563569</td>\n",
       "      <td>55.0</td>\n",
       "      <td>2.0</td>\n",
       "      <td>1</td>\n",
       "      <td>0</td>\n",
       "      <td>0</td>\n",
       "      <td>0</td>\n",
       "      <td>0</td>\n",
       "      <td>1</td>\n",
       "      <td>0</td>\n",
       "      <td>0</td>\n",
       "      <td>0</td>\n",
       "      <td>1.0</td>\n",
       "      <td>0</td>\n",
       "    </tr>\n",
       "  </tbody>\n",
       "</table>\n",
       "<p>1437 rows × 20 columns</p>\n",
       "</div>"
      ],
      "text/plain": [
       "      sex  age  juv_fel_count  juv_misd_count  juv_other_count  priors_count  \\\n",
       "3600    1   40              0               0                0             0   \n",
       "4218    1   53              0               0                0             0   \n",
       "900     0   28              0               0                1             3   \n",
       "5345    1   21              0               0                0             0   \n",
       "5682    1   35              0               0                0             4   \n",
       "...   ...  ...            ...             ...              ...           ...   \n",
       "5036    1   20              0               0                1             2   \n",
       "152     0   61              0               0                0             1   \n",
       "4265    1   20              0               0                0             0   \n",
       "4798    0   31              0               0                0             0   \n",
       "3481    1   42              0               0                0             5   \n",
       "\n",
       "      c_charge_desc  time_in_custody_in_days  time_in_jail_in_days  \\\n",
       "3600       0.377261                      2.0                   2.0   \n",
       "4218       0.540904                      0.0                   0.0   \n",
       "900        0.377261                     45.0                  45.0   \n",
       "5345       0.377261                      2.0                   1.0   \n",
       "5682       0.448707                      9.0                 169.0   \n",
       "...             ...                      ...                   ...   \n",
       "5036       0.998410                     33.0                  10.0   \n",
       "152        0.990584                      1.0                   0.0   \n",
       "4265       0.505915                     32.0                   1.0   \n",
       "4798       0.537743                     11.0                   0.0   \n",
       "3481       0.563569                     55.0                   2.0   \n",
       "\n",
       "      African-American_race  Asian_race  Hispanic_race  Native American_race  \\\n",
       "3600                      1           0              0                     0   \n",
       "4218                      0           0              0                     0   \n",
       "900                       0           0              0                     0   \n",
       "5345                      0           0              0                     0   \n",
       "5682                      0           0              0                     0   \n",
       "...                     ...         ...            ...                   ...   \n",
       "5036                      1           0              0                     0   \n",
       "152                       1           0              0                     0   \n",
       "4265                      0           0              0                     0   \n",
       "4798                      0           0              0                     0   \n",
       "3481                      1           0              0                     0   \n",
       "\n",
       "      Other_race  Felony_c_charge_degree  High_score_text  Low_score_text  \\\n",
       "3600           0                       0                0               1   \n",
       "4218           0                       0                0               1   \n",
       "900            0                       0                0               1   \n",
       "5345           0                       0                0               1   \n",
       "5682           0                       1                0               1   \n",
       "...          ...                     ...              ...             ...   \n",
       "5036           0                       1                0               0   \n",
       "152            0                       1                0               1   \n",
       "4265           1                       1                0               1   \n",
       "4798           0                       1                0               1   \n",
       "3481           0                       1                0               0   \n",
       "\n",
       "      High_v_score_text  model_prediction  true_prediction  \n",
       "3600                  0               0.0                0  \n",
       "4218                  0               0.0                0  \n",
       "900                   0               1.0                0  \n",
       "5345                  0               0.0                1  \n",
       "5682                  0               0.0                0  \n",
       "...                 ...               ...              ...  \n",
       "5036                  1               1.0                1  \n",
       "152                   0               1.0                1  \n",
       "4265                  0               1.0                1  \n",
       "4798                  0               0.0                1  \n",
       "3481                  0               1.0                0  \n",
       "\n",
       "[1437 rows x 20 columns]"
      ]
     },
     "execution_count": 28,
     "metadata": {},
     "output_type": "execute_result"
    }
   ],
   "source": [
    "X_test.drop([\"id\"], axis=1)"
   ]
  },
  {
   "cell_type": "markdown",
   "metadata": {},
   "source": [
    "<H1>FAIRNESS</H1> "
   ]
  },
  {
   "cell_type": "markdown",
   "metadata": {},
   "source": [
    "<h2>Evaluating fairness of the baseline model</h2>"
   ]
  },
  {
   "cell_type": "markdown",
   "metadata": {},
   "source": [
    "In our case, sensitive attributes are gender and race. Therefore analysing the fairness metrics for these groups on below metrics:"
   ]
  },
  {
   "cell_type": "markdown",
   "metadata": {},
   "source": [
    "<h3> We will check bias of baseline model against two sensitve variables sex and race.</h3>"
   ]
  },
  {
   "cell_type": "code",
   "execution_count": 29,
   "metadata": {
    "ExecuteTime": {
     "end_time": "2023-12-02T17:34:41.017128Z",
     "start_time": "2023-12-02T17:34:40.941461Z"
    }
   },
   "outputs": [
    {
     "data": {
      "text/plain": [
       "<AxesSubplot:xlabel='sex', ylabel='count'>"
      ]
     },
     "execution_count": 29,
     "metadata": {},
     "output_type": "execute_result"
    },
    {
     "data": {
      "image/png": "[encoded data removed]",
      "text/plain": [
       "<Figure size 640x480 with 1 Axes>"
      ]
     },
     "metadata": {},
     "output_type": "display_data"
    }
   ],
   "source": [
    "# order = sorted(data[col].unique())\n",
    "sns.countplot(data=X_test, x=\"sex\", hue=\"true_prediction\")"
   ]
  },
  {
   "cell_type": "code",
   "execution_count": 30,
   "metadata": {
    "ExecuteTime": {
     "end_time": "2023-12-02T17:34:41.389895Z",
     "start_time": "2023-12-02T17:34:41.320360Z"
    }
   },
   "outputs": [
    {
     "data": {
      "text/plain": [
       "<AxesSubplot:xlabel='sex', ylabel='count'>"
      ]
     },
     "execution_count": 30,
     "metadata": {},
     "output_type": "execute_result"
    },
    {
     "data": {
      "image/png": "[encoded data removed]",
      "text/plain": [
       "<Figure size 640x480 with 1 Axes>"
      ]
     },
     "metadata": {},
     "output_type": "display_data"
    }
   ],
   "source": [
    "# order = sorted(data[col].unique())\n",
    "sns.countplot(data=X_test, x=\"sex\", hue=\"model_prediction\")"
   ]
  },
  {
   "cell_type": "markdown",
   "metadata": {},
   "source": [
    "Note: Evident bias against gender male"
   ]
  },
  {
   "cell_type": "markdown",
   "metadata": {},
   "source": [
    "* checking probability distribution across genders"
   ]
  },
  {
   "cell_type": "code",
   "execution_count": 31,
   "metadata": {
    "ExecuteTime": {
     "end_time": "2023-12-02T17:34:42.153604Z",
     "start_time": "2023-12-02T17:34:41.996465Z"
    }
   },
   "outputs": [
    {
     "data": {
      "text/plain": [
       "<seaborn.axisgrid.FacetGrid at 0x7f86946e24c0>"
      ]
     },
     "execution_count": 31,
     "metadata": {},
     "output_type": "execute_result"
    },
    {
     "data": {
      "text/plain": [
       "<Figure size 1000x600 with 0 Axes>"
      ]
     },
     "metadata": {},
     "output_type": "display_data"
    },
    {
     "data": {
      "image/png": "[encoded data removed]",
      "text/plain": [
       "<Figure size 558.875x500 with 1 Axes>"
      ]
     },
     "metadata": {},
     "output_type": "display_data"
    }
   ],
   "source": [
    "sex_prob_dist_df = pd.merge(\n",
    "    predictions_df, X_test[\"sex\"], left_index=True, right_index=True\n",
    ")\n",
    "plt.figure(figsize=(10, 6))\n",
    "sns.displot(sex_prob_dist_df, x=\"y_pred_prob\", hue=\"sex\")"
   ]
  },
  {
   "cell_type": "markdown",
   "metadata": {},
   "source": [
    "Checking the performance of the baseline model on the below metrics:\n",
    "1. Statistical Parity : Comparing the Positive Prediction Rate/Precision across groups. i.e. comparing the actual postives against the predicted postives. i.e out of model's postive predictions, how many actually reoffended. A fair model should not have too low of a PPR for sensitive groups since that indicates that model unfairly predicts that many people would reoffend, compred to what aftually did\n",
    "2. Equal Opportunity : What is the probability that an actual poitive will test positive, i.e. an actual reoffender will be classified as a reoffender? We will compare TPR across groups to compare this. Model should not have too low of a TPR for previledged groups\n",
    "3. <b>False Positive Rate Disparity : difference across groups in the probability of falsely predicting the reoffence, when they didnt commit one. This will be the metric we will be trying to control going forward, to avoid falsly accusing innocents, and be fair across groups</b> "
   ]
  },
  {
   "cell_type": "markdown",
   "metadata": {},
   "source": [
    "<I>Note that the negative values of these metrics are due tot he fact that the metrics are defined considering '1' as 'favorable' outcome and '0' as unfavorable outcome, hence we will be taking negative signs of those and inverting the ratio metrics to keep the results intuitive and inline with thier usual meanings"
   ]
  },
  {
   "cell_type": "code",
   "execution_count": 32,
   "metadata": {
    "ExecuteTime": {
     "end_time": "2023-12-02T17:34:42.661915Z",
     "start_time": "2023-12-02T17:34:42.656142Z"
    }
   },
   "outputs": [],
   "source": [
    "gender_group_female = X_test[\"sex\"] == 0\n",
    "gender_group_male = X_test[\"sex\"] == 1"
   ]
  },
  {
   "cell_type": "markdown",
   "metadata": {},
   "source": [
    "<b>1. Statistical parity:</b>"
   ]
  },
  {
   "cell_type": "code",
   "execution_count": 33,
   "metadata": {
    "ExecuteTime": {
     "end_time": "2023-12-02T17:34:42.988850Z",
     "start_time": "2023-12-02T17:34:42.980026Z"
    }
   },
   "outputs": [
    {
     "data": {
      "text/plain": [
       "0.2036455117915792"
      ]
     },
     "execution_count": 33,
     "metadata": {},
     "output_type": "execute_result"
    }
   ],
   "source": [
    "abs(statistical_parity(gender_group_female, gender_group_male, y_pred_test))"
   ]
  },
  {
   "cell_type": "markdown",
   "metadata": {},
   "source": [
    "Statistical parity is positive. Meaning the model is biased against gender_group_male. It should be as close to 0 as possible.\n",
    "We will try to verify it below"
   ]
  },
  {
   "cell_type": "code",
   "execution_count": 34,
   "metadata": {
    "ExecuteTime": {
     "end_time": "2023-12-02T17:34:43.343700Z",
     "start_time": "2023-12-02T17:34:43.319074Z"
    }
   },
   "outputs": [
    {
     "data": {
      "text/html": [
       "<div>\n",
       "<style scoped>\n",
       "    .dataframe tbody tr th:only-of-type {\n",
       "        vertical-align: middle;\n",
       "    }\n",
       "\n",
       "    .dataframe tbody tr th {\n",
       "        vertical-align: top;\n",
       "    }\n",
       "\n",
       "    .dataframe thead th {\n",
       "        text-align: right;\n",
       "    }\n",
       "</style>\n",
       "<table border=\"1\" class=\"dataframe\">\n",
       "  <thead>\n",
       "    <tr style=\"text-align: right;\">\n",
       "      <th></th>\n",
       "      <th>positive_prediction</th>\n",
       "      <th>true_prediction</th>\n",
       "      <th>PPR</th>\n",
       "    </tr>\n",
       "    <tr>\n",
       "      <th>sex</th>\n",
       "      <th></th>\n",
       "      <th></th>\n",
       "      <th></th>\n",
       "    </tr>\n",
       "  </thead>\n",
       "  <tbody>\n",
       "    <tr>\n",
       "      <th>0</th>\n",
       "      <td>71.0</td>\n",
       "      <td>49</td>\n",
       "      <td>0.690141</td>\n",
       "    </tr>\n",
       "    <tr>\n",
       "      <th>1</th>\n",
       "      <td>529.0</td>\n",
       "      <td>359</td>\n",
       "      <td>0.678639</td>\n",
       "    </tr>\n",
       "  </tbody>\n",
       "</table>\n",
       "</div>"
      ],
      "text/plain": [
       "     positive_prediction  true_prediction       PPR\n",
       "sex                                                \n",
       "0                   71.0               49  0.690141\n",
       "1                  529.0              359  0.678639"
      ]
     },
     "execution_count": 34,
     "metadata": {},
     "output_type": "execute_result"
    }
   ],
   "source": [
    "positive_pred_sex_df = X_test[\n",
    "    X_test[\"model_prediction\"] == 1\n",
    "]  # taking positive predictions\n",
    "Positive_pred_rate_sex_df = (\n",
    "    positive_pred_sex_df.groupby(\"sex\")[\"model_prediction\", \"true_prediction\"]\n",
    "    .sum()\n",
    "    .rename(\n",
    "        columns={\n",
    "            \"model_prediction\": \"positive_prediction\",\n",
    "            \"true_prediction\": \"true_prediction\",\n",
    "        }\n",
    "    )\n",
    ")\n",
    "Positive_pred_rate_sex_df[\"PPR\"] = (\n",
    "    Positive_pred_rate_sex_df[\"true_prediction\"]\n",
    "    / Positive_pred_rate_sex_df[\"positive_prediction\"]\n",
    ")\n",
    "Positive_pred_rate_sex_df"
   ]
  },
  {
   "cell_type": "markdown",
   "metadata": {},
   "source": [
    "very slight bias in terms of disriminating over gender as per statistical Parity"
   ]
  },
  {
   "cell_type": "markdown",
   "metadata": {},
   "source": [
    "<b> 2. Equal opportunity : is there differene in Recall across gender groups? That means, out of all the true reoffenders across groups, are we eually likely to predict the chances of reoffence for all the groups? </b>\n"
   ]
  },
  {
   "cell_type": "markdown",
   "metadata": {},
   "source": [
    "If we are fair, metric would be 0 , meaning equally likely to predict positive from actual positives across groups. more the deviation, more unfair we are"
   ]
  },
  {
   "cell_type": "code",
   "execution_count": 35,
   "metadata": {
    "ExecuteTime": {
     "end_time": "2023-12-02T17:34:44.446130Z",
     "start_time": "2023-12-02T17:34:44.431111Z"
    }
   },
   "outputs": [
    {
     "data": {
      "text/plain": [
       "0.18419831524842945"
      ]
     },
     "execution_count": 35,
     "metadata": {},
     "output_type": "execute_result"
    }
   ],
   "source": [
    "abs(equal_opportunity_diff(gender_group_female, gender_group_male, y_pred_test, y_test))"
   ]
  },
  {
   "cell_type": "markdown",
   "metadata": {},
   "source": [
    "Model is slightly unfair towards male group. Let us verify by calculating recall across gender groups"
   ]
  },
  {
   "cell_type": "code",
   "execution_count": 36,
   "metadata": {
    "ExecuteTime": {
     "end_time": "2023-12-02T17:34:45.171591Z",
     "start_time": "2023-12-02T17:34:45.151606Z"
    }
   },
   "outputs": [
    {
     "data": {
      "text/html": [
       "<div>\n",
       "<style scoped>\n",
       "    .dataframe tbody tr th:only-of-type {\n",
       "        vertical-align: middle;\n",
       "    }\n",
       "\n",
       "    .dataframe tbody tr th {\n",
       "        vertical-align: top;\n",
       "    }\n",
       "\n",
       "    .dataframe thead th {\n",
       "        text-align: right;\n",
       "    }\n",
       "</style>\n",
       "<table border=\"1\" class=\"dataframe\">\n",
       "  <thead>\n",
       "    <tr style=\"text-align: right;\">\n",
       "      <th></th>\n",
       "      <th>positive_prediction</th>\n",
       "      <th>true_prediction</th>\n",
       "      <th>TPR</th>\n",
       "    </tr>\n",
       "    <tr>\n",
       "      <th>sex</th>\n",
       "      <th></th>\n",
       "      <th></th>\n",
       "      <th></th>\n",
       "    </tr>\n",
       "  </thead>\n",
       "  <tbody>\n",
       "    <tr>\n",
       "      <th>0</th>\n",
       "      <td>49.0</td>\n",
       "      <td>103</td>\n",
       "      <td>0.475728</td>\n",
       "    </tr>\n",
       "    <tr>\n",
       "      <th>1</th>\n",
       "      <td>359.0</td>\n",
       "      <td>544</td>\n",
       "      <td>0.659926</td>\n",
       "    </tr>\n",
       "  </tbody>\n",
       "</table>\n",
       "</div>"
      ],
      "text/plain": [
       "     positive_prediction  true_prediction       TPR\n",
       "sex                                                \n",
       "0                   49.0              103  0.475728\n",
       "1                  359.0              544  0.659926"
      ]
     },
     "execution_count": 36,
     "metadata": {},
     "output_type": "execute_result"
    }
   ],
   "source": [
    "positive_act_sex_df = X_test[X_test[\"true_prediction\"] == 1]  # taking positive actuals\n",
    "true_pos_rate_sex_df = (\n",
    "    positive_act_sex_df.groupby(\"sex\")[\"model_prediction\", \"true_prediction\"]\n",
    "    .sum()\n",
    "    .rename(\n",
    "        columns={\n",
    "            \"model_prediction\": \"positive_prediction\",\n",
    "            \"true_prediction\": \"true_prediction\",\n",
    "        }\n",
    "    )\n",
    ")\n",
    "true_pos_rate_sex_df[\"TPR\"] = (\n",
    "    true_pos_rate_sex_df[\"positive_prediction\"]\n",
    "    / true_pos_rate_sex_df[\"true_prediction\"]\n",
    ")\n",
    "true_pos_rate_sex_df"
   ]
  },
  {
   "cell_type": "code",
   "execution_count": 37,
   "metadata": {
    "ExecuteTime": {
     "end_time": "2023-12-02T17:34:45.487010Z",
     "start_time": "2023-12-02T17:34:45.463801Z"
    }
   },
   "outputs": [
    {
     "data": {
      "text/html": [
       "<div>\n",
       "<style scoped>\n",
       "    .dataframe tbody tr th:only-of-type {\n",
       "        vertical-align: middle;\n",
       "    }\n",
       "\n",
       "    .dataframe tbody tr th {\n",
       "        vertical-align: top;\n",
       "    }\n",
       "\n",
       "    .dataframe thead th {\n",
       "        text-align: right;\n",
       "    }\n",
       "</style>\n",
       "<table border=\"1\" class=\"dataframe\">\n",
       "  <thead>\n",
       "    <tr style=\"text-align: right;\">\n",
       "      <th></th>\n",
       "      <th>positive_prediction</th>\n",
       "      <th>true_prediction</th>\n",
       "      <th>TPR</th>\n",
       "    </tr>\n",
       "    <tr>\n",
       "      <th>sex</th>\n",
       "      <th></th>\n",
       "      <th></th>\n",
       "      <th></th>\n",
       "    </tr>\n",
       "  </thead>\n",
       "  <tbody>\n",
       "    <tr>\n",
       "      <th>0</th>\n",
       "      <td>49.0</td>\n",
       "      <td>103</td>\n",
       "      <td>0.475728</td>\n",
       "    </tr>\n",
       "    <tr>\n",
       "      <th>1</th>\n",
       "      <td>359.0</td>\n",
       "      <td>544</td>\n",
       "      <td>0.659926</td>\n",
       "    </tr>\n",
       "  </tbody>\n",
       "</table>\n",
       "</div>"
      ],
      "text/plain": [
       "     positive_prediction  true_prediction       TPR\n",
       "sex                                                \n",
       "0                   49.0              103  0.475728\n",
       "1                  359.0              544  0.659926"
      ]
     },
     "execution_count": 37,
     "metadata": {},
     "output_type": "execute_result"
    }
   ],
   "source": [
    "# MLP\n",
    "positive_act_sex_df = X_test[X_test[\"true_prediction\"] == 1]  # taking positive actuals\n",
    "true_pos_rate_sex_df = (\n",
    "    positive_act_sex_df.groupby(\"sex\")[\"model_prediction\", \"true_prediction\"]\n",
    "    .sum()\n",
    "    .rename(\n",
    "        columns={\n",
    "            \"model_prediction\": \"positive_prediction\",\n",
    "            \"true_prediction\": \"true_prediction\",\n",
    "        }\n",
    "    )\n",
    ")\n",
    "true_pos_rate_sex_df[\"TPR\"] = (\n",
    "    true_pos_rate_sex_df[\"positive_prediction\"]\n",
    "    / true_pos_rate_sex_df[\"true_prediction\"]\n",
    ")\n",
    "true_pos_rate_sex_df"
   ]
  },
  {
   "cell_type": "markdown",
   "metadata": {},
   "source": [
    "Recall for Males is much much higher than Females, ideally it should be equal."
   ]
  },
  {
   "cell_type": "markdown",
   "metadata": {},
   "source": [
    "<b>3. False Positive Rate Disparity : Compares FPR, i.e probability of predicting as criminal even when they are not!"
   ]
  },
  {
   "cell_type": "code",
   "execution_count": 38,
   "metadata": {
    "ExecuteTime": {
     "end_time": "2023-12-02T17:34:46.307669Z",
     "start_time": "2023-12-02T17:34:46.296308Z"
    }
   },
   "outputs": [
    {
     "data": {
      "text/plain": [
       "0.15303084764195718"
      ]
     },
     "execution_count": 38,
     "metadata": {},
     "output_type": "execute_result"
    }
   ],
   "source": [
    "abs(\n",
    "    false_positive_rate_diff(\n",
    "        gender_group_female, gender_group_male, y_pred_test, y_test\n",
    "    )\n",
    ")"
   ]
  },
  {
   "cell_type": "code",
   "execution_count": 39,
   "metadata": {
    "ExecuteTime": {
     "end_time": "2023-12-02T17:34:46.568280Z",
     "start_time": "2023-12-02T17:34:46.540486Z"
    }
   },
   "outputs": [
    {
     "data": {
      "text/html": [
       "<div>\n",
       "<style scoped>\n",
       "    .dataframe tbody tr th:only-of-type {\n",
       "        vertical-align: middle;\n",
       "    }\n",
       "\n",
       "    .dataframe tbody tr th {\n",
       "        vertical-align: top;\n",
       "    }\n",
       "\n",
       "    .dataframe thead th {\n",
       "        text-align: right;\n",
       "    }\n",
       "</style>\n",
       "<table border=\"1\" class=\"dataframe\">\n",
       "  <thead>\n",
       "    <tr style=\"text-align: right;\">\n",
       "      <th></th>\n",
       "      <th>positive_prediction</th>\n",
       "      <th>actual_negatives</th>\n",
       "      <th>FPR</th>\n",
       "    </tr>\n",
       "    <tr>\n",
       "      <th>sex</th>\n",
       "      <th></th>\n",
       "      <th></th>\n",
       "      <th></th>\n",
       "    </tr>\n",
       "  </thead>\n",
       "  <tbody>\n",
       "    <tr>\n",
       "      <th>0</th>\n",
       "      <td>22.0</td>\n",
       "      <td>177</td>\n",
       "      <td>0.124294</td>\n",
       "    </tr>\n",
       "    <tr>\n",
       "      <th>1</th>\n",
       "      <td>170.0</td>\n",
       "      <td>613</td>\n",
       "      <td>0.277325</td>\n",
       "    </tr>\n",
       "  </tbody>\n",
       "</table>\n",
       "</div>"
      ],
      "text/plain": [
       "     positive_prediction  actual_negatives       FPR\n",
       "sex                                                 \n",
       "0                   22.0               177  0.124294\n",
       "1                  170.0               613  0.277325"
      ]
     },
     "execution_count": 39,
     "metadata": {},
     "output_type": "execute_result"
    }
   ],
   "source": [
    "negative_act_sex_df = X_test[X_test[\"true_prediction\"] == 0]  # taking negative actuals\n",
    "fpr_sex_df = (\n",
    "    negative_act_sex_df.groupby(\"sex\")[\"model_prediction\"]\n",
    "    .aggregate([\"sum\", \"count\"])\n",
    "    .rename(columns={\"sum\": \"positive_prediction\", \"count\": \"actual_negatives\"})\n",
    ")\n",
    "fpr_sex_df[\"FPR\"] = fpr_sex_df[\"positive_prediction\"] / fpr_sex_df[\"actual_negatives\"]\n",
    "fpr_sex_df"
   ]
  },
  {
   "cell_type": "code",
   "execution_count": 40,
   "metadata": {
    "ExecuteTime": {
     "end_time": "2023-12-02T17:34:46.926430Z",
     "start_time": "2023-12-02T17:34:46.905695Z"
    }
   },
   "outputs": [
    {
     "data": {
      "text/html": [
       "<div>\n",
       "<style scoped>\n",
       "    .dataframe tbody tr th:only-of-type {\n",
       "        vertical-align: middle;\n",
       "    }\n",
       "\n",
       "    .dataframe tbody tr th {\n",
       "        vertical-align: top;\n",
       "    }\n",
       "\n",
       "    .dataframe thead th {\n",
       "        text-align: right;\n",
       "    }\n",
       "</style>\n",
       "<table border=\"1\" class=\"dataframe\">\n",
       "  <thead>\n",
       "    <tr style=\"text-align: right;\">\n",
       "      <th></th>\n",
       "      <th>positive_prediction</th>\n",
       "      <th>actual_negatives</th>\n",
       "      <th>FPR</th>\n",
       "    </tr>\n",
       "    <tr>\n",
       "      <th>sex</th>\n",
       "      <th></th>\n",
       "      <th></th>\n",
       "      <th></th>\n",
       "    </tr>\n",
       "  </thead>\n",
       "  <tbody>\n",
       "    <tr>\n",
       "      <th>0</th>\n",
       "      <td>22.0</td>\n",
       "      <td>177</td>\n",
       "      <td>0.124294</td>\n",
       "    </tr>\n",
       "    <tr>\n",
       "      <th>1</th>\n",
       "      <td>170.0</td>\n",
       "      <td>613</td>\n",
       "      <td>0.277325</td>\n",
       "    </tr>\n",
       "  </tbody>\n",
       "</table>\n",
       "</div>"
      ],
      "text/plain": [
       "     positive_prediction  actual_negatives       FPR\n",
       "sex                                                 \n",
       "0                   22.0               177  0.124294\n",
       "1                  170.0               613  0.277325"
      ]
     },
     "execution_count": 40,
     "metadata": {},
     "output_type": "execute_result"
    }
   ],
   "source": [
    "# MLP\n",
    "negative_act_sex_df = X_test[X_test[\"true_prediction\"] == 0]  # taking negative actuals\n",
    "fpr_sex_df = (\n",
    "    negative_act_sex_df.groupby(\"sex\")[\"model_prediction\"]\n",
    "    .aggregate([\"sum\", \"count\"])\n",
    "    .rename(columns={\"sum\": \"positive_prediction\", \"count\": \"actual_negatives\"})\n",
    ")\n",
    "fpr_sex_df[\"FPR\"] = fpr_sex_df[\"positive_prediction\"] / fpr_sex_df[\"actual_negatives\"]\n",
    "fpr_sex_df"
   ]
  },
  {
   "cell_type": "code",
   "execution_count": 41,
   "metadata": {
    "ExecuteTime": {
     "end_time": "2023-12-02T17:34:47.240040Z",
     "start_time": "2023-12-02T17:34:47.171555Z"
    }
   },
   "outputs": [
    {
     "data": {
      "text/plain": [
       "[Text(0, 0, '0.124294'), Text(0, 0, '0.277325')]"
      ]
     },
     "execution_count": 41,
     "metadata": {},
     "output_type": "execute_result"
    },
    {
     "data": {
      "image/png": "[encoded data removed]",
      "text/plain": [
       "<Figure size 640x480 with 1 Axes>"
      ]
     },
     "metadata": {},
     "output_type": "display_data"
    }
   ],
   "source": [
    "plt.figure()\n",
    "ax = sns.barplot(x=fpr_sex_df.index, y=fpr_sex_df[\"FPR\"])\n",
    "plt.title(\"FPR of Male vs Female\")\n",
    "plt.xlabel(\"Sex\")\n",
    "plt.ylabel(\"FPR\")\n",
    "ax.bar_label(ax.containers[0])"
   ]
  },
  {
   "cell_type": "markdown",
   "metadata": {},
   "source": [
    "Males are more likely to be predicted as reoffenders even when they are not. "
   ]
  },
  {
   "cell_type": "markdown",
   "metadata": {},
   "source": [
    "<h3> doing similar analysis for race </h3>"
   ]
  },
  {
   "cell_type": "code",
   "execution_count": 42,
   "metadata": {
    "ExecuteTime": {
     "end_time": "2023-12-02T17:34:48.057021Z",
     "start_time": "2023-12-02T17:34:48.050766Z"
    }
   },
   "outputs": [
    {
     "data": {
      "text/plain": [
       "Index(['id', 'sex', 'age', 'juv_fel_count', 'juv_misd_count',\n",
       "       'juv_other_count', 'priors_count', 'c_charge_desc',\n",
       "       'time_in_custody_in_days', 'time_in_jail_in_days',\n",
       "       'African-American_race', 'Asian_race', 'Hispanic_race',\n",
       "       'Native American_race', 'Other_race', 'Felony_c_charge_degree',\n",
       "       'High_score_text', 'Low_score_text', 'High_v_score_text',\n",
       "       'model_prediction', 'true_prediction'],\n",
       "      dtype='object')"
      ]
     },
     "execution_count": 42,
     "metadata": {},
     "output_type": "execute_result"
    }
   ],
   "source": [
    "X_test.columns"
   ]
  },
  {
   "cell_type": "code",
   "execution_count": 43,
   "metadata": {
    "ExecuteTime": {
     "end_time": "2023-12-02T17:34:48.251641Z",
     "start_time": "2023-12-02T17:34:48.232626Z"
    }
   },
   "outputs": [],
   "source": [
    "race_df = pd.merge(\n",
    "    X_test[\n",
    "        [\n",
    "            \"sex\",\n",
    "            \"African-American_race\",\n",
    "            \"Asian_race\",\n",
    "            \"Hispanic_race\",\n",
    "            \"Native American_race\",\n",
    "            \"Other_race\",\n",
    "        ]\n",
    "    ],\n",
    "    predictions_df,\n",
    "    left_index=True,\n",
    "    right_index=True,\n",
    ")\n",
    "race_df[\"sex\"] = race_df[\"sex\"].astype(\"category\")\n",
    "race_df[\"African-American_race\"] = race_df[\"African-American_race\"].astype(\"category\")\n",
    "race_df[\"Asian_race\"] = race_df[\"Asian_race\"].astype(\"category\")\n",
    "race_df[\"Hispanic_race\"] = race_df[\"Hispanic_race\"].astype(\"category\")\n",
    "race_df[\"Native American_race\"] = race_df[\"Native American_race\"].astype(\"category\")\n",
    "race_df[\"Other_race\"] = race_df[\"Other_race\"].astype(\"category\")"
   ]
  },
  {
   "cell_type": "code",
   "execution_count": 44,
   "metadata": {
    "ExecuteTime": {
     "end_time": "2023-12-02T17:34:48.429153Z",
     "start_time": "2023-12-02T17:34:48.420768Z"
    }
   },
   "outputs": [],
   "source": [
    "fairness_eval_race_df = pd.DataFrame(columns=[\"column\", \"fprd\"])"
   ]
  },
  {
   "cell_type": "code",
   "execution_count": 45,
   "metadata": {
    "ExecuteTime": {
     "end_time": "2023-12-02T17:34:48.648051Z",
     "start_time": "2023-12-02T17:34:48.620443Z"
    }
   },
   "outputs": [
    {
     "name": "stdout",
     "output_type": "stream",
     "text": [
      "sex\n",
      "sex 0.15303084764195718\n",
      "African-American_race\n",
      "African-American_race 0.166277501037775\n",
      "Asian_race\n",
      "Asian_race -0.24521072796934865\n",
      "Hispanic_race\n",
      "Hispanic_race -0.039858068072206154\n",
      "Native American_race\n",
      "Native American_race 0.2576142131979695\n",
      "Other_race\n",
      "Other_race 0.002406492409308514\n"
     ]
    }
   ],
   "source": [
    "y_pred = race_df[\"y_pred_labels\"]\n",
    "y_true = race_df[\"y_true_labels\"]\n",
    "for col in race_df.columns[0:6]:\n",
    "    print(col)\n",
    "    privileged_group = race_df[col] == 0\n",
    "    unprivileged_group = race_df[col] == 1\n",
    "    fpr_diff = false_positive_rate_diff(\n",
    "        unprivileged_group, privileged_group, y_pred, y_true\n",
    "    )\n",
    "    print(col, fpr_diff)"
   ]
  },
  {
   "cell_type": "code",
   "execution_count": 46,
   "metadata": {
    "ExecuteTime": {
     "end_time": "2023-12-02T17:34:49.534763Z",
     "start_time": "2023-12-02T17:34:49.521669Z"
    }
   },
   "outputs": [
    {
     "name": "stdout",
     "output_type": "stream",
     "text": [
      "0.24581538522058966\n"
     ]
    }
   ],
   "source": [
    "privileged_group = race_df[\"African-American_race\"] == 0\n",
    "unprivileged_group = race_df[\"African-American_race\"] == 1\n",
    "print(\n",
    "    equal_opportunity_diff(\n",
    "        unprivileged_group,\n",
    "        privileged_group,\n",
    "        race_df[\"y_pred_labels\"],\n",
    "        race_df[\"y_true_labels\"],\n",
    "    )\n",
    ")"
   ]
  },
  {
   "cell_type": "code",
   "execution_count": 47,
   "metadata": {
    "ExecuteTime": {
     "end_time": "2023-12-02T17:34:49.836175Z",
     "start_time": "2023-12-02T17:34:49.763076Z"
    }
   },
   "outputs": [
    {
     "data": {
      "text/plain": [
       "<AxesSubplot:xlabel='African-American_race', ylabel='count'>"
      ]
     },
     "execution_count": 47,
     "metadata": {},
     "output_type": "execute_result"
    },
    {
     "data": {
      "image/png": "[encoded data removed]",
      "text/plain": [
       "<Figure size 640x480 with 1 Axes>"
      ]
     },
     "metadata": {},
     "output_type": "display_data"
    }
   ],
   "source": [
    "# order = sorted(data[col].unique())\n",
    "sns.countplot(data=X_test, x=\"African-American_race\", hue=\"model_prediction\")"
   ]
  },
  {
   "cell_type": "code",
   "execution_count": 48,
   "metadata": {
    "ExecuteTime": {
     "end_time": "2023-12-02T17:34:50.316036Z",
     "start_time": "2023-12-02T17:34:50.174570Z"
    }
   },
   "outputs": [
    {
     "name": "stdout",
     "output_type": "stream",
     "text": [
      "count of unprivileged vs previleged:\n",
      " False    1429\n",
      "True        8\n",
      "Name: Asian_race, dtype: int64\n",
      "------------------------------------------------------------\n",
      "statistical parity :  -0.4198740377886634\n",
      "equal opportunity diff: -0.631578947368421\n",
      "fprd : -0.24521072796934865\n",
      "dpi : 0.0\n",
      "\n"
     ]
    },
    {
     "data": {
      "text/plain": [
       "<Figure size 1000x600 with 0 Axes>"
      ]
     },
     "metadata": {},
     "output_type": "display_data"
    },
    {
     "data": {
      "image/png": "[encoded data removed]",
      "text/plain": [
       "<Figure size 667.986x500 with 1 Axes>"
      ]
     },
     "metadata": {},
     "output_type": "display_data"
    }
   ],
   "source": [
    "plt.figure(figsize=(10, 6))\n",
    "sns.displot(race_df, x=\"y_pred_prob\", hue=\"African-American_race\", kind=\"kde\")\n",
    "privileged_group = race_df[\"Asian_race\"] == 0\n",
    "unprivileged_group = race_df[\"Asian_race\"] == 1\n",
    "y_pred = race_df[\"y_pred_labels\"]\n",
    "y_true = race_df[\"y_true_labels\"]\n",
    "print(\"count of unprivileged vs previleged:\\n\", unprivileged_group.value_counts())\n",
    "print(\"------------------------------------------------------------\")\n",
    "sp = statistical_parity(unprivileged_group, privileged_group, y_pred)\n",
    "print(\"statistical parity : \", sp)\n",
    "eod = equal_opportunity_diff(unprivileged_group, privileged_group, y_pred, y_true)\n",
    "print(\"equal opportunity diff:\", eod)\n",
    "fprd = false_positive_rate_diff(unprivileged_group, privileged_group, y_pred, y_true)\n",
    "print(\"fprd :\", fprd)\n",
    "dpi = disparate_impact(unprivileged_group, privileged_group, y_pred)\n",
    "print(\"dpi :\", dpi)\n",
    "\n",
    "print()"
   ]
  },
  {
   "cell_type": "code",
   "execution_count": 49,
   "metadata": {
    "ExecuteTime": {
     "end_time": "2023-12-02T17:34:50.484810Z",
     "start_time": "2023-12-02T17:34:50.480287Z"
    }
   },
   "outputs": [],
   "source": [
    "negative_act_amrace_df = X_test[\n",
    "    X_test[\"true_prediction\"] == 0\n",
    "]  # taking negative actuals"
   ]
  },
  {
   "cell_type": "code",
   "execution_count": 50,
   "metadata": {
    "ExecuteTime": {
     "end_time": "2023-12-02T17:34:50.914189Z",
     "start_time": "2023-12-02T17:34:50.895650Z"
    }
   },
   "outputs": [
    {
     "data": {
      "text/html": [
       "<div>\n",
       "<style scoped>\n",
       "    .dataframe tbody tr th:only-of-type {\n",
       "        vertical-align: middle;\n",
       "    }\n",
       "\n",
       "    .dataframe tbody tr th {\n",
       "        vertical-align: top;\n",
       "    }\n",
       "\n",
       "    .dataframe thead th {\n",
       "        text-align: right;\n",
       "    }\n",
       "</style>\n",
       "<table border=\"1\" class=\"dataframe\">\n",
       "  <thead>\n",
       "    <tr style=\"text-align: right;\">\n",
       "      <th></th>\n",
       "      <th>positive_prediction</th>\n",
       "      <th>actual_negatives</th>\n",
       "      <th>FPR</th>\n",
       "    </tr>\n",
       "    <tr>\n",
       "      <th>African-American_race</th>\n",
       "      <th></th>\n",
       "      <th></th>\n",
       "      <th></th>\n",
       "    </tr>\n",
       "  </thead>\n",
       "  <tbody>\n",
       "    <tr>\n",
       "      <th>0</th>\n",
       "      <td>74.0</td>\n",
       "      <td>438</td>\n",
       "      <td>0.168950</td>\n",
       "    </tr>\n",
       "    <tr>\n",
       "      <th>1</th>\n",
       "      <td>118.0</td>\n",
       "      <td>352</td>\n",
       "      <td>0.335227</td>\n",
       "    </tr>\n",
       "  </tbody>\n",
       "</table>\n",
       "</div>"
      ],
      "text/plain": [
       "                       positive_prediction  actual_negatives       FPR\n",
       "African-American_race                                                 \n",
       "0                                     74.0               438  0.168950\n",
       "1                                    118.0               352  0.335227"
      ]
     },
     "execution_count": 50,
     "metadata": {},
     "output_type": "execute_result"
    }
   ],
   "source": [
    "negative_act_amrace_df = X_test[\n",
    "    X_test[\"true_prediction\"] == 0\n",
    "]  # taking negative actuals\n",
    "fpr_am_race_df = (\n",
    "    negative_act_amrace_df.groupby(\"African-American_race\")[\"model_prediction\"]\n",
    "    .aggregate([\"sum\", \"count\"])\n",
    "    .rename(columns={\"sum\": \"positive_prediction\", \"count\": \"actual_negatives\"})\n",
    ")\n",
    "fpr_am_race_df[\"FPR\"] = (\n",
    "    fpr_am_race_df[\"positive_prediction\"] / fpr_am_race_df[\"actual_negatives\"]\n",
    ")\n",
    "fpr_am_race_df"
   ]
  },
  {
   "cell_type": "code",
   "execution_count": 51,
   "metadata": {
    "ExecuteTime": {
     "end_time": "2023-12-02T17:34:51.257228Z",
     "start_time": "2023-12-02T17:34:51.185560Z"
    }
   },
   "outputs": [
    {
     "data": {
      "text/plain": [
       "[Text(0, 0, '0.16895'), Text(0, 0, '0.335227')]"
      ]
     },
     "execution_count": 51,
     "metadata": {},
     "output_type": "execute_result"
    },
    {
     "data": {
      "image/png": "[encoded data removed]",
      "text/plain": [
       "<Figure size 640x480 with 1 Axes>"
      ]
     },
     "metadata": {},
     "output_type": "display_data"
    }
   ],
   "source": [
    "plt.figure()\n",
    "ax = sns.barplot(x=fpr_am_race_df.index, y=fpr_am_race_df[\"FPR\"])\n",
    "plt.title(\"FPR of African Americans vs All other races\")\n",
    "plt.xlabel(\"African-American_race\")\n",
    "plt.ylabel(\"FPR\")\n",
    "ax.bar_label(ax.containers[0])"
   ]
  },
  {
   "cell_type": "markdown",
   "metadata": {},
   "source": [
    "African americans are 15% more likely to be wrongly accused of reoffense on an average"
   ]
  },
  {
   "cell_type": "markdown",
   "metadata": {},
   "source": [
    "Remarks:\n",
    "1. FPRs for both gender and African americans is significantly higher compared to previleged groups.\n",
    "2. As we mititgate this bias, we should expect to see drop in model recall, since we are essentilly reducing the False Positives"
   ]
  },
  {
   "cell_type": "markdown",
   "metadata": {},
   "source": [
    "<b><h2>  Mitigating the bias"
   ]
  },
  {
   "cell_type": "markdown",
   "metadata": {},
   "source": [
    "<h4><b>1. In-Processing"
   ]
  },
  {
   "cell_type": "markdown",
   "metadata": {},
   "source": [
    "- Modifying the data to reduce the bias in the model. \n",
    "1. Resampling :  We can resample the minority groups to make representation more fair, but in our case it is not advisable to generate aretififal samples due to the nature of the data and problem statement at hand\n",
    "2. Reweighting : We will re-weight the data- minority samples in particular to increase their representation. "
   ]
  }
 ],
 "metadata": {
  "colab": {
   "provenance": []
  },
  "kernelspec": {
   "display_name": "Python 3 (ipykernel)",
   "language": "python",
   "name": "python3"
  },
  "language_info": {
   "codemirror_mode": {
    "name": "ipython",
    "version": 3
   },
   "file_extension": ".py",
   "mimetype": "text/x-python",
   "name": "python",
   "nbconvert_exporter": "python",
   "pygments_lexer": "ipython3",
   "version": "3.9.13"
  }
 },
 "nbformat": 4,
 "nbformat_minor": 1
}
