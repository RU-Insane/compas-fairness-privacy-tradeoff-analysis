{
 "cells": [
  {
   "cell_type": "code",
   "execution_count": 26,
   "metadata": {
    "ExecuteTime": {
     "end_time": "2023-11-30T05:12:46.128287Z",
     "start_time": "2023-11-30T05:12:46.112456Z"
    },
    "id": "lsMbtZNVsmac"
   },
   "outputs": [],
   "source": [
    "# LOADING REQUIRED LIBRARIES\n",
    "# Data Visualization libraries\n",
    "import pandas as pd\n",
    "import seaborn as sns\n",
    "import numpy as np\n",
    "import os\n",
    "import matplotlib.pyplot as plt\n",
    "\n",
    "# %#matplotlib inline\n",
    "\n",
    "# Encoders\n",
    "from sklearn.preprocessing import LabelEncoder, OneHotEncoder, StandardScaler\n",
    "\n",
    "# Importing train, test split library\n",
    "from sklearn.model_selection import train_test_split\n",
    "\n",
    "# Metrices import\n",
    "from sklearn.metrics import accuracy_score\n",
    "from sklearn.metrics import f1_score\n",
    "from sklearn.metrics import confusion_matrix, roc_curve, make_scorer\n",
    "from sklearn.metrics import roc_auc_score, classification_report\n",
    "from sklearn.feature_selection import SelectFromModel\n",
    "from numpy import sort\n",
    "\n",
    "# Accuracy Check\n",
    "from sklearn.model_selection import cross_val_score\n",
    "\n",
    "# Importing custom packages\n",
    "from sklearn.base import TransformerMixin\n",
    "\n",
    "# Importing ML Model packages\n",
    "from sklearn.svm import SVC\n",
    "from sklearn.pipeline import make_pipeline\n",
    "from sklearn.feature_selection import RFE\n",
    "from sklearn.tree import DecisionTreeClassifier\n",
    "from sklearn.pipeline import Pipeline\n",
    "from sklearn.model_selection import RepeatedStratifiedKFold\n",
    "\n",
    "# from lightgbm import LGBMClassifier\n",
    "from xgboost import XGBClassifier\n",
    "from sklearn.linear_model import LogisticRegression\n",
    "from sklearn.ensemble import RandomForestClassifier\n",
    "\n",
    "# Hyperopt\n",
    "from hyperopt import tpe, hp, fmin, STATUS_OK, Trials, space_eval\n",
    "from hyperopt.pyll.base import scope\n",
    "\n",
    "# For proper display of all columns\n",
    "from IPython.display import display\n",
    "\n",
    "pd.options.display.max_columns = None\n",
    "\n",
    "# Import warnings\n",
    "import warnings\n",
    "\n",
    "warnings.filterwarnings(\"ignore\")\n",
    "\n",
    "import statsmodels.api as sm"
   ]
  },
  {
   "cell_type": "code",
   "execution_count": 27,
   "metadata": {
    "ExecuteTime": {
     "end_time": "2023-11-30T05:12:46.441815Z",
     "start_time": "2023-11-30T05:12:46.430775Z"
    }
   },
   "outputs": [],
   "source": [
    "def calculate_count_and_proportion_per_label(df, target_variable):\n",
    "    \"\"\"Calculates the count and proportion per label in a Pandas DataFrame with a binary target variable.\n",
    "\n",
    "    Args:\n",
    "      df: A Pandas DataFrame.\n",
    "      target_variable: The name of the binary target variable in the DataFrame.\n",
    "\n",
    "    Returns:\n",
    "      A Pandas Series containing the count and proportion per label.\n",
    "    \"\"\"\n",
    "\n",
    "    # Create a new Series containing the count per label.\n",
    "    count_per_label = df[target_variable].value_counts()\n",
    "\n",
    "    # Calculate the proportion per label.\n",
    "    proportion_per_label = count_per_label / count_per_label.sum()\n",
    "\n",
    "    # Return the Series containing the count and proportion per label.\n",
    "    return pd.DataFrame(\n",
    "        {\n",
    "            \"count_per_label\": count_per_label,\n",
    "            \"proportion_per_label\": proportion_per_label,\n",
    "        }\n",
    "    )\n",
    "\n"
   ]
  },
  {
   "cell_type": "code",
   "execution_count": 28,
   "metadata": {
    "ExecuteTime": {
     "end_time": "2023-11-30T05:12:46.823790Z",
     "start_time": "2023-11-30T05:12:46.784693Z"
    }
   },
   "outputs": [],
   "source": [
    "folder_path = \"../../data\"\n",
    "file_path = os.path.join(folder_path, \"data_baseline.csv\")\n",
    "data_baseline = pd.read_csv(file_path)"
   ]
  },
  {
   "cell_type": "markdown",
   "metadata": {
    "id": "QWtTJDLhkxBl"
   },
   "source": [
    "# Train Test Split"
   ]
  },
  {
   "cell_type": "code",
   "execution_count": 29,
   "metadata": {
    "ExecuteTime": {
     "end_time": "2023-11-30T05:12:47.669805Z",
     "start_time": "2023-11-30T05:12:47.635315Z"
    },
    "id": "RAKzW2LUTi5W"
   },
   "outputs": [],
   "source": [
    "# Split the data into training and testing sets\n",
    "X_train, X_test, y_train, y_test = train_test_split(\n",
    "    data_baseline.drop([\"age_cat\", \"two_year_recid\"], axis=1),\n",
    "    data_baseline[\"two_year_recid\"],\n",
    "    test_size=0.2,\n",
    "    random_state=1000,\n",
    "    stratify=data_baseline[\"two_year_recid\"],\n",
    ")\n",
    "# y_train.reset_index(drop = True, inplace = True)\n",
    "# y_test.reset_index(drop = True, inplace = True)\n",
    "\n",
    "# Create a StandardScaler object\n",
    "scaler = StandardScaler()\n",
    "\n",
    "# Fit and transform the training data using the scaler\n",
    "X_train_scaled = scaler.fit_transform(X_train.drop([\"id\"], axis=1))\n",
    "X_train_scaled = pd.DataFrame(\n",
    "    X_train_scaled, columns=X_train.drop([\"id\"], axis=1).columns, index=X_train.index\n",
    ")\n",
    "\n",
    "# Transform the testing data using the same scaler\n",
    "X_test_scaled = scaler.transform(X_test.drop([\"id\"], axis=1))\n",
    "X_test_scaled = pd.DataFrame(\n",
    "    X_test_scaled, columns=X_train.drop([\"id\"], axis=1).columns, index=X_test.index\n",
    ")"
   ]
  },
  {
   "cell_type": "markdown",
   "metadata": {
    "id": "UKgd4h6YkzWJ"
   },
   "source": [
    "# Model"
   ]
  },
  {
   "cell_type": "code",
   "execution_count": 30,
   "metadata": {
    "ExecuteTime": {
     "end_time": "2023-11-30T05:12:48.348196Z",
     "start_time": "2023-11-30T05:12:48.281041Z"
    },
    "colab": {
     "base_uri": "https://localhost:8080/"
    },
    "id": "-Z-eHpuMYR1M",
    "outputId": "c3052420-04fb-498d-889d-abfefe9a8551"
   },
   "outputs": [
    {
     "name": "stdout",
     "output_type": "stream",
     "text": [
      "Warning: Maximum number of iterations has been exceeded.\n",
      "         Current function value: 0.568703\n",
      "         Iterations: 35\n"
     ]
    }
   ],
   "source": [
    "# building the model and fitting the data\n",
    "log_reg = sm.Logit(y_train, X_train_scaled, random_state = 1000).fit()\n",
    "#results = log_reg.fit()"
   ]
  },
  {
   "cell_type": "code",
   "execution_count": 31,
   "metadata": {
    "ExecuteTime": {
     "end_time": "2023-11-30T05:12:48.629360Z",
     "start_time": "2023-11-30T05:12:48.606186Z"
    },
    "colab": {
     "base_uri": "https://localhost:8080/"
    },
    "id": "wqpQe22jhJoy",
    "outputId": "483b197b-6333-4a3c-bd1f-f94154b55dff"
   },
   "outputs": [
    {
     "name": "stdout",
     "output_type": "stream",
     "text": [
      "                           Logit Regression Results                           \n",
      "==============================================================================\n",
      "Dep. Variable:         two_year_recid   No. Observations:                 5748\n",
      "Model:                          Logit   Df Residuals:                     5729\n",
      "Method:                           MLE   Df Model:                           18\n",
      "Date:                Thu, 30 Nov 2023   Pseudo R-squ.:                  0.1736\n",
      "Time:                        00:12:48   Log-Likelihood:                -3268.9\n",
      "converged:                      False   LL-Null:                       -3955.7\n",
      "Covariance Type:            nonrobust   LLR p-value:                6.628e-281\n",
      "===============================================================================================\n",
      "                                  coef    std err          z      P>|z|      [0.025      0.975]\n",
      "-----------------------------------------------------------------------------------------------\n",
      "sex                             0.1047      0.030      3.446      0.001       0.045       0.164\n",
      "age                            -0.3930      0.038    -10.273      0.000      -0.468      -0.318\n",
      "juv_fel_count                   0.1105      0.057      1.938      0.053      -0.001       0.222\n",
      "juv_misd_count                 -0.0317      0.040     -0.783      0.434      -0.111       0.048\n",
      "juv_other_count                 0.1090      0.038      2.868      0.004       0.035       0.184\n",
      "priors_count                    0.5477      0.045     12.219      0.000       0.460       0.636\n",
      "c_charge_desc                   0.6880      0.041     16.852      0.000       0.608       0.768\n",
      "time_in_custody_in_days         0.1019      0.041      2.508      0.012       0.022       0.181\n",
      "time_in_jail_in_days            0.1644      0.039      4.181      0.000       0.087       0.241\n",
      "African-American_race          -0.0035   2.25e+06  -1.58e-09      1.000    -4.4e+06     4.4e+06\n",
      "Asian_race                     -0.0063   2.92e+05  -2.18e-08      1.000   -5.72e+05    5.72e+05\n",
      "Caucasian_race                  0.0162   2.13e+06   7.62e-09      1.000   -4.17e+06    4.17e+06\n",
      "Hispanic_race                  -0.0145   1.27e+06  -1.14e-08      1.000   -2.49e+06    2.49e+06\n",
      "Native American_race            0.0160   2.19e+05   7.27e-08      1.000    -4.3e+05     4.3e+05\n",
      "Other_race                     -0.0099    9.9e+05  -9.96e-09      1.000   -1.94e+06    1.94e+06\n",
      "Felony_c_charge_degree         -0.0675   1.78e+06  -3.79e-08      1.000   -3.49e+06    3.49e+06\n",
      "Misdemeanor_c_charge_degree     0.0675   1.78e+06   3.79e-08      1.000    -3.5e+06     3.5e+06\n",
      "High_score_text                 0.1543   1.22e+06   1.27e-07      1.000   -2.38e+06    2.38e+06\n",
      "Low_score_text                 -0.1299   1.52e+06  -8.53e-08      1.000   -2.98e+06    2.98e+06\n",
      "Medium_score_text               0.0081   1.35e+06   5.97e-09      1.000   -2.65e+06    2.65e+06\n",
      "High_v_score_text               0.0637        nan        nan        nan         nan         nan\n",
      "Low_v_score_text               -0.0294        nan        nan        nan         nan         nan\n",
      "Medium_v_score_text            -0.0119        nan        nan        nan         nan         nan\n",
      "===============================================================================================\n"
     ]
    }
   ],
   "source": [
    "# printing the summary table\n",
    "print(log_reg.summary())"
   ]
  },
  {
   "cell_type": "code",
   "execution_count": 32,
   "metadata": {
    "ExecuteTime": {
     "end_time": "2023-11-30T05:12:50.286901Z",
     "start_time": "2023-11-30T05:12:50.205866Z"
    },
    "colab": {
     "base_uri": "https://localhost:8080/",
     "height": 636
    },
    "id": "t1OhAF5ShMoN",
    "outputId": "437470f9-8146-4929-e477-762c5e431ede"
   },
   "outputs": [
    {
     "name": "stdout",
     "output_type": "stream",
     "text": [
      "Classification Report for Logistic Regression model on test set\n",
      "\n",
      "              precision    recall  f1-score   support\n",
      "\n",
      "           0       0.73      0.72      0.72       790\n",
      "           1       0.66      0.67      0.67       647\n",
      "\n",
      "    accuracy                           0.70      1437\n",
      "   macro avg       0.70      0.70      0.70      1437\n",
      "weighted avg       0.70      0.70      0.70      1437\n",
      "\n",
      "\n",
      " accuracy: 0.697981906750174 & F1_Score: 0.6951293673202819 \n",
      "\n"
     ]
    },
    {
     "data": {
      "text/plain": [
       "<AxesSubplot:>"
      ]
     },
     "execution_count": 32,
     "metadata": {},
     "output_type": "execute_result"
    },
    {
     "data": {
      "image/png": "[encoded data removed]",
      "text/plain": [
       "<Figure size 800x400 with 1 Axes>"
      ]
     },
     "metadata": {},
     "output_type": "display_data"
    }
   ],
   "source": [
    "# Performance on test\n",
    "model_name = 'Logistic Regression'\n",
    "y_pred_prob = log_reg.predict(X_test_scaled)\n",
    "y_pred_test = (y_pred_prob >= 0.5).astype(int)\n",
    "print(\n",
    "    \"Classification Report for {} model on test set\\n\".format(model_name)\n",
    ")\n",
    "print(classification_report(y_test, y_pred_test))\n",
    "print(\n",
    "    \"\\n accuracy: {} & F1_Score: {} \\n\".format(\n",
    "        accuracy_score(y_test, y_pred_test),\n",
    "        f1_score(y_test, y_pred_test, average=\"macro\"),\n",
    "    )\n",
    ")\n",
    "cm_val = confusion_matrix(y_test, y_pred_test)\n",
    "\n",
    "plt.subplots(figsize=(8, 4))\n",
    "sns.heatmap(cm_val, annot=True, fmt=\"d\", cbar=False)"
   ]
  },
  {
   "cell_type": "markdown",
   "metadata": {},
   "source": [
    "Observations: Our Accuracy is 70% and Recall is 67%. \n",
    "We will keep recall and f1 score as our performance metric. Recall tells us that out of people who actually committed reoffence, how many were actually predicted to reoffend. We ideally we want to identify as many as possible correctly, but that also increases the chances of False Positives, meaning predicting innocents as guilty."
   ]
  },
  {
   "cell_type": "code",
   "execution_count": 33,
   "metadata": {
    "ExecuteTime": {
     "end_time": "2023-11-30T05:12:51.531099Z",
     "start_time": "2023-11-30T05:12:51.522539Z"
    }
   },
   "outputs": [],
   "source": [
    "predictions_df = pd.DataFrame({\"y_pred_prob\": y_pred_prob, \"y_pred_labels\":y_pred_test,\"y_true_labels\" : y_test}, index=X_test_scaled.index)"
   ]
  },
  {
   "cell_type": "code",
   "execution_count": 34,
   "metadata": {
    "ExecuteTime": {
     "end_time": "2023-11-30T05:12:51.798004Z",
     "start_time": "2023-11-30T05:12:51.789470Z"
    },
    "id": "FMt2TCFyjqM4"
   },
   "outputs": [],
   "source": [
    "X_test['model_prediction'] = predictions_df['y_pred_labels']"
   ]
  },
  {
   "cell_type": "code",
   "execution_count": 35,
   "metadata": {
    "ExecuteTime": {
     "end_time": "2023-11-30T05:12:52.049358Z",
     "start_time": "2023-11-30T05:12:52.042993Z"
    },
    "id": "0inWVljSlxGX"
   },
   "outputs": [],
   "source": [
    "X_test['true_prediction'] = y_test"
   ]
  },
  {
   "cell_type": "markdown",
   "metadata": {
    "id": "JcXpJTz0mExJ"
   },
   "source": [
    "True Recidivism for African American"
   ]
  },
  {
   "cell_type": "code",
   "execution_count": 36,
   "metadata": {
    "ExecuteTime": {
     "end_time": "2023-11-30T05:12:52.799642Z",
     "start_time": "2023-11-30T05:12:52.707354Z"
    },
    "colab": {
     "base_uri": "https://localhost:8080/",
     "height": 468
    },
    "id": "Z09A_gk0l3YA",
    "outputId": "d67245c6-3610-4d0b-f341-1bd0fb250bc3"
   },
   "outputs": [
    {
     "data": {
      "text/plain": [
       "<AxesSubplot:xlabel='African-American_race', ylabel='count'>"
      ]
     },
     "execution_count": 36,
     "metadata": {},
     "output_type": "execute_result"
    },
    {
     "data": {
      "image/png": "[encoded data removed]",
      "text/plain": [
       "<Figure size 640x480 with 1 Axes>"
      ]
     },
     "metadata": {},
     "output_type": "display_data"
    }
   ],
   "source": [
    "#order = sorted(data[col].unique())\n",
    "sns.countplot(data=X_test, x='African-American_race', hue = 'true_prediction')"
   ]
  },
  {
   "cell_type": "markdown",
   "metadata": {
    "id": "iVTTgwiul973"
   },
   "source": [
    "Model Prediction for African Amerian"
   ]
  },
  {
   "cell_type": "code",
   "execution_count": 37,
   "metadata": {
    "ExecuteTime": {
     "end_time": "2023-11-30T05:12:53.591636Z",
     "start_time": "2023-11-30T05:12:53.501876Z"
    },
    "colab": {
     "base_uri": "https://localhost:8080/",
     "height": 468
    },
    "id": "DqnLYdM8k55x",
    "outputId": "a1eb6242-ff3f-4cef-9eeb-13fd0df5d812"
   },
   "outputs": [
    {
     "data": {
      "text/plain": [
       "<AxesSubplot:xlabel='African-American_race', ylabel='count'>"
      ]
     },
     "execution_count": 37,
     "metadata": {},
     "output_type": "execute_result"
    },
    {
     "data": {
      "image/png": "[encoded data removed]",
      "text/plain": [
       "<Figure size 640x480 with 1 Axes>"
      ]
     },
     "metadata": {},
     "output_type": "display_data"
    }
   ],
   "source": [
    "#order = sorted(data[col].unique())\n",
    "sns.countplot(data=X_test, x='African-American_race', hue = 'model_prediction')"
   ]
  },
  {
   "cell_type": "markdown",
   "metadata": {
    "id": "GlcTF4enlN_J"
   },
   "source": [
    "**Note:** We can observe clear bias towards this race"
   ]
  },
  {
   "cell_type": "code",
   "execution_count": 38,
   "metadata": {
    "ExecuteTime": {
     "end_time": "2023-11-30T05:12:56.052941Z",
     "start_time": "2023-11-30T05:12:55.959964Z"
    },
    "colab": {
     "base_uri": "https://localhost:8080/",
     "height": 468
    },
    "id": "M0T1gr_emM2F",
    "outputId": "f8218ae5-990e-4095-9b95-23c315b483aa"
   },
   "outputs": [
    {
     "data": {
      "text/plain": [
       "<AxesSubplot:xlabel='Other_race', ylabel='count'>"
      ]
     },
     "execution_count": 38,
     "metadata": {},
     "output_type": "execute_result"
    },
    {
     "data": {
      "image/png": "[encoded data removed]",
      "text/plain": [
       "<Figure size 640x480 with 1 Axes>"
      ]
     },
     "metadata": {},
     "output_type": "display_data"
    }
   ],
   "source": [
    "#order = sorted(data[col].unique())\n",
    "sns.countplot(data=X_test, x='Other_race', hue = 'true_prediction')"
   ]
  },
  {
   "cell_type": "code",
   "execution_count": 39,
   "metadata": {
    "ExecuteTime": {
     "end_time": "2023-11-30T05:12:56.579105Z",
     "start_time": "2023-11-30T05:12:56.484479Z"
    },
    "colab": {
     "base_uri": "https://localhost:8080/",
     "height": 468
    },
    "id": "bW6xpD_vmoHR",
    "outputId": "9b9542d3-802d-45cb-9b48-58b7adcde363"
   },
   "outputs": [
    {
     "data": {
      "text/plain": [
       "<AxesSubplot:xlabel='Other_race', ylabel='count'>"
      ]
     },
     "execution_count": 39,
     "metadata": {},
     "output_type": "execute_result"
    },
    {
     "data": {
      "image/png": "[encoded data removed]",
      "text/plain": [
       "<Figure size 640x480 with 1 Axes>"
      ]
     },
     "metadata": {},
     "output_type": "display_data"
    }
   ],
   "source": [
    "#order = sorted(data[col].unique())\n",
    "sns.countplot(data=X_test, x='Other_race', hue = 'model_prediction')"
   ]
  },
  {
   "cell_type": "markdown",
   "metadata": {
    "id": "39YBzwgLmr5S"
   },
   "source": [
    "This is balanced"
   ]
  },
  {
   "cell_type": "markdown",
   "metadata": {},
   "source": [
    "<H1>FAIRNESS</H1> "
   ]
  },
  {
   "cell_type": "markdown",
   "metadata": {},
   "source": [
    "<h2>Evaluating fairness of the baseline model</h2>"
   ]
  },
  {
   "cell_type": "markdown",
   "metadata": {},
   "source": [
    "In our case, sensitive attributes are gender and race. Therefore analysing the fairness metrics for these groups on below metrics:"
   ]
  },
  {
   "cell_type": "code",
   "execution_count": 40,
   "metadata": {
    "ExecuteTime": {
     "end_time": "2023-11-30T05:12:59.186996Z",
     "start_time": "2023-11-30T05:12:58.615945Z"
    }
   },
   "outputs": [],
   "source": [
    "#importing relevant packages related to Fair ML/AI\n",
    "import aif360\n",
    "import holisticai\n",
    "from aif360.datasets import BinaryLabelDataset\n",
    "# holisticai imports\n",
    "from holisticai.bias.metrics import classification_bias_metrics\n",
    "from holisticai.bias.metrics import statistical_parity\n",
    "from holisticai.bias.metrics import false_positive_rate_diff\n",
    "from holisticai.bias.metrics import equal_opportunity_diff\n",
    "from holisticai.bias.metrics import average_odds_diff\n",
    "from holisticai.bias.metrics import disparate_impact"
   ]
  },
  {
   "cell_type": "markdown",
   "metadata": {},
   "source": [
    "<h3> We will check bias of baseline model against two sensitve variables sex and race.</h3>"
   ]
  },
  {
   "cell_type": "code",
   "execution_count": 41,
   "metadata": {
    "ExecuteTime": {
     "end_time": "2023-11-30T05:12:59.570680Z",
     "start_time": "2023-11-30T05:12:59.347734Z"
    }
   },
   "outputs": [
    {
     "data": {
      "text/plain": [
       "<AxesSubplot:xlabel='sex', ylabel='count'>"
      ]
     },
     "execution_count": 41,
     "metadata": {},
     "output_type": "execute_result"
    },
    {
     "data": {
      "image/png": "[encoded data removed]",
      "text/plain": [
       "<Figure size 640x480 with 1 Axes>"
      ]
     },
     "metadata": {},
     "output_type": "display_data"
    }
   ],
   "source": [
    "#order = sorted(data[col].unique())\n",
    "sns.countplot(data=X_test, x='sex', hue = 'true_prediction')"
   ]
  },
  {
   "cell_type": "code",
   "execution_count": 42,
   "metadata": {
    "ExecuteTime": {
     "end_time": "2023-11-30T05:12:59.717061Z",
     "start_time": "2023-11-30T05:12:59.657477Z"
    }
   },
   "outputs": [
    {
     "data": {
      "text/plain": [
       "<AxesSubplot:xlabel='sex', ylabel='count'>"
      ]
     },
     "execution_count": 42,
     "metadata": {},
     "output_type": "execute_result"
    },
    {
     "data": {
      "image/png": "[encoded data removed]",
      "text/plain": [
       "<Figure size 640x480 with 1 Axes>"
      ]
     },
     "metadata": {},
     "output_type": "display_data"
    }
   ],
   "source": [
    "#order = sorted(data[col].unique())\n",
    "sns.countplot(data=X_test, x='sex', hue = 'model_prediction')"
   ]
  },
  {
   "cell_type": "markdown",
   "metadata": {},
   "source": [
    "Note: Evident bias against gender male"
   ]
  },
  {
   "cell_type": "markdown",
   "metadata": {},
   "source": [
    "* checking probability distribution across genders"
   ]
  },
  {
   "cell_type": "code",
   "execution_count": 43,
   "metadata": {
    "ExecuteTime": {
     "end_time": "2023-11-30T05:13:00.581485Z",
     "start_time": "2023-11-30T05:13:00.407256Z"
    }
   },
   "outputs": [
    {
     "data": {
      "text/plain": [
       "<seaborn.axisgrid.FacetGrid at 0x7fecf0ab0ee0>"
      ]
     },
     "execution_count": 43,
     "metadata": {},
     "output_type": "execute_result"
    },
    {
     "data": {
      "text/plain": [
       "<Figure size 1000x600 with 0 Axes>"
      ]
     },
     "metadata": {},
     "output_type": "display_data"
    },
    {
     "data": {
      "image/png": "[encoded data removed]",
      "text/plain": [
       "<Figure size 558.875x500 with 1 Axes>"
      ]
     },
     "metadata": {},
     "output_type": "display_data"
    }
   ],
   "source": [
    "sex_prob_dist_df= pd.merge(predictions_df,X_test['sex'],left_index=True, right_index=True)\n",
    "plt.figure(figsize=(10,6))\n",
    "sns.displot(sex_prob_dist_df, x= 'y_pred_prob', hue='sex')"
   ]
  },
  {
   "cell_type": "markdown",
   "metadata": {},
   "source": [
    "Checking the performance of the baseline model on the below metrics:\n",
    "1. Statistical Parity : Comparing the Positive Prediction Rate/Precision across groups. i.e. comparing the actual postives against the predicted postives. i.e out of model's postive predictions, how many actually reoffended. A fair model should not have too low of a PPR for sensitive groups since that indicates that model unfairly predicts that many people would reoffend, compred to what aftually did\n",
    "2. Equal Opportunity : What is the probability that an actual poitive will test positive, i.e. an actual reoffender will be classified as a reoffender? We will compare TPR across groups to compare this. Model should not have too low of a TPR for previledged groups\n",
    "3. <b>False Positive Rate Disparity : difference across groups in the probability of falsely predicting the reoffence, when they didnt commit one. This will be the metric we will be trying to control going forward, to avoid falsly accusing innocents, and be fair across groups</b> "
   ]
  },
  {
   "cell_type": "markdown",
   "metadata": {},
   "source": [
    "<I>Note that the negative values of these metrics are due tot he fact that the metrics are defined considering '1' as 'favorable' outcome and '0' as unfavorable outcome, hence we will be taking negative signs of those and inverting the ratio metrics to keep the results intuitive and inline with thier usual meanings"
   ]
  },
  {
   "cell_type": "code",
   "execution_count": 44,
   "metadata": {
    "ExecuteTime": {
     "end_time": "2023-11-30T05:13:00.999375Z",
     "start_time": "2023-11-30T05:13:00.992251Z"
    }
   },
   "outputs": [],
   "source": [
    "gender_group_female = X_test['sex'] == 0\n",
    "gender_group_male = X_test['sex'] == 1"
   ]
  },
  {
   "cell_type": "markdown",
   "metadata": {},
   "source": [
    "<b>1. Statistical parity:</b>"
   ]
  },
  {
   "cell_type": "code",
   "execution_count": 45,
   "metadata": {
    "ExecuteTime": {
     "end_time": "2023-11-30T05:13:01.406106Z",
     "start_time": "2023-11-30T05:13:01.397606Z"
    }
   },
   "outputs": [
    {
     "data": {
      "text/plain": [
       "0.2565964933942462"
      ]
     },
     "execution_count": 45,
     "metadata": {},
     "output_type": "execute_result"
    }
   ],
   "source": [
    "abs(statistical_parity(gender_group_female,gender_group_male,y_pred_test))"
   ]
  },
  {
   "cell_type": "markdown",
   "metadata": {},
   "source": [
    "Statistical parity is positive. Meaning the model is biased against gender_group_male. It should be as close to 0 as possible.\n",
    "We will try to verify it below"
   ]
  },
  {
   "cell_type": "code",
   "execution_count": 46,
   "metadata": {
    "ExecuteTime": {
     "end_time": "2023-11-30T05:13:01.836773Z",
     "start_time": "2023-11-30T05:13:01.811494Z"
    }
   },
   "outputs": [
    {
     "data": {
      "text/html": [
       "<div>\n",
       "<style scoped>\n",
       "    .dataframe tbody tr th:only-of-type {\n",
       "        vertical-align: middle;\n",
       "    }\n",
       "\n",
       "    .dataframe tbody tr th {\n",
       "        vertical-align: top;\n",
       "    }\n",
       "\n",
       "    .dataframe thead th {\n",
       "        text-align: right;\n",
       "    }\n",
       "</style>\n",
       "<table border=\"1\" class=\"dataframe\">\n",
       "  <thead>\n",
       "    <tr style=\"text-align: right;\">\n",
       "      <th></th>\n",
       "      <th>positive_prediction</th>\n",
       "      <th>true_prediction</th>\n",
       "      <th>PPR</th>\n",
       "    </tr>\n",
       "    <tr>\n",
       "      <th>sex</th>\n",
       "      <th></th>\n",
       "      <th></th>\n",
       "      <th></th>\n",
       "    </tr>\n",
       "  </thead>\n",
       "  <tbody>\n",
       "    <tr>\n",
       "      <th>0</th>\n",
       "      <td>69</td>\n",
       "      <td>49</td>\n",
       "      <td>0.710145</td>\n",
       "    </tr>\n",
       "    <tr>\n",
       "      <th>1</th>\n",
       "      <td>582</td>\n",
       "      <td>383</td>\n",
       "      <td>0.658076</td>\n",
       "    </tr>\n",
       "  </tbody>\n",
       "</table>\n",
       "</div>"
      ],
      "text/plain": [
       "     positive_prediction  true_prediction       PPR\n",
       "sex                                                \n",
       "0                     69               49  0.710145\n",
       "1                    582              383  0.658076"
      ]
     },
     "execution_count": 46,
     "metadata": {},
     "output_type": "execute_result"
    }
   ],
   "source": [
    "positive_pred_sex_df = X_test[X_test['model_prediction'] == 1] #taking positive predictions\n",
    "Positive_pred_rate_sex_df = positive_pred_sex_df.groupby('sex')['model_prediction','true_prediction'].sum().rename(columns={'model_prediction': 'positive_prediction', 'true_prediction': 'true_prediction'})\n",
    "Positive_pred_rate_sex_df['PPR'] = Positive_pred_rate_sex_df['true_prediction']/Positive_pred_rate_sex_df['positive_prediction']\n",
    "Positive_pred_rate_sex_df"
   ]
  },
  {
   "cell_type": "markdown",
   "metadata": {},
   "source": [
    "very slight bias in terms of disriminating over gender as per statistical Parity"
   ]
  },
  {
   "cell_type": "markdown",
   "metadata": {},
   "source": [
    "<b> 2. Equal opportunity : is there differene in Recall across gender groups? That means, out of all the true reoffenders across groups, are we eually likely to predict the chances of reoffence for all the groups? </b>\n"
   ]
  },
  {
   "cell_type": "markdown",
   "metadata": {},
   "source": [
    "If we are fair, metric would be 0 , meaning equally likely to predict positive from actual positives across groups. more the deviation, more unfair we are"
   ]
  },
  {
   "cell_type": "code",
   "execution_count": 47,
   "metadata": {
    "ExecuteTime": {
     "end_time": "2023-11-30T05:13:02.906171Z",
     "start_time": "2023-11-30T05:13:02.893653Z"
    }
   },
   "outputs": [
    {
     "data": {
      "text/plain": [
       "0.22831596230725304"
      ]
     },
     "execution_count": 47,
     "metadata": {},
     "output_type": "execute_result"
    }
   ],
   "source": [
    "abs(equal_opportunity_diff(gender_group_female,gender_group_male,y_pred_test,y_test))"
   ]
  },
  {
   "cell_type": "markdown",
   "metadata": {},
   "source": [
    "Model is slightly unfair towards male group. Let us verify by calculating recall across gender groups"
   ]
  },
  {
   "cell_type": "code",
   "execution_count": 48,
   "metadata": {
    "ExecuteTime": {
     "end_time": "2023-11-30T05:13:03.323467Z",
     "start_time": "2023-11-30T05:13:03.299336Z"
    }
   },
   "outputs": [
    {
     "data": {
      "text/html": [
       "<div>\n",
       "<style scoped>\n",
       "    .dataframe tbody tr th:only-of-type {\n",
       "        vertical-align: middle;\n",
       "    }\n",
       "\n",
       "    .dataframe tbody tr th {\n",
       "        vertical-align: top;\n",
       "    }\n",
       "\n",
       "    .dataframe thead th {\n",
       "        text-align: right;\n",
       "    }\n",
       "</style>\n",
       "<table border=\"1\" class=\"dataframe\">\n",
       "  <thead>\n",
       "    <tr style=\"text-align: right;\">\n",
       "      <th></th>\n",
       "      <th>positive_prediction</th>\n",
       "      <th>true_prediction</th>\n",
       "      <th>TPR</th>\n",
       "    </tr>\n",
       "    <tr>\n",
       "      <th>sex</th>\n",
       "      <th></th>\n",
       "      <th></th>\n",
       "      <th></th>\n",
       "    </tr>\n",
       "  </thead>\n",
       "  <tbody>\n",
       "    <tr>\n",
       "      <th>0</th>\n",
       "      <td>49</td>\n",
       "      <td>103</td>\n",
       "      <td>0.475728</td>\n",
       "    </tr>\n",
       "    <tr>\n",
       "      <th>1</th>\n",
       "      <td>383</td>\n",
       "      <td>544</td>\n",
       "      <td>0.704044</td>\n",
       "    </tr>\n",
       "  </tbody>\n",
       "</table>\n",
       "</div>"
      ],
      "text/plain": [
       "     positive_prediction  true_prediction       TPR\n",
       "sex                                                \n",
       "0                     49              103  0.475728\n",
       "1                    383              544  0.704044"
      ]
     },
     "execution_count": 48,
     "metadata": {},
     "output_type": "execute_result"
    }
   ],
   "source": [
    "positive_act_sex_df = X_test[X_test['true_prediction'] == 1] #taking positive actuals\n",
    "true_pos_rate_sex_df = positive_act_sex_df.groupby('sex')['model_prediction','true_prediction'].sum().rename(columns={'model_prediction': 'positive_prediction', 'true_prediction': 'true_prediction'})\n",
    "true_pos_rate_sex_df['TPR'] = true_pos_rate_sex_df['positive_prediction']/true_pos_rate_sex_df['true_prediction']\n",
    "true_pos_rate_sex_df"
   ]
  },
  {
   "cell_type": "markdown",
   "metadata": {},
   "source": [
    "Recall for Males is much much higher than Females"
   ]
  },
  {
   "cell_type": "markdown",
   "metadata": {},
   "source": [
    "<b>3. False Positive Rate Disparity : Compares FPR, i.e probability of predicting as criminal even when they are not!"
   ]
  },
  {
   "cell_type": "code",
   "execution_count": 49,
   "metadata": {
    "ExecuteTime": {
     "end_time": "2023-11-30T05:13:04.223261Z",
     "start_time": "2023-11-30T05:13:04.210258Z"
    }
   },
   "outputs": [
    {
     "data": {
      "text/plain": [
       "0.21163860240919435"
      ]
     },
     "execution_count": 49,
     "metadata": {},
     "output_type": "execute_result"
    }
   ],
   "source": [
    "abs(false_positive_rate_diff(gender_group_female,gender_group_male,y_pred_test,y_test))"
   ]
  },
  {
   "cell_type": "code",
   "execution_count": 50,
   "metadata": {
    "ExecuteTime": {
     "end_time": "2023-11-30T05:13:04.471478Z",
     "start_time": "2023-11-30T05:13:04.445321Z"
    }
   },
   "outputs": [
    {
     "data": {
      "text/html": [
       "<div>\n",
       "<style scoped>\n",
       "    .dataframe tbody tr th:only-of-type {\n",
       "        vertical-align: middle;\n",
       "    }\n",
       "\n",
       "    .dataframe tbody tr th {\n",
       "        vertical-align: top;\n",
       "    }\n",
       "\n",
       "    .dataframe thead th {\n",
       "        text-align: right;\n",
       "    }\n",
       "</style>\n",
       "<table border=\"1\" class=\"dataframe\">\n",
       "  <thead>\n",
       "    <tr style=\"text-align: right;\">\n",
       "      <th></th>\n",
       "      <th>positive_prediction</th>\n",
       "      <th>actual_negatives</th>\n",
       "      <th>FPR</th>\n",
       "    </tr>\n",
       "    <tr>\n",
       "      <th>sex</th>\n",
       "      <th></th>\n",
       "      <th></th>\n",
       "      <th></th>\n",
       "    </tr>\n",
       "  </thead>\n",
       "  <tbody>\n",
       "    <tr>\n",
       "      <th>0</th>\n",
       "      <td>20</td>\n",
       "      <td>177</td>\n",
       "      <td>0.112994</td>\n",
       "    </tr>\n",
       "    <tr>\n",
       "      <th>1</th>\n",
       "      <td>199</td>\n",
       "      <td>613</td>\n",
       "      <td>0.324633</td>\n",
       "    </tr>\n",
       "  </tbody>\n",
       "</table>\n",
       "</div>"
      ],
      "text/plain": [
       "     positive_prediction  actual_negatives       FPR\n",
       "sex                                                 \n",
       "0                     20               177  0.112994\n",
       "1                    199               613  0.324633"
      ]
     },
     "execution_count": 50,
     "metadata": {},
     "output_type": "execute_result"
    }
   ],
   "source": [
    "negative_act_sex_df = X_test[X_test['true_prediction'] == 0] #taking negative actuals\n",
    "fpr_sex_df = negative_act_sex_df.groupby('sex')['model_prediction'].aggregate(['sum','count']).rename(columns={'sum': 'positive_prediction', 'count': 'actual_negatives'})\n",
    "fpr_sex_df['FPR'] = fpr_sex_df['positive_prediction']/fpr_sex_df['actual_negatives']\n",
    "fpr_sex_df"
   ]
  },
  {
   "cell_type": "code",
   "execution_count": 51,
   "metadata": {
    "ExecuteTime": {
     "end_time": "2023-11-30T05:13:05.005441Z",
     "start_time": "2023-11-30T05:13:04.915229Z"
    }
   },
   "outputs": [
    {
     "data": {
      "text/plain": [
       "[Text(0, 0, '0.112994'), Text(0, 0, '0.324633')]"
      ]
     },
     "execution_count": 51,
     "metadata": {},
     "output_type": "execute_result"
    },
    {
     "data": {
      "image/png": "[encoded data removed]",
      "text/plain": [
       "<Figure size 640x480 with 1 Axes>"
      ]
     },
     "metadata": {},
     "output_type": "display_data"
    }
   ],
   "source": [
    "plt.figure()\n",
    "ax = sns.barplot(x = fpr_sex_df.index, y = fpr_sex_df['FPR'])\n",
    "plt.title(\"FPR of Male vs Female\")\n",
    "plt.xlabel(\"Sex\")\n",
    "plt.ylabel(\"FPR\")\n",
    "ax.bar_label(ax.containers[0])"
   ]
  },
  {
   "cell_type": "markdown",
   "metadata": {},
   "source": [
    "Males are more likely to be predicted as reoffenders even when they are not. "
   ]
  },
  {
   "cell_type": "markdown",
   "metadata": {},
   "source": [
    "<h3> doing similar analysis for race </h3>"
   ]
  },
  {
   "cell_type": "code",
   "execution_count": 52,
   "metadata": {
    "ExecuteTime": {
     "end_time": "2023-11-30T05:13:06.158842Z",
     "start_time": "2023-11-30T05:13:06.150325Z"
    }
   },
   "outputs": [
    {
     "data": {
      "text/plain": [
       "Index(['id', 'sex', 'age', 'juv_fel_count', 'juv_misd_count',\n",
       "       'juv_other_count', 'priors_count', 'c_charge_desc',\n",
       "       'time_in_custody_in_days', 'time_in_jail_in_days',\n",
       "       'African-American_race', 'Asian_race', 'Caucasian_race',\n",
       "       'Hispanic_race', 'Native American_race', 'Other_race',\n",
       "       'Felony_c_charge_degree', 'Misdemeanor_c_charge_degree',\n",
       "       'High_score_text', 'Low_score_text', 'Medium_score_text',\n",
       "       'High_v_score_text', 'Low_v_score_text', 'Medium_v_score_text',\n",
       "       'model_prediction', 'true_prediction'],\n",
       "      dtype='object')"
      ]
     },
     "execution_count": 52,
     "metadata": {},
     "output_type": "execute_result"
    }
   ],
   "source": [
    "X_test.columns"
   ]
  },
  {
   "cell_type": "code",
   "execution_count": 53,
   "metadata": {
    "ExecuteTime": {
     "end_time": "2023-11-30T05:13:06.393887Z",
     "start_time": "2023-11-30T05:13:06.372353Z"
    }
   },
   "outputs": [],
   "source": [
    "race_df = pd.merge(X_test[['sex','African-American_race','Asian_race','Caucasian_race','Hispanic_race', 'Native American_race', 'Other_race']],predictions_df,left_index=True,right_index=True)\n",
    "race_df['sex'] =  race_df['sex'].astype(\"category\")\n",
    "race_df['African-American_race'] =  race_df['African-American_race'].astype(\"category\")\n",
    "race_df['Asian_race'] = race_df['Asian_race'].astype(\"category\")\n",
    "race_df['Caucasian_race'] = race_df['Caucasian_race'].astype(\"category\")\n",
    "race_df['Hispanic_race'] =  race_df['Hispanic_race'].astype(\"category\")\n",
    "race_df['Native American_race'] =  race_df['Native American_race'].astype(\"category\")\n",
    "race_df['Other_race'] =  race_df['Other_race'].astype(\"category\")"
   ]
  },
  {
   "cell_type": "code",
   "execution_count": 54,
   "metadata": {
    "ExecuteTime": {
     "end_time": "2023-11-30T05:13:06.937213Z",
     "start_time": "2023-11-30T05:13:06.925874Z"
    }
   },
   "outputs": [],
   "source": [
    "fairness_eval_race_df = pd.DataFrame(columns=['column','fprd'])\n"
   ]
  },
  {
   "cell_type": "code",
   "execution_count": 55,
   "metadata": {
    "ExecuteTime": {
     "end_time": "2023-11-30T05:13:07.325954Z",
     "start_time": "2023-11-30T05:13:07.301176Z"
    }
   },
   "outputs": [
    {
     "name": "stdout",
     "output_type": "stream",
     "text": [
      "sex\n",
      "sex 0.21163860240919435\n",
      "African-American_race\n",
      "African-American_race 0.1609978206724782\n",
      "Asian_race\n",
      "Asian_race -0.2796934865900383\n",
      "Caucasian_race\n",
      "Caucasian_race -0.13273535220539828\n",
      "Hispanic_race\n",
      "Hispanic_race -0.03717100730329337\n",
      "Native American_race\n",
      "Native American_race 0.2233502538071066\n",
      "Other_race\n",
      "Other_race -0.05445329100637464\n"
     ]
    }
   ],
   "source": [
    "y_pred = race_df['y_pred_labels']\n",
    "y_true = race_df['y_true_labels']\n",
    "for col in race_df.columns[0:7]:\n",
    "\tprint(col)\n",
    "\tprivileged_group = race_df[col] == 0\n",
    "\tunprivileged_group = race_df[col] == 1\n",
    "\tfpr_diff = false_positive_rate_diff(unprivileged_group,privileged_group,y_pred,y_true)\n",
    "\tprint(col, fpr_diff)"
   ]
  },
  {
   "cell_type": "code",
   "execution_count": 56,
   "metadata": {
    "ExecuteTime": {
     "end_time": "2023-11-30T05:13:07.816008Z",
     "start_time": "2023-11-30T05:13:07.803375Z"
    }
   },
   "outputs": [
    {
     "name": "stdout",
     "output_type": "stream",
     "text": [
      "0.19477390295234165\n"
     ]
    }
   ],
   "source": [
    "privileged_group = race_df['African-American_race'] == 0\n",
    "unprivileged_group = race_df['African-American_race'] == 1\n",
    "print(equal_opportunity_diff(unprivileged_group,privileged_group,race_df['y_pred_labels'],race_df['y_true_labels']))"
   ]
  },
  {
   "cell_type": "code",
   "execution_count": 57,
   "metadata": {
    "ExecuteTime": {
     "end_time": "2023-11-30T05:13:08.278308Z",
     "start_time": "2023-11-30T05:13:08.187181Z"
    }
   },
   "outputs": [
    {
     "data": {
      "text/plain": [
       "<AxesSubplot:xlabel='African-American_race', ylabel='count'>"
      ]
     },
     "execution_count": 57,
     "metadata": {},
     "output_type": "execute_result"
    },
    {
     "data": {
      "image/png": "[encoded data removed]",
      "text/plain": [
       "<Figure size 640x480 with 1 Axes>"
      ]
     },
     "metadata": {},
     "output_type": "display_data"
    }
   ],
   "source": [
    "#order = sorted(data[col].unique())\n",
    "sns.countplot(data=X_test, x='African-American_race', hue = 'model_prediction')"
   ]
  },
  {
   "cell_type": "code",
   "execution_count": 58,
   "metadata": {
    "ExecuteTime": {
     "end_time": "2023-11-30T05:13:08.509011Z",
     "start_time": "2023-11-30T05:13:08.372325Z"
    }
   },
   "outputs": [
    {
     "name": "stdout",
     "output_type": "stream",
     "text": [
      "count of unprivileged vs previleged:\n",
      " False    1429\n",
      "True        8\n",
      "Name: Asian_race, dtype: int64\n",
      "------------------------------------------------------------\n",
      "statistical parity :  -0.3298635409377187\n",
      "equal opportunity diff: 0.33281733746130027\n",
      "fprd : -0.2796934865900383\n",
      "dpi : 0.2748076923076923\n",
      "\n"
     ]
    },
    {
     "data": {
      "text/plain": [
       "<Figure size 1000x600 with 0 Axes>"
      ]
     },
     "metadata": {},
     "output_type": "display_data"
    },
    {
     "data": {
      "image/png": "[encoded data removed]",
      "text/plain": [
       "<Figure size 667.986x500 with 1 Axes>"
      ]
     },
     "metadata": {},
     "output_type": "display_data"
    }
   ],
   "source": [
    "plt.figure(figsize=(10,6))\n",
    "sns.displot(race_df, x= 'y_pred_prob', hue='African-American_race',kind='kde')\n",
    "privileged_group = race_df['Asian_race'] == 0\n",
    "unprivileged_group = race_df['Asian_race'] == 1\n",
    "y_pred = race_df['y_pred_labels']\n",
    "y_true = race_df['y_true_labels']\n",
    "print(\"count of unprivileged vs previleged:\\n\",unprivileged_group.value_counts())\n",
    "print(\"------------------------------------------------------------\")\n",
    "sp = statistical_parity(unprivileged_group,privileged_group,y_pred)\n",
    "print(\"statistical parity : \", sp)\n",
    "eod = equal_opportunity_diff(unprivileged_group,privileged_group,y_pred,y_true)\n",
    "print(\"equal opportunity diff:\", eod)\n",
    "fprd = false_positive_rate_diff(unprivileged_group,privileged_group,y_pred,y_true)\n",
    "print(\"fprd :\",fprd )\n",
    "dpi = disparate_impact(unprivileged_group,privileged_group,y_pred)\n",
    "print(\"dpi :\",dpi )\n",
    "\n",
    "print()"
   ]
  },
  {
   "cell_type": "code",
   "execution_count": 59,
   "metadata": {
    "ExecuteTime": {
     "end_time": "2023-11-30T05:13:08.584660Z",
     "start_time": "2023-11-30T05:13:08.581394Z"
    }
   },
   "outputs": [],
   "source": [
    "negative_act_amrace_df = X_test[X_test['true_prediction'] == 0] #taking negative actuals"
   ]
  },
  {
   "cell_type": "code",
   "execution_count": 60,
   "metadata": {
    "ExecuteTime": {
     "end_time": "2023-11-30T05:13:08.875364Z",
     "start_time": "2023-11-30T05:13:08.851124Z"
    }
   },
   "outputs": [
    {
     "data": {
      "text/html": [
       "<div>\n",
       "<style scoped>\n",
       "    .dataframe tbody tr th:only-of-type {\n",
       "        vertical-align: middle;\n",
       "    }\n",
       "\n",
       "    .dataframe tbody tr th {\n",
       "        vertical-align: top;\n",
       "    }\n",
       "\n",
       "    .dataframe thead th {\n",
       "        text-align: right;\n",
       "    }\n",
       "</style>\n",
       "<table border=\"1\" class=\"dataframe\">\n",
       "  <thead>\n",
       "    <tr style=\"text-align: right;\">\n",
       "      <th></th>\n",
       "      <th>positive_prediction</th>\n",
       "      <th>actual_negatives</th>\n",
       "      <th>FPR</th>\n",
       "    </tr>\n",
       "    <tr>\n",
       "      <th>African-American_race</th>\n",
       "      <th></th>\n",
       "      <th></th>\n",
       "      <th></th>\n",
       "    </tr>\n",
       "  </thead>\n",
       "  <tbody>\n",
       "    <tr>\n",
       "      <th>0</th>\n",
       "      <td>90</td>\n",
       "      <td>438</td>\n",
       "      <td>0.205479</td>\n",
       "    </tr>\n",
       "    <tr>\n",
       "      <th>1</th>\n",
       "      <td>129</td>\n",
       "      <td>352</td>\n",
       "      <td>0.366477</td>\n",
       "    </tr>\n",
       "  </tbody>\n",
       "</table>\n",
       "</div>"
      ],
      "text/plain": [
       "                       positive_prediction  actual_negatives       FPR\n",
       "African-American_race                                                 \n",
       "0                                       90               438  0.205479\n",
       "1                                      129               352  0.366477"
      ]
     },
     "execution_count": 60,
     "metadata": {},
     "output_type": "execute_result"
    }
   ],
   "source": [
    "negative_act_amrace_df = X_test[X_test['true_prediction'] == 0] #taking negative actuals\n",
    "fpr_am_race_df = negative_act_amrace_df.groupby('African-American_race')['model_prediction'].aggregate(['sum','count']).rename(columns={'sum': 'positive_prediction', 'count': 'actual_negatives'})\n",
    "fpr_am_race_df['FPR'] = fpr_am_race_df['positive_prediction']/fpr_am_race_df['actual_negatives']\n",
    "fpr_am_race_df"
   ]
  },
  {
   "cell_type": "code",
   "execution_count": 61,
   "metadata": {
    "ExecuteTime": {
     "end_time": "2023-11-30T05:13:09.343830Z",
     "start_time": "2023-11-30T05:13:09.251831Z"
    }
   },
   "outputs": [
    {
     "data": {
      "text/plain": [
       "[Text(0, 0, '0.205479'), Text(0, 0, '0.366477')]"
      ]
     },
     "execution_count": 61,
     "metadata": {},
     "output_type": "execute_result"
    },
    {
     "data": {
      "image/png": "[encoded data removed]",
      "text/plain": [
       "<Figure size 640x480 with 1 Axes>"
      ]
     },
     "metadata": {},
     "output_type": "display_data"
    }
   ],
   "source": [
    "plt.figure()\n",
    "ax = sns.barplot(x = fpr_am_race_df.index, y = fpr_am_race_df['FPR'])\n",
    "plt.title(\"FPR of African Americans vs All other races\")\n",
    "plt.xlabel(\"African-American_race\")\n",
    "plt.ylabel(\"FPR\")\n",
    "ax.bar_label(ax.containers[0])"
   ]
  },
  {
   "cell_type": "markdown",
   "metadata": {},
   "source": [
    "African americans are 16% more likely to be wrongly accused of reoffense"
   ]
  },
  {
   "cell_type": "markdown",
   "metadata": {},
   "source": [
    "Remarks:\n",
    "1. FPRs for both gender and African americans is significantly higher compared to previleged groups.\n",
    "2. As we mititgate this bias, we should expect to see drop in model recall, since we are essentilly reducing the False Positives"
   ]
  },
  {
   "cell_type": "markdown",
   "metadata": {},
   "source": [
    "<b><h2>  Mitigating the bias"
   ]
  },
  {
   "cell_type": "markdown",
   "metadata": {},
   "source": [
    "<h4><b>1. In-Processing"
   ]
  },
  {
   "cell_type": "markdown",
   "metadata": {},
   "source": [
    "- Modifying the data to reduce the bias in the model. \n",
    "1. Resampling :  We can resample the minority groups to make representation more fair, but in our case it is not advisable to generate aretififal samples due to the nature of the data and problem statement at hand\n",
    "2. Reweighting : We will re-weight the data- minority samples in particular to increase their representation. "
   ]
  }
 ],
 "metadata": {
  "colab": {
   "provenance": []
  },
  "kernelspec": {
   "display_name": "Python 3 (ipykernel)",
   "language": "python",
   "name": "python3"
  },
  "language_info": {
   "codemirror_mode": {
    "name": "ipython",
    "version": 3
   },
   "file_extension": ".py",
   "mimetype": "text/x-python",
   "name": "python",
   "nbconvert_exporter": "python",
   "pygments_lexer": "ipython3",
   "version": "3.9.13"
  }
 },
 "nbformat": 4,
 "nbformat_minor": 1
}
