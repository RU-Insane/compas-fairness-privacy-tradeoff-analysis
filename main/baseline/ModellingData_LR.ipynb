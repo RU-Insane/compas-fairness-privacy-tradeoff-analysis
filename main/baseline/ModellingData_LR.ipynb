{
 "cells": [
  {
   "cell_type": "code",
   "execution_count": 1,
   "metadata": {
    "ExecuteTime": {
     "end_time": "2023-11-28T04:48:23.170350Z",
     "start_time": "2023-11-28T04:48:20.878556Z"
    },
    "id": "lsMbtZNVsmac"
   },
   "outputs": [],
   "source": [
    "# LOADING REQUIRED LIBRARIES\n",
    "# Data Visualization libraries\n",
    "import pandas as pd\n",
    "import seaborn as sns\n",
    "import numpy as np\n",
    "import os\n",
    "import matplotlib.pyplot as plt\n",
    "\n",
    "# %#matplotlib inline\n",
    "\n",
    "# Encoders\n",
    "from sklearn.preprocessing import LabelEncoder, OneHotEncoder, StandardScaler\n",
    "\n",
    "# Importing train, test split library\n",
    "from sklearn.model_selection import train_test_split\n",
    "\n",
    "# Metrices import\n",
    "from sklearn.metrics import accuracy_score\n",
    "from sklearn.metrics import f1_score\n",
    "from sklearn.metrics import confusion_matrix, roc_curve, make_scorer\n",
    "from sklearn.metrics import roc_auc_score, classification_report\n",
    "from sklearn.feature_selection import SelectFromModel\n",
    "from numpy import sort\n",
    "\n",
    "# Accuracy Check\n",
    "from sklearn.model_selection import cross_val_score\n",
    "\n",
    "# Importing custom packages\n",
    "from sklearn.base import TransformerMixin\n",
    "\n",
    "# Importing ML Model packages\n",
    "from sklearn.svm import SVC\n",
    "from sklearn.pipeline import make_pipeline\n",
    "from sklearn.feature_selection import RFE\n",
    "from sklearn.tree import DecisionTreeClassifier\n",
    "from sklearn.pipeline import Pipeline\n",
    "from sklearn.model_selection import RepeatedStratifiedKFold\n",
    "\n",
    "# from lightgbm import LGBMClassifier\n",
    "from xgboost import XGBClassifier\n",
    "from sklearn.linear_model import LogisticRegression\n",
    "from sklearn.ensemble import RandomForestClassifier\n",
    "\n",
    "# Hyperopt\n",
    "from hyperopt import tpe, hp, fmin, STATUS_OK, Trials, space_eval\n",
    "from hyperopt.pyll.base import scope\n",
    "\n",
    "# For proper display of all columns\n",
    "from IPython.display import display\n",
    "\n",
    "pd.options.display.max_columns = None\n",
    "\n",
    "# Import warnings\n",
    "import warnings\n",
    "\n",
    "warnings.filterwarnings(\"ignore\")\n",
    "\n",
    "import statsmodels.api as sm"
   ]
  },
  {
   "cell_type": "code",
   "execution_count": 4,
   "metadata": {},
   "outputs": [
    {
     "name": "stdout",
     "output_type": "stream",
     "text": [
      "   count_per_label  proportion_per_label\n",
      "0             3963              0.549348\n",
      "1             3251              0.450652\n"
     ]
    }
   ],
   "source": [
    "def calculate_count_and_proportion_per_label(df, target_variable):\n",
    "    \"\"\"Calculates the count and proportion per label in a Pandas DataFrame with a binary target variable.\n",
    "\n",
    "    Args:\n",
    "      df: A Pandas DataFrame.\n",
    "      target_variable: The name of the binary target variable in the DataFrame.\n",
    "\n",
    "    Returns:\n",
    "      A Pandas Series containing the count and proportion per label.\n",
    "    \"\"\"\n",
    "\n",
    "    # Create a new Series containing the count per label.\n",
    "    count_per_label = df[target_variable].value_counts()\n",
    "\n",
    "    # Calculate the proportion per label.\n",
    "    proportion_per_label = count_per_label / count_per_label.sum()\n",
    "\n",
    "    # Return the Series containing the count and proportion per label.\n",
    "    return pd.DataFrame(\n",
    "        {\n",
    "            \"count_per_label\": count_per_label,\n",
    "            \"proportion_per_label\": proportion_per_label,\n",
    "        }\n",
    "    )\n",
    "\n"
   ]
  },
  {
   "cell_type": "code",
   "execution_count": 3,
   "metadata": {
    "ExecuteTime": {
     "end_time": "2023-11-28T04:58:40.117052Z",
     "start_time": "2023-11-28T04:58:40.085951Z"
    }
   },
   "outputs": [],
   "source": [
    "folder_path = \"../../data\"\n",
    "file_path = os.path.join(folder_path, \"data_baseline.csv\")\n",
    "data_baseline = pd.read_csv(file_path)"
   ]
  },
  {
   "cell_type": "markdown",
   "metadata": {
    "id": "QWtTJDLhkxBl"
   },
   "source": [
    "# Train Test Split"
   ]
  },
  {
   "cell_type": "code",
   "execution_count": 4,
   "metadata": {
    "ExecuteTime": {
     "end_time": "2023-11-28T04:58:41.246557Z",
     "start_time": "2023-11-28T04:58:41.208561Z"
    },
    "id": "RAKzW2LUTi5W"
   },
   "outputs": [],
   "source": [
    "\n",
    "# Split the data into training and testing sets\n",
    "X_train, X_test, y_train, y_test = train_test_split(data_baseline.drop(['age_cat', 'two_year_recid'], axis = 1), data_baseline['two_year_recid'], test_size=0.2, random_state=1000, stratify = data_baseline['two_year_recid'])\n",
    "#y_train.reset_index(drop = True, inplace = True)\n",
    "#y_test.reset_index(drop = True, inplace = True)\n",
    "\n",
    "# Create a StandardScaler object\n",
    "scaler = StandardScaler()\n",
    "\n",
    "# Fit and transform the training data using the scaler\n",
    "X_train_scaled = scaler.fit_transform(X_train.drop(['id'], axis = 1))\n",
    "X_train_scaled = pd.DataFrame(X_train_scaled, columns = X_train.drop(['id'], axis = 1).columns, index = X_train.index)\n",
    "\n",
    "# Transform the testing data using the same scaler\n",
    "X_test_scaled = scaler.transform(X_test.drop(['id'], axis = 1))\n",
    "X_test_scaled = pd.DataFrame(X_test_scaled, columns = X_train.drop(['id'], axis = 1).columns, index = X_test.index)"
   ]
  },
  {
   "cell_type": "markdown",
   "metadata": {
    "id": "UKgd4h6YkzWJ"
   },
   "source": [
    "# Model"
   ]
  },
  {
   "cell_type": "code",
   "execution_count": 5,
   "metadata": {
    "ExecuteTime": {
     "end_time": "2023-11-28T04:58:44.174582Z",
     "start_time": "2023-11-28T04:58:44.098213Z"
    },
    "colab": {
     "base_uri": "https://localhost:8080/"
    },
    "id": "-Z-eHpuMYR1M",
    "outputId": "c3052420-04fb-498d-889d-abfefe9a8551"
   },
   "outputs": [
    {
     "name": "stdout",
     "output_type": "stream",
     "text": [
      "Warning: Maximum number of iterations has been exceeded.\n",
      "         Current function value: 0.568081\n",
      "         Iterations: 35\n"
     ]
    },
    {
     "name": "stderr",
     "output_type": "stream",
     "text": [
      "/Users/ayush_macbook_m2pro/opt/anaconda3/lib/python3.9/site-packages/statsmodels/base/model.py:604: ConvergenceWarning: Maximum Likelihood optimization failed to converge. Check mle_retvals\n",
      "  warnings.warn(\"Maximum Likelihood optimization failed to \"\n"
     ]
    }
   ],
   "source": [
    "# building the model and fitting the data\n",
    "log_reg = sm.Logit(y_train, X_train_scaled).fit()\n",
    "#results = log_reg.fit()"
   ]
  },
  {
   "cell_type": "code",
   "execution_count": 6,
   "metadata": {
    "ExecuteTime": {
     "end_time": "2023-11-28T04:58:45.128621Z",
     "start_time": "2023-11-28T04:58:45.095023Z"
    },
    "colab": {
     "base_uri": "https://localhost:8080/"
    },
    "id": "wqpQe22jhJoy",
    "outputId": "483b197b-6333-4a3c-bd1f-f94154b55dff"
   },
   "outputs": [
    {
     "name": "stdout",
     "output_type": "stream",
     "text": [
      "                           Logit Regression Results                           \n",
      "==============================================================================\n",
      "Dep. Variable:         two_year_recid   No. Observations:                 5748\n",
      "Model:                          Logit   Df Residuals:                     5728\n",
      "Method:                           MLE   Df Model:                           19\n",
      "Date:                Mon, 27 Nov 2023   Pseudo R-squ.:                  0.1745\n",
      "Time:                        23:58:45   Log-Likelihood:                -3265.3\n",
      "converged:                      False   LL-Null:                       -3955.7\n",
      "Covariance Type:            nonrobust   LLR p-value:                1.719e-281\n",
      "===============================================================================================\n",
      "                                  coef    std err          z      P>|z|      [0.025      0.975]\n",
      "-----------------------------------------------------------------------------------------------\n",
      "Unnamed: 0                      0.0254      0.030      0.849      0.396      -0.033       0.084\n",
      "sex                             0.1057      0.030      3.475      0.001       0.046       0.165\n",
      "age                            -0.3950      0.038    -10.310      0.000      -0.470      -0.320\n",
      "juv_fel_count                   0.1123      0.057      1.965      0.049       0.000       0.224\n",
      "juv_misd_count                 -0.0314      0.040     -0.776      0.438      -0.111       0.048\n",
      "juv_other_count                 0.1084      0.038      2.849      0.004       0.034       0.183\n",
      "priors_count                    0.5475      0.045     12.201      0.000       0.460       0.635\n",
      "c_charge_desc                   0.6944      0.041     16.995      0.000       0.614       0.774\n",
      "time_in_custody_in_days         0.1032      0.041      2.531      0.011       0.023       0.183\n",
      "time_in_jail_in_days            0.1684      0.039      4.270      0.000       0.091       0.246\n",
      "African-American_race          -0.0035        nan        nan        nan         nan         nan\n",
      "Asian_race                     -0.0069        nan        nan        nan         nan         nan\n",
      "Caucasian_race                  0.0153        nan        nan        nan         nan         nan\n",
      "Hispanic_race                  -0.0142        nan        nan        nan         nan         nan\n",
      "Native American_race            0.0166        nan        nan        nan         nan         nan\n",
      "Other_race                     -0.0085        nan        nan        nan         nan         nan\n",
      "Felony_c_charge_degree         -0.0668        nan        nan        nan         nan         nan\n",
      "Misdemeanor_c_charge_degree     0.0668        nan        nan        nan         nan         nan\n",
      "High_score_text                 0.1549        nan        nan        nan         nan         nan\n",
      "Low_score_text                 -0.1303        nan        nan        nan         nan         nan\n",
      "Medium_score_text               0.0080        nan        nan        nan         nan         nan\n",
      "High_v_score_text               0.0643   8.29e+05   7.75e-08      1.000   -1.63e+06    1.63e+06\n",
      "Low_v_score_text               -0.0295   1.32e+06  -2.24e-08      1.000   -2.58e+06    2.58e+06\n",
      "Medium_v_score_text            -0.0121   1.19e+06  -1.02e-08      1.000   -2.33e+06    2.33e+06\n",
      "===============================================================================================\n"
     ]
    }
   ],
   "source": [
    "# printing the summary table\n",
    "print(log_reg.summary())"
   ]
  },
  {
   "cell_type": "code",
   "execution_count": 7,
   "metadata": {
    "ExecuteTime": {
     "end_time": "2023-11-28T04:58:45.658116Z",
     "start_time": "2023-11-28T04:58:45.555472Z"
    },
    "colab": {
     "base_uri": "https://localhost:8080/",
     "height": 636
    },
    "id": "t1OhAF5ShMoN",
    "outputId": "437470f9-8146-4929-e477-762c5e431ede"
   },
   "outputs": [
    {
     "name": "stdout",
     "output_type": "stream",
     "text": [
      "Classification Report for Logistic Regression model on test set\n",
      "\n",
      "              precision    recall  f1-score   support\n",
      "\n",
      "           0       0.73      0.73      0.73       790\n",
      "           1       0.67      0.67      0.67       647\n",
      "\n",
      "    accuracy                           0.70      1437\n",
      "   macro avg       0.70      0.70      0.70      1437\n",
      "weighted avg       0.70      0.70      0.70      1437\n",
      "\n",
      "\n",
      " accuracy: 0.7021572720946416 & F1_Score: 0.6994252761215913 \n",
      "\n"
     ]
    },
    {
     "data": {
      "text/plain": [
       "<AxesSubplot:>"
      ]
     },
     "execution_count": 7,
     "metadata": {},
     "output_type": "execute_result"
    },
    {
     "data": {
      "image/png": "[encoded data removed]",
      "text/plain": [
       "<Figure size 800x400 with 1 Axes>"
      ]
     },
     "metadata": {},
     "output_type": "display_data"
    }
   ],
   "source": [
    "# Performance on test\n",
    "model_name = 'Logistic Regression'\n",
    "y_pred_prob = log_reg.predict(X_test_scaled)\n",
    "y_pred_test = (y_pred_prob >= 0.5).astype(int)\n",
    "print(\n",
    "    \"Classification Report for {} model on test set\\n\".format(model_name)\n",
    ")\n",
    "print(classification_report(y_test, y_pred_test))\n",
    "print(\n",
    "    \"\\n accuracy: {} & F1_Score: {} \\n\".format(\n",
    "        accuracy_score(y_test, y_pred_test),\n",
    "        f1_score(y_test, y_pred_test, average=\"macro\"),\n",
    "    )\n",
    ")\n",
    "cm_val = confusion_matrix(y_test, y_pred_test)\n",
    "\n",
    "plt.subplots(figsize=(8, 4))\n",
    "sns.heatmap(cm_val, annot=True, fmt=\"d\", cbar=False)"
   ]
  },
  {
   "cell_type": "markdown",
   "metadata": {},
   "source": [
    "Observations: Our Accuracy is 70% and Recall is 67%. \n",
    "We will keep recall and f1 score as our performance metric. Recall tells us that out of people who actually committed reoffence, how many were actually predicted to reoffend. We ideally we want to identify as many as possible correctly, but that also increases the chances of False Positives, meaning predicting innocents as guilty."
   ]
  },
  {
   "cell_type": "code",
   "execution_count": 8,
   "metadata": {
    "ExecuteTime": {
     "end_time": "2023-11-28T04:58:46.479121Z",
     "start_time": "2023-11-28T04:58:46.469997Z"
    }
   },
   "outputs": [],
   "source": [
    "predictions_df = pd.DataFrame({\"y_pred_prob\": y_pred_prob, \"y_pred_labels\":y_pred_test,\"y_true_labels\" : y_test}, index=X_test_scaled.index)"
   ]
  },
  {
   "cell_type": "code",
   "execution_count": 9,
   "metadata": {
    "ExecuteTime": {
     "end_time": "2023-11-28T04:58:46.794203Z",
     "start_time": "2023-11-28T04:58:46.787724Z"
    },
    "id": "FMt2TCFyjqM4"
   },
   "outputs": [],
   "source": [
    "X_test['model_prediction'] = predictions_df['y_pred_labels']"
   ]
  },
  {
   "cell_type": "code",
   "execution_count": 10,
   "metadata": {
    "ExecuteTime": {
     "end_time": "2023-11-28T04:58:47.246513Z",
     "start_time": "2023-11-28T04:58:47.238757Z"
    },
    "id": "0inWVljSlxGX"
   },
   "outputs": [],
   "source": [
    "X_test['true_prediction'] = y_test"
   ]
  },
  {
   "cell_type": "markdown",
   "metadata": {
    "id": "JcXpJTz0mExJ"
   },
   "source": [
    "True Recidivism for African American"
   ]
  },
  {
   "cell_type": "code",
   "execution_count": 11,
   "metadata": {
    "ExecuteTime": {
     "end_time": "2023-11-28T04:58:49.095200Z",
     "start_time": "2023-11-28T04:58:49.005339Z"
    },
    "colab": {
     "base_uri": "https://localhost:8080/",
     "height": 468
    },
    "id": "Z09A_gk0l3YA",
    "outputId": "d67245c6-3610-4d0b-f341-1bd0fb250bc3"
   },
   "outputs": [
    {
     "data": {
      "text/plain": [
       "<AxesSubplot:xlabel='African-American_race', ylabel='count'>"
      ]
     },
     "execution_count": 11,
     "metadata": {},
     "output_type": "execute_result"
    },
    {
     "data": {
      "image/png": "[encoded data removed]",
      "text/plain": [
       "<Figure size 640x480 with 1 Axes>"
      ]
     },
     "metadata": {},
     "output_type": "display_data"
    }
   ],
   "source": [
    "#order = sorted(data[col].unique())\n",
    "sns.countplot(data=X_test, x='African-American_race', hue = 'true_prediction')"
   ]
  },
  {
   "cell_type": "markdown",
   "metadata": {
    "id": "iVTTgwiul973"
   },
   "source": [
    "Model Prediction for African Amerian"
   ]
  },
  {
   "cell_type": "code",
   "execution_count": 12,
   "metadata": {
    "ExecuteTime": {
     "end_time": "2023-11-28T04:58:49.904541Z",
     "start_time": "2023-11-28T04:58:49.815833Z"
    },
    "colab": {
     "base_uri": "https://localhost:8080/",
     "height": 468
    },
    "id": "DqnLYdM8k55x",
    "outputId": "a1eb6242-ff3f-4cef-9eeb-13fd0df5d812"
   },
   "outputs": [
    {
     "data": {
      "text/plain": [
       "<AxesSubplot:xlabel='African-American_race', ylabel='count'>"
      ]
     },
     "execution_count": 12,
     "metadata": {},
     "output_type": "execute_result"
    },
    {
     "data": {
      "image/png": "[encoded data removed]",
      "text/plain": [
       "<Figure size 640x480 with 1 Axes>"
      ]
     },
     "metadata": {},
     "output_type": "display_data"
    }
   ],
   "source": [
    "#order = sorted(data[col].unique())\n",
    "sns.countplot(data=X_test, x='African-American_race', hue = 'model_prediction')"
   ]
  },
  {
   "cell_type": "markdown",
   "metadata": {
    "id": "GlcTF4enlN_J"
   },
   "source": [
    "**Note:** We can observe clear bias towards this race"
   ]
  },
  {
   "cell_type": "code",
   "execution_count": 13,
   "metadata": {
    "ExecuteTime": {
     "end_time": "2023-11-28T04:58:50.521804Z",
     "start_time": "2023-11-28T04:58:50.427122Z"
    },
    "colab": {
     "base_uri": "https://localhost:8080/",
     "height": 468
    },
    "id": "M0T1gr_emM2F",
    "outputId": "f8218ae5-990e-4095-9b95-23c315b483aa"
   },
   "outputs": [
    {
     "data": {
      "text/plain": [
       "<AxesSubplot:xlabel='Other_race', ylabel='count'>"
      ]
     },
     "execution_count": 13,
     "metadata": {},
     "output_type": "execute_result"
    },
    {
     "data": {
      "image/png": "[encoded data removed]",
      "text/plain": [
       "<Figure size 640x480 with 1 Axes>"
      ]
     },
     "metadata": {},
     "output_type": "display_data"
    }
   ],
   "source": [
    "#order = sorted(data[col].unique())\n",
    "sns.countplot(data=X_test, x='Other_race', hue = 'true_prediction')"
   ]
  },
  {
   "cell_type": "code",
   "execution_count": 14,
   "metadata": {
    "ExecuteTime": {
     "end_time": "2023-11-28T04:58:50.846306Z",
     "start_time": "2023-11-28T04:58:50.753881Z"
    },
    "colab": {
     "base_uri": "https://localhost:8080/",
     "height": 468
    },
    "id": "bW6xpD_vmoHR",
    "outputId": "9b9542d3-802d-45cb-9b48-58b7adcde363"
   },
   "outputs": [
    {
     "data": {
      "text/plain": [
       "<AxesSubplot:xlabel='Other_race', ylabel='count'>"
      ]
     },
     "execution_count": 14,
     "metadata": {},
     "output_type": "execute_result"
    },
    {
     "data": {
      "image/png": "[encoded data removed]",
      "text/plain": [
       "<Figure size 640x480 with 1 Axes>"
      ]
     },
     "metadata": {},
     "output_type": "display_data"
    }
   ],
   "source": [
    "#order = sorted(data[col].unique())\n",
    "sns.countplot(data=X_test, x='Other_race', hue = 'model_prediction')"
   ]
  },
  {
   "cell_type": "markdown",
   "metadata": {
    "id": "39YBzwgLmr5S"
   },
   "source": [
    "This is balanced"
   ]
  },
  {
   "cell_type": "markdown",
   "metadata": {},
   "source": [
    "<H1>FAIRNESS</H1> "
   ]
  },
  {
   "cell_type": "markdown",
   "metadata": {},
   "source": [
    "<h2>Evaluating fairness of the baseline model</h2>"
   ]
  },
  {
   "cell_type": "markdown",
   "metadata": {},
   "source": [
    "In our case, sensitive attributes are gender and race. Therefore analysing the fairness metrics for these groups on below metrics:"
   ]
  },
  {
   "cell_type": "code",
   "execution_count": 15,
   "metadata": {
    "ExecuteTime": {
     "end_time": "2023-11-28T04:58:54.722171Z",
     "start_time": "2023-11-28T04:58:52.293410Z"
    }
   },
   "outputs": [],
   "source": [
    "#importing relevant packages related to Fair ML/AI\n",
    "import aif360\n",
    "import holisticai\n",
    "from aif360.datasets import BinaryLabelDataset\n",
    "# holisticai imports\n",
    "from holisticai.bias.metrics import classification_bias_metrics\n",
    "from holisticai.bias.metrics import statistical_parity\n",
    "from holisticai.bias.metrics import false_positive_rate_diff\n",
    "from holisticai.bias.metrics import equal_opportunity_diff\n",
    "from holisticai.bias.metrics import average_odds_diff\n",
    "from holisticai.bias.metrics import disparate_impact"
   ]
  },
  {
   "cell_type": "markdown",
   "metadata": {},
   "source": [
    "<h3> We will check bias of baseline model against two sensitve variables sex and race.</h3>"
   ]
  },
  {
   "cell_type": "code",
   "execution_count": 16,
   "metadata": {
    "ExecuteTime": {
     "end_time": "2023-11-28T04:58:54.777301Z",
     "start_time": "2023-11-28T04:58:54.723891Z"
    }
   },
   "outputs": [
    {
     "data": {
      "text/plain": [
       "<AxesSubplot:xlabel='sex', ylabel='count'>"
      ]
     },
     "execution_count": 16,
     "metadata": {},
     "output_type": "execute_result"
    },
    {
     "data": {
      "image/png": "[encoded data removed]",
      "text/plain": [
       "<Figure size 640x480 with 1 Axes>"
      ]
     },
     "metadata": {},
     "output_type": "display_data"
    }
   ],
   "source": [
    "#order = sorted(data[col].unique())\n",
    "sns.countplot(data=X_test, x='sex', hue = 'true_prediction')"
   ]
  },
  {
   "cell_type": "code",
   "execution_count": 17,
   "metadata": {
    "ExecuteTime": {
     "end_time": "2023-11-28T04:58:54.831173Z",
     "start_time": "2023-11-28T04:58:54.778415Z"
    }
   },
   "outputs": [
    {
     "data": {
      "text/plain": [
       "<AxesSubplot:xlabel='sex', ylabel='count'>"
      ]
     },
     "execution_count": 17,
     "metadata": {},
     "output_type": "execute_result"
    },
    {
     "data": {
      "image/png": "[encoded data removed]",
      "text/plain": [
       "<Figure size 640x480 with 1 Axes>"
      ]
     },
     "metadata": {},
     "output_type": "display_data"
    }
   ],
   "source": [
    "#order = sorted(data[col].unique())\n",
    "sns.countplot(data=X_test, x='sex', hue = 'model_prediction')"
   ]
  },
  {
   "cell_type": "markdown",
   "metadata": {},
   "source": [
    "Note: Evident bias against gender male"
   ]
  },
  {
   "cell_type": "markdown",
   "metadata": {},
   "source": [
    "* checking probability distribution across genders"
   ]
  },
  {
   "cell_type": "code",
   "execution_count": 18,
   "metadata": {
    "ExecuteTime": {
     "end_time": "2023-11-28T04:58:54.962080Z",
     "start_time": "2023-11-28T04:58:54.832987Z"
    }
   },
   "outputs": [
    {
     "data": {
      "text/plain": [
       "<seaborn.axisgrid.FacetGrid at 0x7f7ec3e39c40>"
      ]
     },
     "execution_count": 18,
     "metadata": {},
     "output_type": "execute_result"
    },
    {
     "data": {
      "text/plain": [
       "<Figure size 1000x600 with 0 Axes>"
      ]
     },
     "metadata": {},
     "output_type": "display_data"
    },
    {
     "data": {
      "image/png": "[encoded data removed]",
      "text/plain": [
       "<Figure size 558.875x500 with 1 Axes>"
      ]
     },
     "metadata": {},
     "output_type": "display_data"
    }
   ],
   "source": [
    "sex_prob_dist_df= pd.merge(predictions_df,X_test['sex'],left_index=True, right_index=True)\n",
    "plt.figure(figsize=(10,6))\n",
    "sns.displot(sex_prob_dist_df, x= 'y_pred_prob', hue='sex')"
   ]
  },
  {
   "cell_type": "markdown",
   "metadata": {},
   "source": [
    "Checking the performance of the baseline model on the below metrics:\n",
    "1. Statistical Parity : Comparing the Positive Prediction Rate/Precision across groups. i.e. comparing the actual postives against the predicted postives. i.e out of model's postive predictions, how many actually reoffended. A fair model should not have too low of a PPR for sensitive groups since that indicates that model unfairly predicts that many people would reoffend, compred to what aftually did\n",
    "2. Equal Opportunity : What is the probability that an actual poitive will test positive, i.e. an actual reoffender will be classified as a reoffender? We will compare TPR across groups to compare this. Model should not have too low of a TPR for previledged groups\n",
    "3. <b>False Positive Rate Disparity : difference across groups in the probability of falsely predicting the reoffence, when they didnt commit one. This will be the metric we will be trying to control going forward, to avoid falsly accusing innocents, and be fair across groups</b> "
   ]
  },
  {
   "cell_type": "markdown",
   "metadata": {},
   "source": [
    "<I>Note that the negative values of these metrics are due tot he fact that the metrics are defined considering '1' as 'favorable' outcome and '0' as unfavorable outcome, hence we will be taking negative signs of those and inverting the ratio metrics to keep the results intuitive and inline with thier usual meanings"
   ]
  },
  {
   "cell_type": "code",
   "execution_count": 19,
   "metadata": {
    "ExecuteTime": {
     "end_time": "2023-11-28T04:58:55.927174Z",
     "start_time": "2023-11-28T04:58:55.919375Z"
    }
   },
   "outputs": [],
   "source": [
    "gender_group_female = X_test['sex'] == 0\n",
    "gender_group_male = X_test['sex'] == 1"
   ]
  },
  {
   "cell_type": "markdown",
   "metadata": {},
   "source": [
    "<b>1. Statistical parity:</b>"
   ]
  },
  {
   "cell_type": "code",
   "execution_count": 20,
   "metadata": {
    "ExecuteTime": {
     "end_time": "2023-11-28T04:58:56.507825Z",
     "start_time": "2023-11-28T04:58:56.497109Z"
    }
   },
   "outputs": [
    {
     "data": {
      "text/plain": [
       "0.262760834670947"
      ]
     },
     "execution_count": 20,
     "metadata": {},
     "output_type": "execute_result"
    }
   ],
   "source": [
    "abs(statistical_parity(gender_group_female,gender_group_male,y_pred_test))"
   ]
  },
  {
   "cell_type": "markdown",
   "metadata": {},
   "source": [
    "Statistical parity is positive. Meaning the model is biased against gender_group_male. It should be as close to 0 as possible.\n",
    "We will try to verify it below"
   ]
  },
  {
   "cell_type": "code",
   "execution_count": 21,
   "metadata": {
    "ExecuteTime": {
     "end_time": "2023-11-28T04:58:57.102499Z",
     "start_time": "2023-11-28T04:58:57.076261Z"
    }
   },
   "outputs": [
    {
     "data": {
      "text/html": [
       "<div>\n",
       "<style scoped>\n",
       "    .dataframe tbody tr th:only-of-type {\n",
       "        vertical-align: middle;\n",
       "    }\n",
       "\n",
       "    .dataframe tbody tr th {\n",
       "        vertical-align: top;\n",
       "    }\n",
       "\n",
       "    .dataframe thead th {\n",
       "        text-align: right;\n",
       "    }\n",
       "</style>\n",
       "<table border=\"1\" class=\"dataframe\">\n",
       "  <thead>\n",
       "    <tr style=\"text-align: right;\">\n",
       "      <th></th>\n",
       "      <th>positive_prediction</th>\n",
       "      <th>true_prediction</th>\n",
       "      <th>PPR</th>\n",
       "    </tr>\n",
       "    <tr>\n",
       "      <th>sex</th>\n",
       "      <th></th>\n",
       "      <th></th>\n",
       "      <th></th>\n",
       "    </tr>\n",
       "  </thead>\n",
       "  <tbody>\n",
       "    <tr>\n",
       "      <th>0</th>\n",
       "      <td>68</td>\n",
       "      <td>48</td>\n",
       "      <td>0.705882</td>\n",
       "    </tr>\n",
       "    <tr>\n",
       "      <th>1</th>\n",
       "      <td>585</td>\n",
       "      <td>388</td>\n",
       "      <td>0.663248</td>\n",
       "    </tr>\n",
       "  </tbody>\n",
       "</table>\n",
       "</div>"
      ],
      "text/plain": [
       "     positive_prediction  true_prediction       PPR\n",
       "sex                                                \n",
       "0                     68               48  0.705882\n",
       "1                    585              388  0.663248"
      ]
     },
     "execution_count": 21,
     "metadata": {},
     "output_type": "execute_result"
    }
   ],
   "source": [
    "positive_pred_sex_df = X_test[X_test['model_prediction'] == 1] #taking positive predictions\n",
    "Positive_pred_rate_sex_df = positive_pred_sex_df.groupby('sex')['model_prediction','true_prediction'].sum().rename(columns={'model_prediction': 'positive_prediction', 'true_prediction': 'true_prediction'})\n",
    "Positive_pred_rate_sex_df['PPR'] = Positive_pred_rate_sex_df['true_prediction']/Positive_pred_rate_sex_df['positive_prediction']\n",
    "Positive_pred_rate_sex_df"
   ]
  },
  {
   "cell_type": "markdown",
   "metadata": {},
   "source": [
    "very slight bias in terms of disriminating over gender as per statistical Parity"
   ]
  },
  {
   "cell_type": "markdown",
   "metadata": {},
   "source": [
    "<b> 2. Equal opportunity : is there differene in Recall across gender groups? That means, out of all the true reoffenders across groups, are we eually likely to predict the chances of reoffence for all the groups? </b>\n"
   ]
  },
  {
   "cell_type": "markdown",
   "metadata": {},
   "source": [
    "If we are fair, metric would be 0 , meaning equally likely to predict positive from actual positives across groups. more the deviation, more unfair we are"
   ]
  },
  {
   "cell_type": "code",
   "execution_count": 22,
   "metadata": {
    "ExecuteTime": {
     "end_time": "2023-11-28T04:58:58.161986Z",
     "start_time": "2023-11-28T04:58:58.147248Z"
    }
   },
   "outputs": [
    {
     "data": {
      "text/plain": [
       "0.2472158766419189"
      ]
     },
     "execution_count": 22,
     "metadata": {},
     "output_type": "execute_result"
    }
   ],
   "source": [
    "abs(equal_opportunity_diff(gender_group_female,gender_group_male,y_pred_test,y_test))"
   ]
  },
  {
   "cell_type": "markdown",
   "metadata": {},
   "source": [
    "Model is slightly unfair towards male group. Let us verify by calculating recall across gender groups"
   ]
  },
  {
   "cell_type": "code",
   "execution_count": 23,
   "metadata": {
    "ExecuteTime": {
     "end_time": "2023-11-28T04:58:58.769070Z",
     "start_time": "2023-11-28T04:58:58.631200Z"
    }
   },
   "outputs": [
    {
     "data": {
      "text/html": [
       "<div>\n",
       "<style scoped>\n",
       "    .dataframe tbody tr th:only-of-type {\n",
       "        vertical-align: middle;\n",
       "    }\n",
       "\n",
       "    .dataframe tbody tr th {\n",
       "        vertical-align: top;\n",
       "    }\n",
       "\n",
       "    .dataframe thead th {\n",
       "        text-align: right;\n",
       "    }\n",
       "</style>\n",
       "<table border=\"1\" class=\"dataframe\">\n",
       "  <thead>\n",
       "    <tr style=\"text-align: right;\">\n",
       "      <th></th>\n",
       "      <th>positive_prediction</th>\n",
       "      <th>true_prediction</th>\n",
       "      <th>TPR</th>\n",
       "    </tr>\n",
       "    <tr>\n",
       "      <th>sex</th>\n",
       "      <th></th>\n",
       "      <th></th>\n",
       "      <th></th>\n",
       "    </tr>\n",
       "  </thead>\n",
       "  <tbody>\n",
       "    <tr>\n",
       "      <th>0</th>\n",
       "      <td>48</td>\n",
       "      <td>103</td>\n",
       "      <td>0.466019</td>\n",
       "    </tr>\n",
       "    <tr>\n",
       "      <th>1</th>\n",
       "      <td>388</td>\n",
       "      <td>544</td>\n",
       "      <td>0.713235</td>\n",
       "    </tr>\n",
       "  </tbody>\n",
       "</table>\n",
       "</div>"
      ],
      "text/plain": [
       "     positive_prediction  true_prediction       TPR\n",
       "sex                                                \n",
       "0                     48              103  0.466019\n",
       "1                    388              544  0.713235"
      ]
     },
     "execution_count": 23,
     "metadata": {},
     "output_type": "execute_result"
    }
   ],
   "source": [
    "positive_act_sex_df = X_test[X_test['true_prediction'] == 1] #taking positive actuals\n",
    "true_pos_rate_sex_df = positive_act_sex_df.groupby('sex')['model_prediction','true_prediction'].sum().rename(columns={'model_prediction': 'positive_prediction', 'true_prediction': 'true_prediction'})\n",
    "true_pos_rate_sex_df['TPR'] = true_pos_rate_sex_df['positive_prediction']/true_pos_rate_sex_df['true_prediction']\n",
    "true_pos_rate_sex_df"
   ]
  },
  {
   "cell_type": "markdown",
   "metadata": {},
   "source": [
    "Recall for Males is much much higher than Females"
   ]
  },
  {
   "cell_type": "markdown",
   "metadata": {},
   "source": [
    "<b>3. False Positive Rate Disparity : Compares FPR, i.e probability of predicting as criminal even when they are not!"
   ]
  },
  {
   "cell_type": "code",
   "execution_count": 24,
   "metadata": {
    "ExecuteTime": {
     "end_time": "2023-11-28T04:58:59.530147Z",
     "start_time": "2023-11-28T04:58:59.515282Z"
    }
   },
   "outputs": [
    {
     "data": {
      "text/plain": [
       "0.20837595966857447"
      ]
     },
     "execution_count": 24,
     "metadata": {},
     "output_type": "execute_result"
    }
   ],
   "source": [
    "abs(false_positive_rate_diff(gender_group_female,gender_group_male,y_pred_test,y_test))"
   ]
  },
  {
   "cell_type": "code",
   "execution_count": 25,
   "metadata": {
    "ExecuteTime": {
     "end_time": "2023-11-28T04:59:00.095375Z",
     "start_time": "2023-11-28T04:59:00.072129Z"
    }
   },
   "outputs": [
    {
     "data": {
      "text/html": [
       "<div>\n",
       "<style scoped>\n",
       "    .dataframe tbody tr th:only-of-type {\n",
       "        vertical-align: middle;\n",
       "    }\n",
       "\n",
       "    .dataframe tbody tr th {\n",
       "        vertical-align: top;\n",
       "    }\n",
       "\n",
       "    .dataframe thead th {\n",
       "        text-align: right;\n",
       "    }\n",
       "</style>\n",
       "<table border=\"1\" class=\"dataframe\">\n",
       "  <thead>\n",
       "    <tr style=\"text-align: right;\">\n",
       "      <th></th>\n",
       "      <th>positive_prediction</th>\n",
       "      <th>actual_negatives</th>\n",
       "      <th>FPR</th>\n",
       "    </tr>\n",
       "    <tr>\n",
       "      <th>sex</th>\n",
       "      <th></th>\n",
       "      <th></th>\n",
       "      <th></th>\n",
       "    </tr>\n",
       "  </thead>\n",
       "  <tbody>\n",
       "    <tr>\n",
       "      <th>0</th>\n",
       "      <td>20</td>\n",
       "      <td>177</td>\n",
       "      <td>0.112994</td>\n",
       "    </tr>\n",
       "    <tr>\n",
       "      <th>1</th>\n",
       "      <td>197</td>\n",
       "      <td>613</td>\n",
       "      <td>0.321370</td>\n",
       "    </tr>\n",
       "  </tbody>\n",
       "</table>\n",
       "</div>"
      ],
      "text/plain": [
       "     positive_prediction  actual_negatives       FPR\n",
       "sex                                                 \n",
       "0                     20               177  0.112994\n",
       "1                    197               613  0.321370"
      ]
     },
     "execution_count": 25,
     "metadata": {},
     "output_type": "execute_result"
    }
   ],
   "source": [
    "negative_act_sex_df = X_test[X_test['true_prediction'] == 0] #taking negative actuals\n",
    "fpr_sex_df = negative_act_sex_df.groupby('sex')['model_prediction'].aggregate(['sum','count']).rename(columns={'sum': 'positive_prediction', 'count': 'actual_negatives'})\n",
    "fpr_sex_df['FPR'] = fpr_sex_df['positive_prediction']/fpr_sex_df['actual_negatives']\n",
    "fpr_sex_df"
   ]
  },
  {
   "cell_type": "code",
   "execution_count": 26,
   "metadata": {
    "ExecuteTime": {
     "end_time": "2023-11-28T04:59:00.550902Z",
     "start_time": "2023-11-28T04:59:00.461780Z"
    }
   },
   "outputs": [
    {
     "data": {
      "text/plain": [
       "[Text(0, 0, '0.112994'), Text(0, 0, '0.32137')]"
      ]
     },
     "execution_count": 26,
     "metadata": {},
     "output_type": "execute_result"
    },
    {
     "data": {
      "image/png": "[encoded data removed]",
      "text/plain": [
       "<Figure size 640x480 with 1 Axes>"
      ]
     },
     "metadata": {},
     "output_type": "display_data"
    }
   ],
   "source": [
    "plt.figure()\n",
    "ax = sns.barplot(x = fpr_sex_df.index, y = fpr_sex_df['FPR'])\n",
    "plt.title(\"FPR of Male vs Female\")\n",
    "plt.xlabel(\"Sex\")\n",
    "plt.ylabel(\"FPR\")\n",
    "ax.bar_label(ax.containers[0])"
   ]
  },
  {
   "cell_type": "markdown",
   "metadata": {},
   "source": [
    "Males are more likely to be predicted as reoffenders even when they are not. "
   ]
  },
  {
   "cell_type": "markdown",
   "metadata": {},
   "source": [
    "<h3> doing similar analysis for race </h3>"
   ]
  },
  {
   "cell_type": "code",
   "execution_count": 27,
   "metadata": {
    "ExecuteTime": {
     "end_time": "2023-11-28T04:59:01.894706Z",
     "start_time": "2023-11-28T04:59:01.885452Z"
    }
   },
   "outputs": [
    {
     "data": {
      "text/plain": [
       "Index(['Unnamed: 0', 'id', 'sex', 'age', 'juv_fel_count', 'juv_misd_count',\n",
       "       'juv_other_count', 'priors_count', 'c_charge_desc',\n",
       "       'time_in_custody_in_days', 'time_in_jail_in_days',\n",
       "       'African-American_race', 'Asian_race', 'Caucasian_race',\n",
       "       'Hispanic_race', 'Native American_race', 'Other_race',\n",
       "       'Felony_c_charge_degree', 'Misdemeanor_c_charge_degree',\n",
       "       'High_score_text', 'Low_score_text', 'Medium_score_text',\n",
       "       'High_v_score_text', 'Low_v_score_text', 'Medium_v_score_text',\n",
       "       'model_prediction', 'true_prediction'],\n",
       "      dtype='object')"
      ]
     },
     "execution_count": 27,
     "metadata": {},
     "output_type": "execute_result"
    }
   ],
   "source": [
    "X_test.columns"
   ]
  },
  {
   "cell_type": "code",
   "execution_count": 28,
   "metadata": {
    "ExecuteTime": {
     "end_time": "2023-11-28T04:59:02.251000Z",
     "start_time": "2023-11-28T04:59:02.229070Z"
    }
   },
   "outputs": [],
   "source": [
    "race_df = pd.merge(X_test[['sex','African-American_race','Asian_race','Caucasian_race','Hispanic_race', 'Native American_race', 'Other_race']],predictions_df,left_index=True,right_index=True)\n",
    "race_df['sex'] =  race_df['sex'].astype(\"category\")\n",
    "race_df['African-American_race'] =  race_df['African-American_race'].astype(\"category\")\n",
    "race_df['Asian_race'] = race_df['Asian_race'].astype(\"category\")\n",
    "race_df['Caucasian_race'] = race_df['Caucasian_race'].astype(\"category\")\n",
    "race_df['Hispanic_race'] =  race_df['Hispanic_race'].astype(\"category\")\n",
    "race_df['Native American_race'] =  race_df['Native American_race'].astype(\"category\")\n",
    "race_df['Other_race'] =  race_df['Other_race'].astype(\"category\")"
   ]
  },
  {
   "cell_type": "code",
   "execution_count": 29,
   "metadata": {
    "ExecuteTime": {
     "end_time": "2023-11-28T04:59:02.578262Z",
     "start_time": "2023-11-28T04:59:02.569639Z"
    }
   },
   "outputs": [],
   "source": [
    "fairness_eval_race_df = pd.DataFrame(columns=['column','fprd'])\n"
   ]
  },
  {
   "cell_type": "code",
   "execution_count": 30,
   "metadata": {
    "ExecuteTime": {
     "end_time": "2023-11-28T04:59:02.965363Z",
     "start_time": "2023-11-28T04:59:02.936522Z"
    }
   },
   "outputs": [
    {
     "name": "stdout",
     "output_type": "stream",
     "text": [
      "sex\n",
      "sex 0.20837595966857447\n",
      "African-American_race\n",
      "African-American_race 0.1604400166044002\n",
      "Asian_race\n",
      "Asian_race -0.2771392081736909\n",
      "Caucasian_race\n",
      "Caucasian_race -0.12870309414088216\n",
      "Hispanic_race\n",
      "Hispanic_race -0.03434614854623125\n",
      "Native American_race\n",
      "Native American_race 0.22588832487309646\n",
      "Other_race\n",
      "Other_race -0.07196436343155577\n"
     ]
    }
   ],
   "source": [
    "y_pred = race_df['y_pred_labels']\n",
    "y_true = race_df['y_true_labels']\n",
    "for col in race_df.columns[0:7]:\n",
    "\tprint(col)\n",
    "\tprivileged_group = race_df[col] == 0\n",
    "\tunprivileged_group = race_df[col] == 1\n",
    "\tfpr_diff = false_positive_rate_diff(unprivileged_group,privileged_group,y_pred,y_true)\n",
    "\tprint(col, fpr_diff)"
   ]
  },
  {
   "cell_type": "code",
   "execution_count": 31,
   "metadata": {
    "ExecuteTime": {
     "end_time": "2023-11-28T04:59:03.358833Z",
     "start_time": "2023-11-28T04:59:03.345638Z"
    }
   },
   "outputs": [
    {
     "name": "stdout",
     "output_type": "stream",
     "text": [
      "0.2117188882988139\n"
     ]
    }
   ],
   "source": [
    "privileged_group = race_df['African-American_race'] == 0\n",
    "unprivileged_group = race_df['African-American_race'] == 1\n",
    "print(equal_opportunity_diff(unprivileged_group,privileged_group,race_df['y_pred_labels'],race_df['y_true_labels']))"
   ]
  },
  {
   "cell_type": "code",
   "execution_count": 32,
   "metadata": {
    "ExecuteTime": {
     "end_time": "2023-11-28T04:59:03.781924Z",
     "start_time": "2023-11-28T04:59:03.691346Z"
    }
   },
   "outputs": [
    {
     "data": {
      "text/plain": [
       "<AxesSubplot:xlabel='African-American_race', ylabel='count'>"
      ]
     },
     "execution_count": 32,
     "metadata": {},
     "output_type": "execute_result"
    },
    {
     "data": {
      "image/png": "[encoded data removed]",
      "text/plain": [
       "<Figure size 640x480 with 1 Axes>"
      ]
     },
     "metadata": {},
     "output_type": "display_data"
    }
   ],
   "source": [
    "#order = sorted(data[col].unique())\n",
    "sns.countplot(data=X_test, x='African-American_race', hue = 'model_prediction')"
   ]
  },
  {
   "cell_type": "code",
   "execution_count": 33,
   "metadata": {
    "ExecuteTime": {
     "end_time": "2023-11-28T04:59:04.712313Z",
     "start_time": "2023-11-28T04:59:04.547898Z"
    }
   },
   "outputs": [
    {
     "name": "stdout",
     "output_type": "stream",
     "text": [
      "count of unprivileged vs previleged:\n",
      " False    1429\n",
      "True        8\n",
      "Name: Asian_race, dtype: int64\n",
      "------------------------------------------------------------\n",
      "statistical parity :  -0.3312631210636809\n",
      "equal opportunity diff: 0.326625386996904\n",
      "fprd : -0.2771392081736909\n",
      "dpi : 0.2739647239263804\n",
      "\n"
     ]
    },
    {
     "data": {
      "text/plain": [
       "<Figure size 1000x600 with 0 Axes>"
      ]
     },
     "metadata": {},
     "output_type": "display_data"
    },
    {
     "data": {
      "image/png": "[encoded data removed]",
      "text/plain": [
       "<Figure size 667.986x500 with 1 Axes>"
      ]
     },
     "metadata": {},
     "output_type": "display_data"
    }
   ],
   "source": [
    "plt.figure(figsize=(10,6))\n",
    "sns.displot(race_df, x= 'y_pred_prob', hue='African-American_race',kind='kde')\n",
    "privileged_group = race_df['Asian_race'] == 0\n",
    "unprivileged_group = race_df['Asian_race'] == 1\n",
    "y_pred = race_df['y_pred_labels']\n",
    "y_true = race_df['y_true_labels']\n",
    "print(\"count of unprivileged vs previleged:\\n\",unprivileged_group.value_counts())\n",
    "print(\"------------------------------------------------------------\")\n",
    "sp = statistical_parity(unprivileged_group,privileged_group,y_pred)\n",
    "print(\"statistical parity : \", sp)\n",
    "eod = equal_opportunity_diff(unprivileged_group,privileged_group,y_pred,y_true)\n",
    "print(\"equal opportunity diff:\", eod)\n",
    "fprd = false_positive_rate_diff(unprivileged_group,privileged_group,y_pred,y_true)\n",
    "print(\"fprd :\",fprd )\n",
    "dpi = disparate_impact(unprivileged_group,privileged_group,y_pred)\n",
    "print(\"dpi :\",dpi )\n",
    "\n",
    "print()"
   ]
  },
  {
   "cell_type": "code",
   "execution_count": 34,
   "metadata": {
    "ExecuteTime": {
     "end_time": "2023-11-28T04:59:05.092887Z",
     "start_time": "2023-11-28T04:59:05.084834Z"
    }
   },
   "outputs": [],
   "source": [
    "negative_act_amrace_df = X_test[X_test['true_prediction'] == 0] #taking negative actuals"
   ]
  },
  {
   "cell_type": "code",
   "execution_count": 35,
   "metadata": {
    "ExecuteTime": {
     "end_time": "2023-11-28T04:59:05.672607Z",
     "start_time": "2023-11-28T04:59:05.645233Z"
    }
   },
   "outputs": [
    {
     "data": {
      "text/html": [
       "<div>\n",
       "<style scoped>\n",
       "    .dataframe tbody tr th:only-of-type {\n",
       "        vertical-align: middle;\n",
       "    }\n",
       "\n",
       "    .dataframe tbody tr th {\n",
       "        vertical-align: top;\n",
       "    }\n",
       "\n",
       "    .dataframe thead th {\n",
       "        text-align: right;\n",
       "    }\n",
       "</style>\n",
       "<table border=\"1\" class=\"dataframe\">\n",
       "  <thead>\n",
       "    <tr style=\"text-align: right;\">\n",
       "      <th></th>\n",
       "      <th>positive_prediction</th>\n",
       "      <th>actual_negatives</th>\n",
       "      <th>FPR</th>\n",
       "    </tr>\n",
       "    <tr>\n",
       "      <th>African-American_race</th>\n",
       "      <th></th>\n",
       "      <th></th>\n",
       "      <th></th>\n",
       "    </tr>\n",
       "  </thead>\n",
       "  <tbody>\n",
       "    <tr>\n",
       "      <th>0</th>\n",
       "      <td>89</td>\n",
       "      <td>438</td>\n",
       "      <td>0.203196</td>\n",
       "    </tr>\n",
       "    <tr>\n",
       "      <th>1</th>\n",
       "      <td>128</td>\n",
       "      <td>352</td>\n",
       "      <td>0.363636</td>\n",
       "    </tr>\n",
       "  </tbody>\n",
       "</table>\n",
       "</div>"
      ],
      "text/plain": [
       "                       positive_prediction  actual_negatives       FPR\n",
       "African-American_race                                                 \n",
       "0                                       89               438  0.203196\n",
       "1                                      128               352  0.363636"
      ]
     },
     "execution_count": 35,
     "metadata": {},
     "output_type": "execute_result"
    }
   ],
   "source": [
    "negative_act_amrace_df = X_test[X_test['true_prediction'] == 0] #taking negative actuals\n",
    "fpr_am_race_df = negative_act_amrace_df.groupby('African-American_race')['model_prediction'].aggregate(['sum','count']).rename(columns={'sum': 'positive_prediction', 'count': 'actual_negatives'})\n",
    "fpr_am_race_df['FPR'] = fpr_am_race_df['positive_prediction']/fpr_am_race_df['actual_negatives']\n",
    "fpr_am_race_df"
   ]
  },
  {
   "cell_type": "code",
   "execution_count": 36,
   "metadata": {
    "ExecuteTime": {
     "end_time": "2023-11-28T04:59:06.075170Z",
     "start_time": "2023-11-28T04:59:05.984908Z"
    }
   },
   "outputs": [
    {
     "data": {
      "text/plain": [
       "[Text(0, 0, '0.203196'), Text(0, 0, '0.363636')]"
      ]
     },
     "execution_count": 36,
     "metadata": {},
     "output_type": "execute_result"
    },
    {
     "data": {
      "image/png": "[encoded data removed]",
      "text/plain": [
       "<Figure size 640x480 with 1 Axes>"
      ]
     },
     "metadata": {},
     "output_type": "display_data"
    }
   ],
   "source": [
    "plt.figure()\n",
    "ax = sns.barplot(x = fpr_am_race_df.index, y = fpr_am_race_df['FPR'])\n",
    "plt.title(\"FPR of African Americans vs All other races\")\n",
    "plt.xlabel(\"African-American_race\")\n",
    "plt.ylabel(\"FPR\")\n",
    "ax.bar_label(ax.containers[0])"
   ]
  },
  {
   "cell_type": "markdown",
   "metadata": {},
   "source": [
    "African americans are 16% more likely to be wrongly accused of reoffense"
   ]
  },
  {
   "cell_type": "markdown",
   "metadata": {},
   "source": [
    "Remarks:\n",
    "1. FPRs for both gender and African americans is significantly higher compared to previleged groups.\n",
    "2. As we mititgate this bias, we should expect to see drop in model recall, since we are essentilly reducing the False Positives"
   ]
  },
  {
   "cell_type": "markdown",
   "metadata": {},
   "source": [
    "<b><h2>  Mitigating the bias"
   ]
  },
  {
   "cell_type": "markdown",
   "metadata": {},
   "source": [
    "<h4><b>1. In-Processing"
   ]
  },
  {
   "cell_type": "markdown",
   "metadata": {},
   "source": [
    "- Modifying the data to reduce the bias in the model. \n",
    "1. Resampling :  We can resample the minority groups to make representation more fair, but in our case it is not advisable to generate aretififal samples due to the nature of the data and problem statement at hand\n",
    "2. Reweighting : We will re-weight the data- minority samples in particular to increase their representation. "
   ]
  }
 ],
 "metadata": {
  "colab": {
   "provenance": []
  },
  "kernelspec": {
   "display_name": "Python 3 (ipykernel)",
   "language": "python",
   "name": "python3"
  },
  "language_info": {
   "codemirror_mode": {
    "name": "ipython",
    "version": 3
   },
   "file_extension": ".py",
   "mimetype": "text/x-python",
   "name": "python",
   "nbconvert_exporter": "python",
   "pygments_lexer": "ipython3",
   "version": "3.9.13"
  }
 },
 "nbformat": 4,
 "nbformat_minor": 1
}
