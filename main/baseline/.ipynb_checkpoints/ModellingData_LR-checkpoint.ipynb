{
 "cells": [
  {
   "cell_type": "code",
   "execution_count": 45,
   "metadata": {
    "ExecuteTime": {
     "end_time": "2023-12-02T23:23:09.094551Z",
     "start_time": "2023-12-02T23:23:09.081264Z"
    },
    "id": "lsMbtZNVsmac"
   },
   "outputs": [],
   "source": [
    "# LOADING REQUIRED LIBRARIES\n",
    "# Data Visualization libraries\n",
    "import pandas as pd\n",
    "import seaborn as sns\n",
    "import numpy as np\n",
    "import os\n",
    "import matplotlib.pyplot as plt\n",
    "\n",
    "# %#matplotlib inline\n",
    "\n",
    "# Encoders\n",
    "from sklearn.preprocessing import LabelEncoder, OneHotEncoder, StandardScaler\n",
    "\n",
    "# Importing train, test split library\n",
    "from sklearn.model_selection import train_test_split\n",
    "\n",
    "# Metrices import\n",
    "from sklearn.metrics import accuracy_score\n",
    "from sklearn.metrics import f1_score\n",
    "from sklearn.metrics import confusion_matrix, roc_curve, make_scorer\n",
    "from sklearn.metrics import roc_auc_score, classification_report\n",
    "from sklearn.feature_selection import SelectFromModel\n",
    "from numpy import sort\n",
    "\n",
    "# Accuracy Check\n",
    "from sklearn.model_selection import cross_val_score\n",
    "\n",
    "# Importing custom packages\n",
    "from sklearn.base import TransformerMixin\n",
    "\n",
    "# Importing ML Model packages\n",
    "from sklearn.svm import SVC\n",
    "from sklearn.pipeline import make_pipeline\n",
    "from sklearn.feature_selection import RFE\n",
    "from sklearn.tree import DecisionTreeClassifier\n",
    "from sklearn.pipeline import Pipeline\n",
    "from sklearn.model_selection import RepeatedStratifiedKFold\n",
    "\n",
    "# from lightgbm import LGBMClassifier\n",
    "from xgboost import XGBClassifier\n",
    "from sklearn.linear_model import LogisticRegression\n",
    "from sklearn.ensemble import RandomForestClassifier\n",
    "\n",
    "# Hyperopt\n",
    "from hyperopt import tpe, hp, fmin, STATUS_OK, Trials, space_eval\n",
    "from hyperopt.pyll.base import scope\n",
    "\n",
    "# For proper display of all columns\n",
    "from IPython.display import display\n",
    "\n",
    "pd.options.display.max_columns = None\n",
    "\n",
    "# Import warnings\n",
    "import warnings\n",
    "\n",
    "warnings.filterwarnings(\"ignore\")\n",
    "\n",
    "import statsmodels.api as sm\n",
    "\n",
    "# importing relevant packages related to Fair ML/AI\n",
    "from numba import jit, njit\n",
    "import aif360\n",
    "import holisticai\n",
    "from aif360.datasets import BinaryLabelDataset\n",
    "\n",
    "# holisticai imports\n",
    "from holisticai.bias.metrics import classification_bias_metrics\n",
    "from holisticai.bias.metrics import statistical_parity\n",
    "from holisticai.bias.metrics import false_positive_rate_diff\n",
    "from holisticai.bias.metrics import equal_opportunity_diff\n",
    "from holisticai.bias.metrics import average_odds_diff\n",
    "from holisticai.bias.metrics import disparate_impact"
   ]
  },
  {
   "cell_type": "code",
   "execution_count": 46,
   "metadata": {
    "ExecuteTime": {
     "end_time": "2023-12-02T23:23:09.274141Z",
     "start_time": "2023-12-02T23:23:09.265497Z"
    }
   },
   "outputs": [],
   "source": [
    "def calculate_count_and_proportion_per_label(df, target_variable):\n",
    "    \"\"\"Calculates the count and proportion per label in a Pandas DataFrame with a binary target variable.\n",
    "\n",
    "    Args:\n",
    "      df: A Pandas DataFrame.\n",
    "      target_variable: The name of the binary target variable in the DataFrame.\n",
    "\n",
    "    Returns:\n",
    "      A Pandas Series containing the count and proportion per label.\n",
    "    \"\"\"\n",
    "\n",
    "    # Create a new Series containing the count per label.\n",
    "    count_per_label = df[target_variable].value_counts()\n",
    "\n",
    "    # Calculate the proportion per label.\n",
    "    proportion_per_label = count_per_label / count_per_label.sum()\n",
    "\n",
    "    # Return the Series containing the count and proportion per label.\n",
    "    return pd.DataFrame(\n",
    "        {\n",
    "            \"count_per_label\": count_per_label,\n",
    "            \"proportion_per_label\": proportion_per_label,\n",
    "        }\n",
    "    )"
   ]
  },
  {
   "cell_type": "code",
   "execution_count": 47,
   "metadata": {
    "ExecuteTime": {
     "end_time": "2023-12-02T23:23:09.446275Z",
     "start_time": "2023-12-02T23:23:09.420228Z"
    }
   },
   "outputs": [],
   "source": [
    "folder_path = \"../../data\"\n",
    "file_path = os.path.join(folder_path, \"data_baseline.csv\")\n",
    "data_baseline = pd.read_csv(file_path)"
   ]
  },
  {
   "cell_type": "markdown",
   "metadata": {
    "id": "QWtTJDLhkxBl"
   },
   "source": [
    "# Train Test Split"
   ]
  },
  {
   "cell_type": "code",
   "execution_count": 48,
   "metadata": {
    "ExecuteTime": {
     "end_time": "2023-12-02T23:23:09.831997Z",
     "start_time": "2023-12-02T23:23:09.805029Z"
    },
    "id": "RAKzW2LUTi5W"
   },
   "outputs": [],
   "source": [
    "# Split the data into training and testing sets\n",
    "X_train, X_test, y_train, y_test = train_test_split(\n",
    "    data_baseline.drop([\"two_year_recid\"], axis=1),\n",
    "    data_baseline[\"two_year_recid\"],\n",
    "    test_size=0.2,\n",
    "    random_state=1000,\n",
    "    stratify=data_baseline[\"two_year_recid\"],\n",
    ")\n",
    "# y_train.reset_index(drop = True, inplace = True)\n",
    "# y_test.reset_index(drop = True, inplace = True)\n",
    "\n",
    "# Create a StandardScaler object\n",
    "scaler = StandardScaler()\n",
    "\n",
    "# Fit and transform the training data using the scaler\n",
    "X_train_scaled = scaler.fit_transform(X_train.drop([\"id\"], axis=1))\n",
    "X_train_scaled = pd.DataFrame(\n",
    "    X_train_scaled, columns=X_train.drop([\"id\"], axis=1).columns, index=X_train.index\n",
    ")\n",
    "\n",
    "# Transform the testing data using the same scaler\n",
    "X_test_scaled = scaler.transform(X_test.drop([\"id\"], axis=1))\n",
    "X_test_scaled = pd.DataFrame(\n",
    "    X_test_scaled, columns=X_train.drop([\"id\"], axis=1).columns, index=X_test.index\n",
    ")"
   ]
  },
  {
   "cell_type": "markdown",
   "metadata": {
    "id": "UKgd4h6YkzWJ"
   },
   "source": [
    "# Model"
   ]
  },
  {
   "cell_type": "code",
   "execution_count": 49,
   "metadata": {
    "ExecuteTime": {
     "end_time": "2023-12-02T23:23:10.616656Z",
     "start_time": "2023-12-02T23:23:10.560328Z"
    },
    "colab": {
     "base_uri": "https://localhost:8080/"
    },
    "id": "-Z-eHpuMYR1M",
    "outputId": "c3052420-04fb-498d-889d-abfefe9a8551"
   },
   "outputs": [
    {
     "name": "stdout",
     "output_type": "stream",
     "text": [
      "Optimization terminated successfully.\n",
      "         Current function value: 0.567579\n",
      "         Iterations 6\n"
     ]
    }
   ],
   "source": [
    "# Set a random seed for reproducibility\n",
    "np.random.seed(1000)\n",
    "\n",
    "# building the model and fitting the data\n",
    "log_reg = sm.Logit(y_train, X_train_scaled).fit()\n",
    "# results = log_reg.fit()"
   ]
  },
  {
   "cell_type": "code",
   "execution_count": 50,
   "metadata": {
    "ExecuteTime": {
     "end_time": "2023-12-02T23:23:10.841475Z",
     "start_time": "2023-12-02T23:23:10.826967Z"
    },
    "colab": {
     "base_uri": "https://localhost:8080/"
    },
    "id": "wqpQe22jhJoy",
    "outputId": "483b197b-6333-4a3c-bd1f-f94154b55dff"
   },
   "outputs": [
    {
     "name": "stdout",
     "output_type": "stream",
     "text": [
      "                           Logit Regression Results                           \n",
      "==============================================================================\n",
      "Dep. Variable:         two_year_recid   No. Observations:                 5748\n",
      "Model:                          Logit   Df Residuals:                     5730\n",
      "Method:                           MLE   Df Model:                           17\n",
      "Date:                Sat, 02 Dec 2023   Pseudo R-squ.:                  0.1753\n",
      "Time:                        18:23:10   Log-Likelihood:                -3262.4\n",
      "converged:                       True   LL-Null:                       -3955.7\n",
      "Covariance Type:            nonrobust   LLR p-value:                1.219e-284\n",
      "===========================================================================================\n",
      "                              coef    std err          z      P>|z|      [0.025      0.975]\n",
      "-------------------------------------------------------------------------------------------\n",
      "sex                         0.1038      0.030      3.422      0.001       0.044       0.163\n",
      "age                        -0.3901      0.036    -10.737      0.000      -0.461      -0.319\n",
      "juv_fel_count               0.0793      0.037      2.120      0.034       0.006       0.153\n",
      "juv_misd_count             -0.0119      0.035     -0.342      0.732      -0.080       0.056\n",
      "juv_other_count             0.1297      0.035      3.711      0.000       0.061       0.198\n",
      "priors_count                0.5432      0.045     12.184      0.000       0.456       0.631\n",
      "c_charge_desc               0.6947      0.041     16.949      0.000       0.614       0.775\n",
      "time_in_custody_in_days     0.1048      0.041      2.570      0.010       0.025       0.185\n",
      "time_in_jail_in_days        0.1692      0.039      4.285      0.000       0.092       0.247\n",
      "African-American_race      -0.0206      0.034     -0.599      0.549      -0.088       0.047\n",
      "Asian_race                 -0.0093      0.031     -0.302      0.762      -0.069       0.051\n",
      "Hispanic_race              -0.0253      0.032     -0.792      0.428      -0.088       0.037\n",
      "Native American_race        0.0134      0.033      0.410      0.682      -0.051       0.077\n",
      "Other_race                 -0.0163      0.031     -0.522      0.601      -0.077       0.045\n",
      "Felony_c_charge_degree     -0.1333      0.032     -4.125      0.000      -0.197      -0.070\n",
      "High_score_text             0.1486      0.041      3.638      0.000       0.069       0.229\n",
      "Low_score_text             -0.1425      0.037     -3.835      0.000      -0.215      -0.070\n",
      "High_v_score_text           0.0702      0.039      1.815      0.070      -0.006       0.146\n",
      "===========================================================================================\n"
     ]
    }
   ],
   "source": [
    "# printing the summary table\n",
    "print(log_reg.summary())"
   ]
  },
  {
   "cell_type": "code",
   "execution_count": 51,
   "metadata": {
    "ExecuteTime": {
     "end_time": "2023-12-02T23:23:11.448122Z",
     "start_time": "2023-12-02T23:23:11.388321Z"
    },
    "colab": {
     "base_uri": "https://localhost:8080/",
     "height": 636
    },
    "id": "t1OhAF5ShMoN",
    "outputId": "437470f9-8146-4929-e477-762c5e431ede"
   },
   "outputs": [
    {
     "name": "stdout",
     "output_type": "stream",
     "text": [
      "Classification Report for Logistic Regression model on test set\n",
      "\n",
      "              precision    recall  f1-score   support\n",
      "\n",
      "           0       0.73      0.73      0.73       790\n",
      "           1       0.67      0.68      0.67       647\n",
      "\n",
      "    accuracy                           0.70      1437\n",
      "   macro avg       0.70      0.70      0.70      1437\n",
      "weighted avg       0.70      0.70      0.70      1437\n",
      "\n",
      "\n",
      " accuracy: 0.7035490605427975 & F1_Score: 0.7009093467478101 \n",
      "\n"
     ]
    },
    {
     "data": {
      "text/plain": [
       "<AxesSubplot:>"
      ]
     },
     "execution_count": 51,
     "metadata": {},
     "output_type": "execute_result"
    },
    {
     "data": {
      "image/png": "[encoded data removed]",
      "text/plain": [
       "<Figure size 800x400 with 1 Axes>"
      ]
     },
     "metadata": {},
     "output_type": "display_data"
    }
   ],
   "source": [
    "# Performance on test\n",
    "model_name = \"Logistic Regression\"\n",
    "y_pred_prob = log_reg.predict(X_test_scaled)\n",
    "y_pred_test = (y_pred_prob >= 0.5).astype(int)\n",
    "print(\"Classification Report for {} model on test set\\n\".format(model_name))\n",
    "print(classification_report(y_test, y_pred_test))\n",
    "print(\n",
    "    \"\\n accuracy: {} & F1_Score: {} \\n\".format(\n",
    "        accuracy_score(y_test, y_pred_test),\n",
    "        f1_score(y_test, y_pred_test, average=\"macro\"),\n",
    "    )\n",
    ")\n",
    "cm_val = confusion_matrix(y_test, y_pred_test)\n",
    "\n",
    "plt.subplots(figsize=(8, 4))\n",
    "sns.heatmap(cm_val, annot=True, fmt=\"d\", cbar=False)"
   ]
  },
  {
   "cell_type": "markdown",
   "metadata": {},
   "source": [
    "Observations: Our Accuracy is 70% and Recall is 67%. \n",
    "We will keep recall and f1 score as our performance metric. Recall tells us that out of people who actually committed reoffence, how many were actually predicted to reoffend. We ideally we want to identify as many as possible correctly, but that also increases the chances of False Positives, meaning predicting innocents as guilty."
   ]
  },
  {
   "cell_type": "markdown",
   "metadata": {},
   "source": [
    "## Setting Predictions"
   ]
  },
  {
   "cell_type": "code",
   "execution_count": 52,
   "metadata": {
    "ExecuteTime": {
     "end_time": "2023-12-02T23:23:12.231091Z",
     "start_time": "2023-12-02T23:23:12.221833Z"
    }
   },
   "outputs": [],
   "source": [
    "predictions_df = pd.DataFrame(\n",
    "    {\"y_pred_prob\": y_pred_prob, \"y_pred_labels\": y_pred_test, \"y_true_labels\": y_test},\n",
    "    index=X_test_scaled.index,\n",
    ")\n",
    "\n",
    "X_test[\"model_prediction\"] = predictions_df[\"y_pred_labels\"]\n",
    "X_test[\"true_prediction\"] = y_test"
   ]
  },
  {
   "cell_type": "markdown",
   "metadata": {
    "id": "JcXpJTz0mExJ"
   },
   "source": [
    "True Recidivism for African American"
   ]
  },
  {
   "cell_type": "code",
   "execution_count": 53,
   "metadata": {
    "ExecuteTime": {
     "end_time": "2023-12-02T23:23:12.689425Z",
     "start_time": "2023-12-02T23:23:12.613306Z"
    },
    "colab": {
     "base_uri": "https://localhost:8080/",
     "height": 468
    },
    "id": "Z09A_gk0l3YA",
    "outputId": "d67245c6-3610-4d0b-f341-1bd0fb250bc3"
   },
   "outputs": [
    {
     "data": {
      "text/plain": [
       "<AxesSubplot:xlabel='African-American_race', ylabel='count'>"
      ]
     },
     "execution_count": 53,
     "metadata": {},
     "output_type": "execute_result"
    },
    {
     "data": {
      "image/png": "[encoded data removed]",
      "text/plain": [
       "<Figure size 640x480 with 1 Axes>"
      ]
     },
     "metadata": {},
     "output_type": "display_data"
    }
   ],
   "source": [
    "# order = sorted(data[col].unique())\n",
    "sns.countplot(data=X_test, x=\"African-American_race\", hue=\"true_prediction\")"
   ]
  },
  {
   "cell_type": "markdown",
   "metadata": {
    "id": "iVTTgwiul973"
   },
   "source": [
    "Model Prediction for African Amerian"
   ]
  },
  {
   "cell_type": "code",
   "execution_count": 54,
   "metadata": {
    "ExecuteTime": {
     "end_time": "2023-12-02T23:23:13.296339Z",
     "start_time": "2023-12-02T23:23:13.219823Z"
    },
    "colab": {
     "base_uri": "https://localhost:8080/",
     "height": 468
    },
    "id": "DqnLYdM8k55x",
    "outputId": "a1eb6242-ff3f-4cef-9eeb-13fd0df5d812"
   },
   "outputs": [
    {
     "data": {
      "text/plain": [
       "<AxesSubplot:xlabel='African-American_race', ylabel='count'>"
      ]
     },
     "execution_count": 54,
     "metadata": {},
     "output_type": "execute_result"
    },
    {
     "data": {
      "image/png": "[encoded data removed]",
      "text/plain": [
       "<Figure size 640x480 with 1 Axes>"
      ]
     },
     "metadata": {},
     "output_type": "display_data"
    }
   ],
   "source": [
    "# order = sorted(data[col].unique())\n",
    "sns.countplot(data=X_test, x=\"African-American_race\", hue=\"model_prediction\")"
   ]
  },
  {
   "cell_type": "markdown",
   "metadata": {
    "id": "GlcTF4enlN_J"
   },
   "source": [
    "**Note:** We can observe clear bias towards this race"
   ]
  },
  {
   "cell_type": "code",
   "execution_count": 55,
   "metadata": {
    "ExecuteTime": {
     "end_time": "2023-12-02T23:23:13.994395Z",
     "start_time": "2023-12-02T23:23:13.914215Z"
    },
    "colab": {
     "base_uri": "https://localhost:8080/",
     "height": 468
    },
    "id": "M0T1gr_emM2F",
    "outputId": "f8218ae5-990e-4095-9b95-23c315b483aa"
   },
   "outputs": [
    {
     "data": {
      "text/plain": [
       "<AxesSubplot:xlabel='Other_race', ylabel='count'>"
      ]
     },
     "execution_count": 55,
     "metadata": {},
     "output_type": "execute_result"
    },
    {
     "data": {
      "image/png": "[encoded data removed]",
      "text/plain": [
       "<Figure size 640x480 with 1 Axes>"
      ]
     },
     "metadata": {},
     "output_type": "display_data"
    }
   ],
   "source": [
    "# order = sorted(data[col].unique())\n",
    "sns.countplot(data=X_test, x=\"Other_race\", hue=\"true_prediction\")"
   ]
  },
  {
   "cell_type": "code",
   "execution_count": 56,
   "metadata": {
    "ExecuteTime": {
     "end_time": "2023-12-02T23:23:14.383912Z",
     "start_time": "2023-12-02T23:23:14.323318Z"
    },
    "colab": {
     "base_uri": "https://localhost:8080/",
     "height": 468
    },
    "id": "bW6xpD_vmoHR",
    "outputId": "9b9542d3-802d-45cb-9b48-58b7adcde363"
   },
   "outputs": [
    {
     "data": {
      "text/plain": [
       "<AxesSubplot:xlabel='Other_race', ylabel='count'>"
      ]
     },
     "execution_count": 56,
     "metadata": {},
     "output_type": "execute_result"
    },
    {
     "data": {
      "image/png": "[encoded data removed]",
      "text/plain": [
       "<Figure size 640x480 with 1 Axes>"
      ]
     },
     "metadata": {},
     "output_type": "display_data"
    }
   ],
   "source": [
    "# order = sorted(data[col].unique())\n",
    "sns.countplot(data=X_test, x=\"Other_race\", hue=\"model_prediction\")"
   ]
  },
  {
   "cell_type": "markdown",
   "metadata": {},
   "source": [
    "<H1>FAIRNESS</H1> "
   ]
  },
  {
   "cell_type": "markdown",
   "metadata": {},
   "source": [
    "<h2>Evaluating fairness of the baseline model</h2>"
   ]
  },
  {
   "cell_type": "markdown",
   "metadata": {},
   "source": [
    "In our case, sensitive attributes are gender and race. Therefore analysing the fairness metrics for these groups on below metrics:"
   ]
  },
  {
   "cell_type": "markdown",
   "metadata": {},
   "source": [
    "<h3> We will check bias of baseline model against two sensitve variables sex and race.</h3>"
   ]
  },
  {
   "cell_type": "code",
   "execution_count": 58,
   "metadata": {
    "ExecuteTime": {
     "end_time": "2023-12-02T23:23:16.206823Z",
     "start_time": "2023-12-02T23:23:16.128157Z"
    }
   },
   "outputs": [
    {
     "data": {
      "text/plain": [
       "<AxesSubplot:xlabel='sex', ylabel='count'>"
      ]
     },
     "execution_count": 58,
     "metadata": {},
     "output_type": "execute_result"
    },
    {
     "data": {
      "image/png": "[encoded data removed]",
      "text/plain": [
       "<Figure size 640x480 with 1 Axes>"
      ]
     },
     "metadata": {},
     "output_type": "display_data"
    }
   ],
   "source": [
    "# order = sorted(data[col].unique())\n",
    "sns.countplot(data=X_test, x=\"sex\", hue=\"true_prediction\")"
   ]
  },
  {
   "cell_type": "code",
   "execution_count": 59,
   "metadata": {
    "ExecuteTime": {
     "end_time": "2023-12-02T23:23:16.369444Z",
     "start_time": "2023-12-02T23:23:16.310789Z"
    }
   },
   "outputs": [
    {
     "data": {
      "text/plain": [
       "<AxesSubplot:xlabel='sex', ylabel='count'>"
      ]
     },
     "execution_count": 59,
     "metadata": {},
     "output_type": "execute_result"
    },
    {
     "data": {
      "image/png": "[encoded data removed]",
      "text/plain": [
       "<Figure size 640x480 with 1 Axes>"
      ]
     },
     "metadata": {},
     "output_type": "display_data"
    }
   ],
   "source": [
    "# order = sorted(data[col].unique())\n",
    "sns.countplot(data=X_test, x=\"sex\", hue=\"model_prediction\")"
   ]
  },
  {
   "cell_type": "markdown",
   "metadata": {},
   "source": [
    "## Insights:\n",
    "\n",
    "- We can clearly observe our model to become biased towards African Americans in terms of race and bent towards Males."
   ]
  },
  {
   "cell_type": "markdown",
   "metadata": {},
   "source": [
    "**Checking probability distribution across genders:**"
   ]
  },
  {
   "cell_type": "code",
   "execution_count": 60,
   "metadata": {
    "ExecuteTime": {
     "end_time": "2023-12-02T23:23:17.214901Z",
     "start_time": "2023-12-02T23:23:17.049612Z"
    }
   },
   "outputs": [
    {
     "data": {
      "text/plain": [
       "<seaborn.axisgrid.FacetGrid at 0x7fcd957bb6d0>"
      ]
     },
     "execution_count": 60,
     "metadata": {},
     "output_type": "execute_result"
    },
    {
     "data": {
      "text/plain": [
       "<Figure size 1000x600 with 0 Axes>"
      ]
     },
     "metadata": {},
     "output_type": "display_data"
    },
    {
     "data": {
      "image/png": "[encoded data removed]",
      "text/plain": [
       "<Figure size 558.875x500 with 1 Axes>"
      ]
     },
     "metadata": {},
     "output_type": "display_data"
    }
   ],
   "source": [
    "sex_prob_dist_df = pd.merge(\n",
    "    predictions_df, X_test[\"sex\"], left_index=True, right_index=True\n",
    ")\n",
    "plt.figure(figsize=(10, 6))\n",
    "sns.displot(sex_prob_dist_df, x=\"y_pred_prob\", hue=\"sex\")"
   ]
  },
  {
   "cell_type": "markdown",
   "metadata": {},
   "source": [
    "Checking the performance of the baseline model on the below metrics:\n",
    "1. Statistical Parity : Comparing the Positive Prediction Rate/Precision across groups. i.e. comparing the actual postives against the predicted postives. i.e out of model's postive predictions, how many actually reoffended. A fair model should not have too low of a PPR for sensitive groups since that indicates that model unfairly predicts that many people would reoffend, compred to what aftually did\n",
    "2. Equal Opportunity : What is the probability that an actual poitive will test positive, i.e. an actual reoffender will be classified as a reoffender? We will compare TPR across groups to compare this. Model should not have too low of a TPR for previledged groups\n",
    "3. <b>False Positive Rate Disparity : difference across groups in the probability of falsely predicting the reoffence, when they didnt commit one. This will be the metric we will be trying to control going forward, to avoid falsly accusing innocents, and be fair across groups</b> "
   ]
  },
  {
   "cell_type": "markdown",
   "metadata": {},
   "source": [
    "<I>Note that the negative values of these metrics are due tot he fact that the metrics are defined considering '1' as 'favorable' outcome and '0' as unfavorable outcome, hence we will be taking negative signs of those and inverting the ratio metrics to keep the results intuitive and inline with thier usual meanings"
   ]
  },
  {
   "cell_type": "code",
   "execution_count": 61,
   "metadata": {
    "ExecuteTime": {
     "end_time": "2023-12-02T23:23:17.810359Z",
     "start_time": "2023-12-02T23:23:17.804731Z"
    }
   },
   "outputs": [],
   "source": [
    "gender_group_female = X_test[\"sex\"] == 0\n",
    "gender_group_male = X_test[\"sex\"] == 1"
   ]
  },
  {
   "cell_type": "markdown",
   "metadata": {},
   "source": [
    "<b>1. Statistical parity:</b>"
   ]
  },
  {
   "cell_type": "code",
   "execution_count": 62,
   "metadata": {
    "ExecuteTime": {
     "end_time": "2023-12-02T23:23:18.181679Z",
     "start_time": "2023-12-02T23:23:18.171854Z"
    }
   },
   "outputs": [
    {
     "data": {
      "text/plain": [
       "0.2511822447215706"
      ]
     },
     "execution_count": 62,
     "metadata": {},
     "output_type": "execute_result"
    }
   ],
   "source": [
    "abs(statistical_parity(gender_group_female, gender_group_male, y_pred_test))"
   ]
  },
  {
   "cell_type": "markdown",
   "metadata": {},
   "source": [
    "Statistical parity is positive. Meaning the model is biased against gender_group_male. It should be as close to 0 as possible.\n",
    "We will try to verify it below"
   ]
  },
  {
   "cell_type": "code",
   "execution_count": 63,
   "metadata": {
    "ExecuteTime": {
     "end_time": "2023-12-02T23:23:18.816327Z",
     "start_time": "2023-12-02T23:23:18.791403Z"
    }
   },
   "outputs": [
    {
     "data": {
      "text/html": [
       "<div>\n",
       "<style scoped>\n",
       "    .dataframe tbody tr th:only-of-type {\n",
       "        vertical-align: middle;\n",
       "    }\n",
       "\n",
       "    .dataframe tbody tr th {\n",
       "        vertical-align: top;\n",
       "    }\n",
       "\n",
       "    .dataframe thead th {\n",
       "        text-align: right;\n",
       "    }\n",
       "</style>\n",
       "<table border=\"1\" class=\"dataframe\">\n",
       "  <thead>\n",
       "    <tr style=\"text-align: right;\">\n",
       "      <th></th>\n",
       "      <th>positive_prediction</th>\n",
       "      <th>true_prediction</th>\n",
       "      <th>PPR</th>\n",
       "    </tr>\n",
       "    <tr>\n",
       "      <th>sex</th>\n",
       "      <th></th>\n",
       "      <th></th>\n",
       "      <th></th>\n",
       "    </tr>\n",
       "  </thead>\n",
       "  <tbody>\n",
       "    <tr>\n",
       "      <th>0</th>\n",
       "      <td>71</td>\n",
       "      <td>49</td>\n",
       "      <td>0.690141</td>\n",
       "    </tr>\n",
       "    <tr>\n",
       "      <th>1</th>\n",
       "      <td>584</td>\n",
       "      <td>389</td>\n",
       "      <td>0.666096</td>\n",
       "    </tr>\n",
       "  </tbody>\n",
       "</table>\n",
       "</div>"
      ],
      "text/plain": [
       "     positive_prediction  true_prediction       PPR\n",
       "sex                                                \n",
       "0                     71               49  0.690141\n",
       "1                    584              389  0.666096"
      ]
     },
     "execution_count": 63,
     "metadata": {},
     "output_type": "execute_result"
    }
   ],
   "source": [
    "# Taking the reoffenders data\n",
    "positive_pred_sex_df = X_test[X_test[\"model_prediction\"] == 1]\n",
    "\n",
    "# taking positive predictions\n",
    "Positive_pred_rate_sex_df = (\n",
    "    positive_pred_sex_df.groupby(\"sex\")[\"model_prediction\", \"true_prediction\"]\n",
    "    .sum()\n",
    "    .rename(\n",
    "        columns={\n",
    "            \"model_prediction\": \"positive_prediction\",\n",
    "            \"true_prediction\": \"true_prediction\",\n",
    "        }\n",
    "    )\n",
    ")\n",
    "\n",
    "Positive_pred_rate_sex_df[\"PPR\"] = (\n",
    "    Positive_pred_rate_sex_df[\"true_prediction\"]\n",
    "    / Positive_pred_rate_sex_df[\"positive_prediction\"]\n",
    ")\n",
    "Positive_pred_rate_sex_df"
   ]
  },
  {
   "cell_type": "markdown",
   "metadata": {},
   "source": [
    "very slight bias in terms of disriminating over gender as per statistical Parity"
   ]
  },
  {
   "cell_type": "markdown",
   "metadata": {},
   "source": [
    "<b> 2. Equal opportunity : is there differene in Recall across gender groups? That means, out of all the true reoffenders across groups, are we eually likely to predict the chances of reoffence for all the groups? </b>\n"
   ]
  },
  {
   "cell_type": "markdown",
   "metadata": {},
   "source": [
    "If we are fair, metric would be 0 , meaning equally likely to predict positive from actual positives across groups. more the deviation, more unfair we are"
   ]
  },
  {
   "cell_type": "code",
   "execution_count": 64,
   "metadata": {
    "ExecuteTime": {
     "end_time": "2023-12-02T23:23:19.939539Z",
     "start_time": "2023-12-02T23:23:19.928532Z"
    }
   },
   "outputs": [
    {
     "data": {
      "text/plain": [
       "0.23934537407195888"
      ]
     },
     "execution_count": 64,
     "metadata": {},
     "output_type": "execute_result"
    }
   ],
   "source": [
    "abs(equal_opportunity_diff(gender_group_female, gender_group_male, y_pred_test, y_test))"
   ]
  },
  {
   "cell_type": "markdown",
   "metadata": {},
   "source": [
    "Model is slightly unfair towards male group. Let us verify by calculating recall across gender groups"
   ]
  },
  {
   "cell_type": "code",
   "execution_count": 65,
   "metadata": {
    "ExecuteTime": {
     "end_time": "2023-12-02T23:23:20.483697Z",
     "start_time": "2023-12-02T23:23:20.461121Z"
    }
   },
   "outputs": [
    {
     "data": {
      "text/html": [
       "<div>\n",
       "<style scoped>\n",
       "    .dataframe tbody tr th:only-of-type {\n",
       "        vertical-align: middle;\n",
       "    }\n",
       "\n",
       "    .dataframe tbody tr th {\n",
       "        vertical-align: top;\n",
       "    }\n",
       "\n",
       "    .dataframe thead th {\n",
       "        text-align: right;\n",
       "    }\n",
       "</style>\n",
       "<table border=\"1\" class=\"dataframe\">\n",
       "  <thead>\n",
       "    <tr style=\"text-align: right;\">\n",
       "      <th></th>\n",
       "      <th>positive_prediction</th>\n",
       "      <th>true_prediction</th>\n",
       "      <th>TPR</th>\n",
       "    </tr>\n",
       "    <tr>\n",
       "      <th>sex</th>\n",
       "      <th></th>\n",
       "      <th></th>\n",
       "      <th></th>\n",
       "    </tr>\n",
       "  </thead>\n",
       "  <tbody>\n",
       "    <tr>\n",
       "      <th>0</th>\n",
       "      <td>49</td>\n",
       "      <td>103</td>\n",
       "      <td>0.475728</td>\n",
       "    </tr>\n",
       "    <tr>\n",
       "      <th>1</th>\n",
       "      <td>389</td>\n",
       "      <td>544</td>\n",
       "      <td>0.715074</td>\n",
       "    </tr>\n",
       "  </tbody>\n",
       "</table>\n",
       "</div>"
      ],
      "text/plain": [
       "     positive_prediction  true_prediction       TPR\n",
       "sex                                                \n",
       "0                     49              103  0.475728\n",
       "1                    389              544  0.715074"
      ]
     },
     "execution_count": 65,
     "metadata": {},
     "output_type": "execute_result"
    }
   ],
   "source": [
    "positive_act_sex_df = X_test[X_test[\"true_prediction\"] == 1]  # taking positive actuals\n",
    "true_pos_rate_sex_df = (\n",
    "    positive_act_sex_df.groupby(\"sex\")[\"model_prediction\", \"true_prediction\"]\n",
    "    .sum()\n",
    "    .rename(\n",
    "        columns={\n",
    "            \"model_prediction\": \"positive_prediction\",\n",
    "            \"true_prediction\": \"true_prediction\",\n",
    "        }\n",
    "    )\n",
    ")\n",
    "true_pos_rate_sex_df[\"TPR\"] = (\n",
    "    true_pos_rate_sex_df[\"positive_prediction\"]\n",
    "    / true_pos_rate_sex_df[\"true_prediction\"]\n",
    ")\n",
    "true_pos_rate_sex_df"
   ]
  },
  {
   "cell_type": "markdown",
   "metadata": {},
   "source": [
    "Recall for Males is much much higher than Females"
   ]
  },
  {
   "cell_type": "markdown",
   "metadata": {},
   "source": [
    "<b>3. False Positive Rate Disparity : Compares FPR, i.e probability of predicting as criminal even when they are not!"
   ]
  },
  {
   "cell_type": "code",
   "execution_count": 70,
   "metadata": {
    "ExecuteTime": {
     "end_time": "2023-12-02T23:30:25.221231Z",
     "start_time": "2023-12-02T23:30:25.206514Z"
    }
   },
   "outputs": [
    {
     "name": "stdout",
     "output_type": "stream",
     "text": [
      "The FPR difference between Gender group male and female is found to be:0.193813881899706\n"
     ]
    }
   ],
   "source": [
    "fpr_diff_val = abs(\n",
    "    false_positive_rate_diff(\n",
    "        gender_group_female, gender_group_male, y_pred_test, y_test\n",
    "    )\n",
    ")\n",
    "print(\n",
    "    f\"The FPR difference between Gender group male and female is found to be:{fpr_diff_val}\"\n",
    ")"
   ]
  },
  {
   "cell_type": "code",
   "execution_count": 67,
   "metadata": {
    "ExecuteTime": {
     "end_time": "2023-12-02T23:23:21.517725Z",
     "start_time": "2023-12-02T23:23:21.498150Z"
    }
   },
   "outputs": [
    {
     "data": {
      "text/html": [
       "<div>\n",
       "<style scoped>\n",
       "    .dataframe tbody tr th:only-of-type {\n",
       "        vertical-align: middle;\n",
       "    }\n",
       "\n",
       "    .dataframe tbody tr th {\n",
       "        vertical-align: top;\n",
       "    }\n",
       "\n",
       "    .dataframe thead th {\n",
       "        text-align: right;\n",
       "    }\n",
       "</style>\n",
       "<table border=\"1\" class=\"dataframe\">\n",
       "  <thead>\n",
       "    <tr style=\"text-align: right;\">\n",
       "      <th></th>\n",
       "      <th>positive_prediction</th>\n",
       "      <th>actual_negatives</th>\n",
       "      <th>FPR</th>\n",
       "    </tr>\n",
       "    <tr>\n",
       "      <th>sex</th>\n",
       "      <th></th>\n",
       "      <th></th>\n",
       "      <th></th>\n",
       "    </tr>\n",
       "  </thead>\n",
       "  <tbody>\n",
       "    <tr>\n",
       "      <th>0</th>\n",
       "      <td>22</td>\n",
       "      <td>177</td>\n",
       "      <td>0.124294</td>\n",
       "    </tr>\n",
       "    <tr>\n",
       "      <th>1</th>\n",
       "      <td>195</td>\n",
       "      <td>613</td>\n",
       "      <td>0.318108</td>\n",
       "    </tr>\n",
       "  </tbody>\n",
       "</table>\n",
       "</div>"
      ],
      "text/plain": [
       "     positive_prediction  actual_negatives       FPR\n",
       "sex                                                 \n",
       "0                     22               177  0.124294\n",
       "1                    195               613  0.318108"
      ]
     },
     "execution_count": 67,
     "metadata": {},
     "output_type": "execute_result"
    }
   ],
   "source": [
    "negative_act_sex_df = X_test[X_test[\"true_prediction\"] == 0]  # taking negative actuals\n",
    "fpr_sex_df = (\n",
    "    negative_act_sex_df.groupby(\"sex\")[\"model_prediction\"]\n",
    "    .aggregate([\"sum\", \"count\"])\n",
    "    .rename(columns={\"sum\": \"positive_prediction\", \"count\": \"actual_negatives\"})\n",
    ")\n",
    "fpr_sex_df[\"FPR\"] = fpr_sex_df[\"positive_prediction\"] / fpr_sex_df[\"actual_negatives\"]\n",
    "\n",
    "fpr_sex_df"
   ]
  },
  {
   "cell_type": "code",
   "execution_count": 68,
   "metadata": {
    "ExecuteTime": {
     "end_time": "2023-12-02T23:23:22.055359Z",
     "start_time": "2023-12-02T23:23:21.980858Z"
    }
   },
   "outputs": [
    {
     "data": {
      "text/plain": [
       "[Text(0, 0, '0.124294'), Text(0, 0, '0.318108')]"
      ]
     },
     "execution_count": 68,
     "metadata": {},
     "output_type": "execute_result"
    },
    {
     "data": {
      "image/png": "[encoded data removed]",
      "text/plain": [
       "<Figure size 640x480 with 1 Axes>"
      ]
     },
     "metadata": {},
     "output_type": "display_data"
    }
   ],
   "source": [
    "plt.figure()\n",
    "ax = sns.barplot(x=fpr_sex_df.index, y=fpr_sex_df[\"FPR\"])\n",
    "plt.title(\"FPR of Male vs Female\")\n",
    "plt.xlabel(\"Sex\")\n",
    "plt.ylabel(\"FPR\")\n",
    "ax.bar_label(ax.containers[0])"
   ]
  },
  {
   "cell_type": "markdown",
   "metadata": {},
   "source": [
    "Males are more likely to be predicted as reoffenders even when they are not. "
   ]
  },
  {
   "cell_type": "markdown",
   "metadata": {},
   "source": [
    "**Performing similar analysis for race**"
   ]
  },
  {
   "cell_type": "code",
   "execution_count": 35,
   "metadata": {
    "ExecuteTime": {
     "end_time": "2023-12-02T05:18:04.591190Z",
     "start_time": "2023-12-02T05:18:04.565835Z"
    }
   },
   "outputs": [
    {
     "name": "stdout",
     "output_type": "stream",
     "text": [
      "sex\n",
      "sex 0.1946894498668215\n",
      "African-American_race\n",
      "African-American_race 0.15927251971772521\n",
      "Asian_race\n",
      "Asian_race -0.2835249042145594\n",
      "Hispanic_race\n",
      "Hispanic_race -0.04140829543888658\n",
      "Native American_race\n",
      "Native American_race 0.21954314720812185\n",
      "Other_race\n",
      "Other_race -0.0585238473157369\n"
     ]
    }
   ],
   "source": [
    "# Get a race dataframe for analysis\n",
    "race_df = pd.merge(\n",
    "    X_test[\n",
    "        [\n",
    "            \"sex\",\n",
    "            \"African-American_race\",\n",
    "            \"Asian_race\",\n",
    "            \"Hispanic_race\",\n",
    "            \"Native American_race\",\n",
    "            \"Other_race\",\n",
    "        ]\n",
    "    ],\n",
    "    predictions_df,\n",
    "    left_index=True,\n",
    "    right_index=True,\n",
    ")\n",
    "race_df[\"sex\"] = race_df[\"sex\"].astype(\"category\")\n",
    "race_df[\"African-American_race\"] = race_df[\"African-American_race\"].astype(\"category\")\n",
    "race_df[\"Asian_race\"] = race_df[\"Asian_race\"].astype(\"category\")\n",
    "race_df[\"Hispanic_race\"] = race_df[\"Hispanic_race\"].astype(\"category\")\n",
    "race_df[\"Native American_race\"] = race_df[\"Native American_race\"].astype(\"category\")\n",
    "race_df[\"Other_race\"] = race_df[\"Other_race\"].astype(\"category\")\n",
    "\n",
    "# Getting into a dataframe\n",
    "fairness_eval_race_df = pd.DataFrame(columns=[\"column\", \"fprd\"])\n",
    "\n",
    "# Get the predictions labels\n",
    "y_pred = race_df[\"y_pred_labels\"]\n",
    "y_true = race_df[\"y_true_labels\"]\n",
    "\n",
    "# Calculate the False positive rate over different races\n",
    "for col in race_df.columns[0:6]:\n",
    "    print(col)\n",
    "    privileged_group = race_df[col] == 0\n",
    "    unprivileged_group = race_df[col] == 1\n",
    "    fpr_diff = false_positive_rate_diff(\n",
    "        unprivileged_group, privileged_group, y_pred, y_true\n",
    "    )\n",
    "    print(col, fpr_diff)"
   ]
  },
  {
   "cell_type": "markdown",
   "metadata": {},
   "source": [
    "## Insights:\n",
    "\n",
    "- If we see the difference of FPR rates for sex and African-American race to be significantly higher side "
   ]
  },
  {
   "cell_type": "code",
   "execution_count": 36,
   "metadata": {
    "ExecuteTime": {
     "end_time": "2023-12-02T05:18:06.219544Z",
     "start_time": "2023-12-02T05:18:06.206470Z"
    }
   },
   "outputs": [
    {
     "name": "stdout",
     "output_type": "stream",
     "text": [
      "0.20642788300780868\n"
     ]
    }
   ],
   "source": [
    "privileged_group = race_df[\"African-American_race\"] == 0\n",
    "unprivileged_group = race_df[\"African-American_race\"] == 1\n",
    "print(\n",
    "    equal_opportunity_diff(\n",
    "        unprivileged_group,\n",
    "        privileged_group,\n",
    "        race_df[\"y_pred_labels\"],\n",
    "        race_df[\"y_true_labels\"],\n",
    "    )\n",
    ")"
   ]
  },
  {
   "cell_type": "code",
   "execution_count": 37,
   "metadata": {
    "ExecuteTime": {
     "end_time": "2023-12-02T05:18:08.780965Z",
     "start_time": "2023-12-02T05:18:08.688180Z"
    }
   },
   "outputs": [
    {
     "data": {
      "text/plain": [
       "<AxesSubplot:xlabel='African-American_race', ylabel='count'>"
      ]
     },
     "execution_count": 37,
     "metadata": {},
     "output_type": "execute_result"
    },
    {
     "data": {
      "image/png": "[encoded data removed]",
      "text/plain": [
       "<Figure size 640x480 with 1 Axes>"
      ]
     },
     "metadata": {},
     "output_type": "display_data"
    }
   ],
   "source": [
    "# order = sorted(data[col].unique())\n",
    "sns.countplot(data=X_test, x=\"African-American_race\", hue=\"model_prediction\")"
   ]
  },
  {
   "cell_type": "code",
   "execution_count": 38,
   "metadata": {
    "ExecuteTime": {
     "end_time": "2023-12-02T05:18:09.967947Z",
     "start_time": "2023-12-02T05:18:09.796009Z"
    }
   },
   "outputs": [
    {
     "name": "stdout",
     "output_type": "stream",
     "text": [
      "count of unprivileged vs previleged:\n",
      " False    1429\n",
      "True        8\n",
      "Name: Asian_race, dtype: int64\n",
      "------------------------------------------------------------\n",
      "statistical parity :  -0.33336249125262424\n",
      "equal opportunity diff: 0.3297213622291022\n",
      "fprd : -0.2835249042145594\n",
      "dpi : 0.2727099236641221\n",
      "\n"
     ]
    },
    {
     "data": {
      "text/plain": [
       "<Figure size 1000x600 with 0 Axes>"
      ]
     },
     "metadata": {},
     "output_type": "display_data"
    },
    {
     "data": {
      "image/png": "[encoded data removed]",
      "text/plain": [
       "<Figure size 667.986x500 with 1 Axes>"
      ]
     },
     "metadata": {},
     "output_type": "display_data"
    }
   ],
   "source": [
    "plt.figure(figsize=(10, 6))\n",
    "sns.displot(race_df, x=\"y_pred_prob\", hue=\"African-American_race\", kind=\"kde\")\n",
    "privileged_group = race_df[\"Asian_race\"] == 0\n",
    "unprivileged_group = race_df[\"Asian_race\"] == 1\n",
    "y_pred = race_df[\"y_pred_labels\"]\n",
    "y_true = race_df[\"y_true_labels\"]\n",
    "print(\"count of unprivileged vs previleged:\\n\", unprivileged_group.value_counts())\n",
    "print(\"------------------------------------------------------------\")\n",
    "sp = statistical_parity(unprivileged_group, privileged_group, y_pred)\n",
    "print(\"statistical parity : \", sp)\n",
    "eod = equal_opportunity_diff(unprivileged_group, privileged_group, y_pred, y_true)\n",
    "print(\"equal opportunity diff:\", eod)\n",
    "fprd = false_positive_rate_diff(unprivileged_group, privileged_group, y_pred, y_true)\n",
    "print(\"fprd :\", fprd)\n",
    "dpi = disparate_impact(unprivileged_group, privileged_group, y_pred)\n",
    "print(\"dpi :\", dpi)\n",
    "\n",
    "print()"
   ]
  },
  {
   "cell_type": "code",
   "execution_count": 40,
   "metadata": {
    "ExecuteTime": {
     "end_time": "2023-12-02T05:18:12.586017Z",
     "start_time": "2023-12-02T05:18:12.561984Z"
    }
   },
   "outputs": [
    {
     "data": {
      "text/html": [
       "<div>\n",
       "<style scoped>\n",
       "    .dataframe tbody tr th:only-of-type {\n",
       "        vertical-align: middle;\n",
       "    }\n",
       "\n",
       "    .dataframe tbody tr th {\n",
       "        vertical-align: top;\n",
       "    }\n",
       "\n",
       "    .dataframe thead th {\n",
       "        text-align: right;\n",
       "    }\n",
       "</style>\n",
       "<table border=\"1\" class=\"dataframe\">\n",
       "  <thead>\n",
       "    <tr style=\"text-align: right;\">\n",
       "      <th></th>\n",
       "      <th>positive_prediction</th>\n",
       "      <th>actual_negatives</th>\n",
       "      <th>FPR</th>\n",
       "    </tr>\n",
       "    <tr>\n",
       "      <th>African-American_race</th>\n",
       "      <th></th>\n",
       "      <th></th>\n",
       "      <th></th>\n",
       "    </tr>\n",
       "  </thead>\n",
       "  <tbody>\n",
       "    <tr>\n",
       "      <th>0</th>\n",
       "      <td>92</td>\n",
       "      <td>438</td>\n",
       "      <td>0.210046</td>\n",
       "    </tr>\n",
       "    <tr>\n",
       "      <th>1</th>\n",
       "      <td>130</td>\n",
       "      <td>352</td>\n",
       "      <td>0.369318</td>\n",
       "    </tr>\n",
       "  </tbody>\n",
       "</table>\n",
       "</div>"
      ],
      "text/plain": [
       "                       positive_prediction  actual_negatives       FPR\n",
       "African-American_race                                                 \n",
       "0                                       92               438  0.210046\n",
       "1                                      130               352  0.369318"
      ]
     },
     "execution_count": 40,
     "metadata": {},
     "output_type": "execute_result"
    }
   ],
   "source": [
    "negative_act_amrace_df = X_test[X_test[\"true_prediction\"] == 0]\n",
    "\n",
    "# taking negative actuals\n",
    "fpr_am_race_df = (\n",
    "    negative_act_amrace_df.groupby(\"African-American_race\")[\"model_prediction\"]\n",
    "    .aggregate([\"sum\", \"count\"])\n",
    "    .rename(columns={\"sum\": \"positive_prediction\", \"count\": \"actual_negatives\"})\n",
    ")\n",
    "fpr_am_race_df[\"FPR\"] = (\n",
    "    fpr_am_race_df[\"positive_prediction\"] / fpr_am_race_df[\"actual_negatives\"]\n",
    ")\n",
    "fpr_am_race_df"
   ]
  },
  {
   "cell_type": "code",
   "execution_count": 41,
   "metadata": {
    "ExecuteTime": {
     "end_time": "2023-12-02T05:18:13.337317Z",
     "start_time": "2023-12-02T05:18:13.092338Z"
    }
   },
   "outputs": [
    {
     "data": {
      "text/plain": [
       "[Text(0, 0, '0.210046'), Text(0, 0, '0.369318')]"
      ]
     },
     "execution_count": 41,
     "metadata": {},
     "output_type": "execute_result"
    },
    {
     "data": {
      "image/png": "[encoded data removed]",
      "text/plain": [
       "<Figure size 640x480 with 1 Axes>"
      ]
     },
     "metadata": {},
     "output_type": "display_data"
    }
   ],
   "source": [
    "plt.figure()\n",
    "ax = sns.barplot(x=fpr_am_race_df.index, y=fpr_am_race_df[\"FPR\"])\n",
    "plt.title(\"FPR of African Americans vs All other races\")\n",
    "plt.xlabel(\"African-American_race\")\n",
    "plt.ylabel(\"FPR\")\n",
    "ax.bar_label(ax.containers[0])"
   ]
  },
  {
   "cell_type": "markdown",
   "metadata": {},
   "source": [
    "## Insights"
   ]
  },
  {
   "cell_type": "markdown",
   "metadata": {},
   "source": [
    "African americans are 16% more likely to be wrongly accused of reoffense"
   ]
  },
  {
   "cell_type": "markdown",
   "metadata": {},
   "source": [
    "**Remarks:**\n",
    "\n",
    "1. The False Positive Rates (FPRs) are notably higher for both gender and African Americans compared to privileged groups. This discrepancy highlights a potential bias in the model's predictions.\n",
    "\n",
    "2. While addressing this bias, it is anticipated that there will be a decrease in the model's recall. This adjustment aims to reduce the occurrence of False Positives, particularly in relation to gender and African American groups, as part of the efforts to enhance fairness and equity in the model's outcomes.\n"
   ]
  },
  {
   "cell_type": "markdown",
   "metadata": {},
   "source": [
    "<b><h2>  Mitigating the bias"
   ]
  },
  {
   "cell_type": "markdown",
   "metadata": {},
   "source": [
    "<h4><b>1. In-Processing"
   ]
  },
  {
   "cell_type": "markdown",
   "metadata": {},
   "source": [
    "- Modifying the data to reduce the bias in the model. \n",
    "1. Resampling :  We can resample the minority groups to make representation more fair, but in our case it is not advisable to generate aretififal samples due to the nature of the data and problem statement at hand\n",
    "2. Reweighting : We will re-weight the data- minority samples in particular to increase their representation. "
   ]
  }
 ],
 "metadata": {
  "colab": {
   "provenance": []
  },
  "kernelspec": {
   "display_name": "Python 3 (ipykernel)",
   "language": "python",
   "name": "python3"
  },
  "language_info": {
   "codemirror_mode": {
    "name": "ipython",
    "version": 3
   },
   "file_extension": ".py",
   "mimetype": "text/x-python",
   "name": "python",
   "nbconvert_exporter": "python",
   "pygments_lexer": "ipython3",
   "version": "3.9.13"
  }
 },
 "nbformat": 4,
 "nbformat_minor": 1
}
